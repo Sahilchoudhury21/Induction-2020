{
 "cells": [
  {
   "cell_type": "markdown",
   "metadata": {},
   "source": [
    "## INTRODUCING PYTHON BASICS:\n",
    "\n",
    "  ### The first thing we are going to learn about is variables.\n",
    "  \n",
    "  ## VARIABLES:\n",
    "  1.Variables are containers for storing data values.\n",
    "  2.Unlike other programming languages, Python has no command for declaring a variable.\n",
    "  3.A variable is created the moment you first assign a value to it.\n",
    "  \n",
    "  Here is an example for you:"
   ]
  },
  {
   "cell_type": "code",
   "execution_count": null,
   "metadata": {},
   "outputs": [],
   "source": [
    "x = "
   ]
  }
 ],
 "metadata": {
  "kernelspec": {
   "display_name": "Python 3",
   "language": "python",
   "name": "python3"
  },
  "language_info": {
   "codemirror_mode": {
    "name": "ipython",
    "version": 3
   },
   "file_extension": ".py",
   "mimetype": "text/x-python",
   "name": "python",
   "nbconvert_exporter": "python",
   "pygments_lexer": "ipython3",
   "version": "3.8.2"
  }
 },
 "nbformat": 4,
 "nbformat_minor": 4
}
