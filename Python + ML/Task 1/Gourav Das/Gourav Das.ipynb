{
 "cells": [
  {
   "cell_type": "markdown",
   "metadata": {},
   "source": [
    "# 1.Variables\n",
    "Variables are used to store value of a particular input. But in Python there is no need to declare the datatype of the variable unless it is needed to be expicitly converted. The variable name should be according to any general rule if writing an identifier.\n"
   ]
  },
  {
   "cell_type": "code",
   "execution_count": 1,
   "metadata": {},
   "outputs": [],
   "source": [
    "x=10 #Variable used to store integer value\n",
    "y=8.46  #Variable used to store floating value\n",
    "my_name=\"Gourav\" #Variable used to store a string value which can be done by double or single quoted."
   ]
  },
  {
   "cell_type": "markdown",
   "metadata": {},
   "source": [
    "# 2. Print Statement\n",
    "The print statement is a function in Python language that can print a value or a message or both. The output can be also explicitly converted to another data type if possible.\n"
   ]
  },
  {
   "cell_type": "code",
   "execution_count": 2,
   "metadata": {},
   "outputs": [
    {
     "name": "stdout",
     "output_type": "stream",
     "text": [
      "10\n",
      "\n",
      "\n",
      "Test message\n",
      "The number is: 10\n"
     ]
    }
   ],
   "source": [
    "x=10\n",
    "print(x)    # Only to print a value \n",
    "print(\"\\n\") #To print a blank line\n",
    "print(\"Test message\") #To print only a message\n",
    "print(\"The number is:\",x) # To print both message and value"
   ]
  },
  {
   "cell_type": "markdown",
   "metadata": {},
   "source": [
    "# 3.Data Types and Type Casting\n",
    "Python language supports three fundamental data types.They are:\n",
    "   -->int(To store integral value)\n",
    "   -->str(To store string value)\n",
    "   -->float (To store floating values)\n",
    "   \n",
    "   Python also supports Type casting i.e. Conversion of one data type into another explicitly as required."
   ]
  },
  {
   "cell_type": "code",
   "execution_count": 1,
   "metadata": {},
   "outputs": [
    {
     "name": "stdout",
     "output_type": "stream",
     "text": [
      "105\n",
      "9\n"
     ]
    }
   ],
   "source": [
    "x=10\n",
    "y=5\n",
    "z=str(x)+str(y)\n",
    "print(z) #Adding two integers by type conversion\n",
    "\n",
    "x=\"2\"\n",
    "y=\"7\"\n",
    "z=int(x)+int(y)\n",
    "print(z) #Adding two strings by type conversion\n",
    "\n"
   ]
  },
  {
   "cell_type": "markdown",
   "metadata": {},
   "source": [
    "# 4.String and String Formating\n",
    "In python language everything within a pair of inverted commas is treated as string.\n",
    "String formating can be performed in a various ways depending upon your version of python language.But before we begin we just need to know a few things:\n",
    " ℅s- for strings\n",
    " %d- for integers\n",
    " %f- for floating values\n",
    "The above are type specifiers that come in handy while string formating."
   ]
  },
  {
   "cell_type": "code",
   "execution_count": 1,
   "metadata": {},
   "outputs": [
    {
     "name": "stdout",
     "output_type": "stream",
     "text": [
      "Hello Gourav\n",
      "Hello Gourav\n",
      "\n",
      "\n",
      "Hello Gourav Das\n",
      "Hello Gourav Das.What's up today\n"
     ]
    }
   ],
   "source": [
    "#For single variable\n",
    "temp=\"Gourav\"\n",
    "m1=\"Hello %s\"%temp #For python version<3.6\n",
    "m2=f\"Hello {temp}\"#For python version>=3.6\n",
    "print(m1)\n",
    "print (m2)\n",
    "\n",
    "#For multiple variables\n",
    "name=\"Gourav\"\n",
    "surname=\"Das\"\n",
    "when=\"today\"\n",
    "print(\"\\n\")\n",
    "m1=\"Hello %s %s\"%(name,surname) #For Python version<3.6\n",
    "m2=f\"Hello {name} {surname}.What's up {when}\"# For Python version>=3.6\n",
    "print(m1)\n",
    "print(m2) \n"
   ]
  },
  {
   "cell_type": "markdown",
   "metadata": {},
   "source": [
    "# 5.String Methods:\n",
    "      There are various string methods that one can use in python      language to make the programmes easier and simpler.Methods can be functions or attributes. Some of the following string methods are:\n",
    "      --> count()-Returns the number of non-overlapping occurrences of a particular substring in that string\n",
    "      --> capitalize()-Returns a capitalized version of the string.\n",
    "      -->sizeof()-Returns the size of the string in memory in bytes\n",
    "      -->upper()-Returns a copy of the string in uppercase\n",
    "      -->lower()-Returns a cipy if tye string in lowercase\n",
    "      \n"
   ]
  },
  {
   "cell_type": "code",
   "execution_count": 4,
   "metadata": {},
   "outputs": [
    {
     "name": "stdout",
     "output_type": "stream",
     "text": [
      "Hello\n",
      "5\n",
      "HELLO\n",
      "Hello\n"
     ]
    }
   ],
   "source": [
    "name=\"hello\"\n",
    "print(\"hello\".title())\n",
    "print(len(name))\n",
    "print(\"hello\".upper())\n",
    "print(\"hello\".capitalize())"
   ]
  },
  {
   "cell_type": "markdown",
   "metadata": {},
   "source": [
    "# 6.Lists\n",
    "     A list in a Python language is a compound data type and is a one dimensional array or a mutable sequence. A list also has two type of indexing both positive and negative.\n",
    "     Some common list functions are:\n",
    "     --> append()-Append object to the end of the list.\n",
    "     -->count()-Return number of occurrences of a particular value in the list.\n",
    "     -->copy()-Returns a shallow copy of the list\n",
    "     -->clear()-Removes all items from the list.\n",
    "     "
   ]
  },
  {
   "cell_type": "code",
   "execution_count": 5,
   "metadata": {},
   "outputs": [
    {
     "name": "stdout",
     "output_type": "stream",
     "text": [
      "[8.6, 9.1, 7.2, 8.1]\n",
      "0\n",
      "[9.1, 7.2]\n"
     ]
    }
   ],
   "source": [
    "student_grads=[8.6,9.1,7.2]\n",
    "student_grads.append(8.1)\n",
    "print(student_grads)\n",
    "print(student_grads. index(8.6))\n",
    "print(student_grads[1:3])\n"
   ]
  },
  {
   "cell_type": "markdown",
   "metadata": {},
   "source": [
    "# 7.Tuples\n",
    "    A tuple is just similar to a list but it has pair of parenthesis. Apart from that tuples are static and are not mutable. But it is advantageous over list because it is faster as compared to a list.\n",
    "    Some common tuple methods are:\n",
    "    -->len()- Return the length of the tuple.\n",
    "    -->count()-Return number of occurrences of value."
   ]
  },
  {
   "cell_type": "code",
   "execution_count": 1,
   "metadata": {
    "scrolled": true
   },
   "outputs": [
    {
     "name": "stdout",
     "output_type": "stream",
     "text": [
      "5\n",
      "2\n"
     ]
    }
   ],
   "source": [
    "my_tup=(2,2,4,5,7)\n",
    "print(len(my_tup))\n",
    "print(my_tup.count(2))"
   ]
  },
  {
   "cell_type": "markdown",
   "metadata": {},
   "source": [
    "# 8.Sets\n",
    "    Set in a Python language is an unordered collection of unique elements.Sets cannot be indexed like a list.\n",
    "    Some common function of list are:\n",
    "    -->len()-Returns the length of the set\n",
    "    -->add()-Add an element to the set\n",
    "    -->discard()-Remove an element from the set.\n",
    "    "
   ]
  },
  {
   "cell_type": "code",
   "execution_count": 6,
   "metadata": {},
   "outputs": [
    {
     "name": "stdout",
     "output_type": "stream",
     "text": [
      "6\n",
      "{1, 3, 5, 7, 9, 11, 13}\n",
      "{1, 3, 5, 7, 11, 13}\n"
     ]
    }
   ],
   "source": [
    "my_st={1,3,5,7,9,11}\n",
    "print(len(my_st))\n",
    "my_st.add(13)\n",
    "print(my_st)\n",
    "my_st.discard(9)\n",
    "print(my_st)"
   ]
  },
  {
   "cell_type": "markdown",
   "metadata": {},
   "source": [
    "# 9.Dictionaries\n",
    "    Dictionaries are used when the data stored has unique identity. Each data in a dictionary is referred as an item that consist of a key and a value.Each value can be accessed by its respective key.\n",
    "    Some useful dictionary methods are:\n",
    "    -->len()-Return the length of the dictionary.\n",
    "    -->items()-Provides a view on the dictionary items.\n",
    "    -->keys()-Provides a view on the dictionary keys\n",
    "    -->values()-Provides a view on the dictionary values."
   ]
  },
  {
   "cell_type": "code",
   "execution_count": 2,
   "metadata": {},
   "outputs": [
    {
     "name": "stdout",
     "output_type": "stream",
     "text": [
      "3\n",
      "dict_items([('Marry', 9.1), ('Harry', 8.8), ('Sam', 7.5)])\n",
      "dict_keys(['Marry', 'Harry', 'Sam'])\n",
      "dict_values([9.1, 8.8, 7.5])\n"
     ]
    }
   ],
   "source": [
    "student_grads={\"Marry\":9.1,\"Harry\":8.8,\"Sam\":7.5}\n",
    "print(len(student_grads))\n",
    "print(student_grads.items())\n",
    "print(student_grads.keys())\n",
    "print(student_grads.values ())"
   ]
  },
  {
   "cell_type": "markdown",
   "metadata": {},
   "source": [
    "# 10.Functions\n",
    "    A user defined function in a python can be created by using def keyword. The function name should follow the rules of writing an identifier."
   ]
  },
  {
   "cell_type": "code",
   "execution_count": 3,
   "metadata": {},
   "outputs": [
    {
     "name": "stdout",
     "output_type": "stream",
     "text": [
      "8.379999999999999\n"
     ]
    }
   ],
   "source": [
    "def mean(mylist):\n",
    "    the_mean=sum(mylist)/len(mylist)\n",
    "    return the_mean\n",
    "student_grads=[9.1,8.8,7.5,6.6,9.9]\n",
    "print(mean(student_grads))"
   ]
  },
  {
   "cell_type": "markdown",
   "metadata": {},
   "source": [
    "# 11.Lambdas\n",
    "    Lambdas is another method for declaring a single line function without using def keyword. It can have any number of arguments but it can have only a single expression."
   ]
  },
  {
   "cell_type": "code",
   "execution_count": 5,
   "metadata": {},
   "outputs": [
    {
     "name": "stdout",
     "output_type": "stream",
     "text": [
      "35\n"
     ]
    }
   ],
   "source": [
    "val=lambda a,b:a*b\n",
    "print(val(7,5))"
   ]
  },
  {
   "cell_type": "markdown",
   "metadata": {},
   "source": [
    "# 12.Conditionals\n",
    "    In Python language conditionals are used when there are more than one block of codes to be executed depending on the situation.\n",
    "    The conditionals used in Python are:\n",
    "    -->if\n",
    "    -->if else\n",
    "    -->elif\n",
    "    "
   ]
  },
  {
   "cell_type": "code",
   "execution_count": 6,
   "metadata": {},
   "outputs": [
    {
     "name": "stdout",
     "output_type": "stream",
     "text": [
      "x is greater than y\n"
     ]
    }
   ],
   "source": [
    "x=3\n",
    "y=1\n",
    "if x>y:\n",
    "    print(\"x is greater than y\") \n",
    "elif x==y:\n",
    "    print(\"x is equal to y\")\n",
    "else:\n",
    "    print(\"x is less than y\")\n",
    "    \n",
    "    "
   ]
  },
  {
   "cell_type": "markdown",
   "metadata": {},
   "source": [
    "# 13. Operators\n",
    "    In python the operators used are:\n",
    "    -->In-place operators: +=,-=,/=,%=\n",
    "    -->Comparison operators:!=,==,<,>,<=,>=\n",
    "    -->Boolean operators: True & False"
   ]
  },
  {
   "cell_type": "markdown",
   "metadata": {},
   "source": [
    "# 14.Loops\n",
    "    When a set of codes are required to be repeated for a number of times.\n",
    "    -->For loops: For loops are executed until the container is exhausted.The container can be a list or dictionary.\n",
    "    -->While loops: While loops execution goes on until the condition holds true."
   ]
  },
  {
   "cell_type": "code",
   "execution_count": 7,
   "metadata": {},
   "outputs": [
    {
     "name": "stdout",
     "output_type": "stream",
     "text": [
      "9\n",
      "9\n",
      "8\n",
      "\n",
      "\n",
      "1\n",
      "2\n",
      "3\n",
      "4\n",
      "5\n",
      "6\n",
      "7\n",
      "8\n"
     ]
    }
   ],
   "source": [
    "# For loops\n",
    "monday_temperatures=[9.1,8.8,7.6]\n",
    "for temp in monday_temperatures:\n",
    "    print(round(temp))\n",
    "#While loop\n",
    "j=1\n",
    "print(\"\\n\")\n",
    "while(j<9):\n",
    "    print(j)\n",
    "    j+=1\n"
   ]
  },
  {
   "cell_type": "markdown",
   "metadata": {},
   "source": [
    "# 15.Modules\n",
    "    Modules are block of codes that are written to perform a specific task.There are different type of modules:\n",
    "    -->Built-in module: These module are written in C language inside Python installation software.It is imported by writing 'import' keyword.\n",
    "    -->Standard Python Modules: There are other modules written in Python language .It is simply used by writing 'import' keyword at the very start of the program.\n",
    "    -->Third party modules: These are modules that are developed by other than python developers for easy simplification of program. It is needed to be first installed that can be done by using pip installer and then imported and can be used."
   ]
  },
  {
   "cell_type": "code",
   "execution_count": 10,
   "metadata": {},
   "outputs": [
    {
     "name": "stdout",
     "output_type": "stream",
     "text": [
      "2020-06-09 22:13:46.313782\n"
     ]
    }
   ],
   "source": [
    "import datetime\n",
    "val=datetime.datetime.now() #For showing current time and date\n",
    "print(val)"
   ]
  },
  {
   "cell_type": "markdown",
   "metadata": {},
   "source": [
    "# 16.Classes,Constructors and objects\n",
    "    A class is a logical grouping of data and functions that allows to create data structures that contain arbitrary content and hence easily accessible.\n",
    "    A constructor is a class function that instantiates an object to predefined values.In Python ___init__() method is the constructor and is always called when an object is created.\n",
    "    An object is an instance of a class that is a collection of data and methods."
   ]
  },
  {
   "cell_type": "code",
   "execution_count": 9,
   "metadata": {},
   "outputs": [
    {
     "name": "stdout",
     "output_type": "stream",
     "text": [
      "Hello my name is Gourav\n"
     ]
    }
   ],
   "source": [
    "class human: #A class\n",
    "    def __init__(self,name): #constructor\n",
    "        self.name=name\n",
    "    def my_func(self):\n",
    "        print(\"Hello my name is \"+ self.name )       \n",
    "        \n",
    "        \n",
    "h1=human(\"Gourav\") #creating an object\n",
    "h1.my_func()\n",
    "    "
   ]
  },
  {
   "cell_type": "markdown",
   "metadata": {},
   "source": [
    "# 17. Inheritance\n",
    "    Inheritance is a property of OOP by virtue of which it allows a class ti derive some or all the properties of a parent class."
   ]
  },
  {
   "cell_type": "code",
   "execution_count": 16,
   "metadata": {},
   "outputs": [
    {
     "name": "stdout",
     "output_type": "stream",
     "text": [
      "Gourav Das\n",
      "Hello everyone\n"
     ]
    }
   ],
   "source": [
    "class Person:\n",
    "    def __init__(self,fname,lname):\n",
    "        self.firstname=fname\n",
    "        self.lastname=lname\n",
    "    def printname(self):\n",
    "        print(self.firstname,self.lastname)\n",
    "        \n",
    "class Name(Person):\n",
    "    def msg(self):\n",
    "        print(\"Hello everyone\")\n",
    "        \n",
    "my_name=Name(\"Gourav\",\"Das\")\n",
    "my_name.printname()\n",
    "my_name.msg()"
   ]
  },
  {
   "cell_type": "markdown",
   "metadata": {},
   "source": [
    "# 18.File Handling\n",
    "    File handling refers to opening,reading,writing,closing operation on a file.I prefer using with context manager."
   ]
  },
  {
   "cell_type": "code",
   "execution_count": null,
   "metadata": {},
   "outputs": [],
   "source": [
    "with open(\"path of file\",\"mode\") as myfile: #opening a file but it will be closed implicitly\n",
    "    content=myfile.read() #reading a file\n",
    "    myfile.write(\"content to be written \") #writing text to a file\n",
    "    \n"
   ]
  }
 ],
 "metadata": {
  "kernelspec": {
   "display_name": "Python 3",
   "language": "python",
   "name": "python3"
  },
  "language_info": {
   "codemirror_mode": {
    "name": "ipython",
    "version": 3
   },
   "file_extension": ".py",
   "mimetype": "text/x-python",
   "name": "python",
   "nbconvert_exporter": "python",
   "pygments_lexer": "ipython3",
   "version": "3.7.2"
  }
 },
 "nbformat": 4,
 "nbformat_minor": 4
}
