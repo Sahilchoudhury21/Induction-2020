{
 "cells": [
  {
   "cell_type": "markdown",
   "metadata": {},
   "source": [
    "# PYTHON SYNTAX\n",
    "EXECUTION:\n",
    "1)Python syntax can be executed by writing directly in the Command Line and by using the modules.\n"
   ]
  },
  {
   "cell_type": "code",
   "execution_count": 1,
   "metadata": {
    "scrolled": true
   },
   "outputs": [
    {
     "name": "stdout",
     "output_type": "stream",
     "text": [
      "Hello,I am Soumya\n"
     ]
    }
   ],
   "source": [
    "print(\"Hello,I am Soumya\")"
   ]
  },
  {
   "cell_type": "markdown",
   "metadata": {},
   "source": [
    "2)It can also be executed by creating a python file on the server, using the .py file extension, and running it in the command line and then press run or f5."
   ]
  },
  {
   "cell_type": "markdown",
   "metadata": {},
   "source": [
    "PYTHON INDENTATION:\n",
    "--> Indentation refers to the spaces at the beginning of a code line.\n",
    "--> Python uses indentation to indicate a block of code."
   ]
  },
  {
   "cell_type": "code",
   "execution_count": 3,
   "metadata": {},
   "outputs": [
    {
     "name": "stdout",
     "output_type": "stream",
     "text": [
      "9 is greater than 5\n"
     ]
    }
   ],
   "source": [
    "\n",
    "if 9>5:\n",
    "    print(\"9 is greater than 5\")\n"
   ]
  },
  {
   "cell_type": "markdown",
   "metadata": {},
   "source": [
    "# PYTHON VARIABLES\n",
    "--> Variables are containers for storing data values.\n",
    "--> It has no command for declaring a variable.\n",
    "--> A variable can have a short name (like a or b) or a more descriptive name (like total,age,name..). "
   ]
  },
  {
   "cell_type": "markdown",
   "metadata": {},
   "source": [
    "DECLARATION OF VARIABLES:"
   ]
  },
  {
   "cell_type": "markdown",
   "metadata": {},
   "source": [
    "1)Taking no.as the value of the variable:"
   ]
  },
  {
   "cell_type": "code",
   "execution_count": 4,
   "metadata": {},
   "outputs": [
    {
     "name": "stdout",
     "output_type": "stream",
     "text": [
      "9\n",
      "6\n"
     ]
    }
   ],
   "source": [
    "a=9\n",
    "b=6\n",
    "print(a)\n",
    "print(b)"
   ]
  },
  {
   "cell_type": "markdown",
   "metadata": {},
   "source": [
    "2)Taking string as the value of the variable:"
   ]
  },
  {
   "cell_type": "code",
   "execution_count": 5,
   "metadata": {},
   "outputs": [
    {
     "name": "stdout",
     "output_type": "stream",
     "text": [
      "soumya\n",
      "dixit\n"
     ]
    }
   ],
   "source": [
    "x=\"soumya\"\n",
    "y=\"dixit\"\n",
    "print(x)\n",
    "print(y)"
   ]
  },
  {
   "cell_type": "markdown",
   "metadata": {},
   "source": [
    "3)Variables do not need to be declared with any particular type and can even change type after they have been set."
   ]
  },
  {
   "cell_type": "code",
   "execution_count": 6,
   "metadata": {},
   "outputs": [
    {
     "name": "stdout",
     "output_type": "stream",
     "text": [
      "ram\n"
     ]
    }
   ],
   "source": [
    "x=9  # x is of type int\n",
    "x=\"ram\" # x is now of type str\n",
    "print(x)"
   ]
  },
  {
   "cell_type": "markdown",
   "metadata": {},
   "source": [
    "4)String variables can be declared either by using single or double quotes."
   ]
  },
  {
   "cell_type": "code",
   "execution_count": 8,
   "metadata": {},
   "outputs": [
    {
     "name": "stdout",
     "output_type": "stream",
     "text": [
      "ram\n",
      "boy\n"
     ]
    }
   ],
   "source": [
    "x=\"ram\" # string is declared by using double quotes\n",
    "y='boy' # string is declared by using single quotes\n",
    "print(x)\n",
    "print(y)"
   ]
  },
  {
   "cell_type": "markdown",
   "metadata": {},
   "source": [
    "RULES FOR PYTHON VARIABLES:"
   ]
  },
  {
   "cell_type": "markdown",
   "metadata": {},
   "source": [
    "VALID VARIABLE DECLARATION:"
   ]
  },
  {
   "cell_type": "code",
   "execution_count": 10,
   "metadata": {},
   "outputs": [
    {
     "name": "stdout",
     "output_type": "stream",
     "text": [
      "Soumya\n",
      "18\n",
      "Tig\n",
      "2020\n"
     ]
    }
   ],
   "source": [
    "myname=\"Soumya\"\n",
    "print(myname) #variable name starting with a letter or the underscore character.\n",
    "_age=18\n",
    "print(_age)\n",
    "place09=\"Tig\"\n",
    "print(place09) #variable name containing numbers and characters\n",
    "YEAR=2020\n",
    "print(YEAR) \n"
   ]
  },
  {
   "cell_type": "markdown",
   "metadata": {},
   "source": [
    "INVALID VARIABLE DECLARATION:"
   ]
  },
  {
   "cell_type": "code",
   "execution_count": 13,
   "metadata": {},
   "outputs": [
    {
     "ename": "SyntaxError",
     "evalue": "invalid syntax (<ipython-input-13-b39a0057d999>, line 1)",
     "output_type": "error",
     "traceback": [
      "\u001b[1;36m  File \u001b[1;32m\"<ipython-input-13-b39a0057d999>\"\u001b[1;36m, line \u001b[1;32m1\u001b[0m\n\u001b[1;33m    9name=\"Soumya\" #variable name starting with a number\u001b[0m\n\u001b[1;37m        ^\u001b[0m\n\u001b[1;31mSyntaxError\u001b[0m\u001b[1;31m:\u001b[0m invalid syntax\n"
     ]
    }
   ],
   "source": [
    "9name=\"Soumya\" #variable name starting with a number(PYTHON gives an error)\n",
    "print(9name)"
   ]
  },
  {
   "cell_type": "code",
   "execution_count": 14,
   "metadata": {},
   "outputs": [
    {
     "ename": "SyntaxError",
     "evalue": "invalid syntax (<ipython-input-14-5bb089ae296e>, line 2)",
     "output_type": "error",
     "traceback": [
      "\u001b[1;36m  File \u001b[1;32m\"<ipython-input-14-5bb089ae296e>\"\u001b[1;36m, line \u001b[1;32m2\u001b[0m\n\u001b[1;33m    print(!name)\u001b[0m\n\u001b[1;37m          ^\u001b[0m\n\u001b[1;31mSyntaxError\u001b[0m\u001b[1;31m:\u001b[0m invalid syntax\n"
     ]
    }
   ],
   "source": [
    "!name=\"soumya\" #variable name containing a character other than A-z,0-9 and _(PYTHON gives an error)\n",
    "print(!name)"
   ]
  },
  {
   "cell_type": "code",
   "execution_count": 15,
   "metadata": {},
   "outputs": [
    {
     "ename": "SyntaxError",
     "evalue": "invalid syntax (<ipython-input-15-ed8fcb4b7817>, line 1)",
     "output_type": "error",
     "traceback": [
      "\u001b[1;36m  File \u001b[1;32m\"<ipython-input-15-ed8fcb4b7817>\"\u001b[1;36m, line \u001b[1;32m1\u001b[0m\n\u001b[1;33m    my name=\"Soumya\"\u001b[0m\n\u001b[1;37m          ^\u001b[0m\n\u001b[1;31mSyntaxError\u001b[0m\u001b[1;31m:\u001b[0m invalid syntax\n"
     ]
    }
   ],
   "source": [
    "my name=\"Soumya\" #variable name containing space (PYTHON gives an error)\n",
    "print(my name)"
   ]
  },
  {
   "cell_type": "markdown",
   "metadata": {},
   "source": [
    "ASSIGN VALUE TO MULTIPLE VARIABLES:\n",
    "Python allows you to assign same or different values to multiple variables in one line.\n"
   ]
  },
  {
   "cell_type": "markdown",
   "metadata": {},
   "source": [
    "Assigning different values to different variables:"
   ]
  },
  {
   "cell_type": "code",
   "execution_count": 16,
   "metadata": {},
   "outputs": [
    {
     "name": "stdout",
     "output_type": "stream",
     "text": [
      "red blue black\n"
     ]
    }
   ],
   "source": [
    "x,y,z=\"red\",\"blue\",\"black\"\n",
    "print(x,y,z)"
   ]
  },
  {
   "cell_type": "markdown",
   "metadata": {},
   "source": [
    "Assigning same value to different variables:"
   ]
  },
  {
   "cell_type": "code",
   "execution_count": 17,
   "metadata": {},
   "outputs": [
    {
     "name": "stdout",
     "output_type": "stream",
     "text": [
      "Soumya\n",
      "Soumya\n",
      "Soumya\n"
     ]
    }
   ],
   "source": [
    "x=y=z=\"Soumya\"\n",
    "print(x)\n",
    "print(y)\n",
    "print(z)"
   ]
  },
  {
   "cell_type": "markdown",
   "metadata": {},
   "source": [
    "OUTPUT VARIABLES:\n",
    "-->The Python PRINT STATEMENT is often used for output variables."
   ]
  },
  {
   "cell_type": "code",
   "execution_count": 19,
   "metadata": {},
   "outputs": [
    {
     "name": "stdout",
     "output_type": "stream",
     "text": [
      "She is pretty\n",
      "I am Soumya\n",
      "30\n"
     ]
    }
   ],
   "source": [
    "x = \"pretty\" \n",
    "print(\"She is \" + x) #COMBINING TEXT AND VARIABLE\n",
    "a = \"I am \"\n",
    "b = \"Soumya\"\n",
    "z =  a + b          #COMBINING TWO VARIABLES\n",
    "print(z)\n",
    "m = 9\n",
    "n = 21\n",
    "print(m + n)        #\"+\" would work as a mathematical operator\n"
   ]
  },
  {
   "cell_type": "code",
   "execution_count": 20,
   "metadata": {},
   "outputs": [
    {
     "ename": "TypeError",
     "evalue": "can only concatenate str (not \"int\") to str",
     "output_type": "error",
     "traceback": [
      "\u001b[1;31m---------------------------------------------------------------------------\u001b[0m",
      "\u001b[1;31mTypeError\u001b[0m                                 Traceback (most recent call last)",
      "\u001b[1;32m<ipython-input-20-ace9c3654515>\u001b[0m in \u001b[0;36m<module>\u001b[1;34m\u001b[0m\n\u001b[0;32m      1\u001b[0m \u001b[0mc\u001b[0m\u001b[1;33m=\u001b[0m\u001b[1;34m\"soumya\"\u001b[0m\u001b[1;33m\u001b[0m\u001b[1;33m\u001b[0m\u001b[0m\n\u001b[0;32m      2\u001b[0m \u001b[0md\u001b[0m\u001b[1;33m=\u001b[0m\u001b[1;36m8\u001b[0m\u001b[1;33m\u001b[0m\u001b[1;33m\u001b[0m\u001b[0m\n\u001b[1;32m----> 3\u001b[1;33m \u001b[0mprint\u001b[0m\u001b[1;33m(\u001b[0m\u001b[0mc\u001b[0m\u001b[1;33m+\u001b[0m\u001b[0md\u001b[0m\u001b[1;33m)\u001b[0m          \u001b[1;31m#COMBINING STRING AND NUMBER(PYTHON WILL GIVE AN ERROR)\u001b[0m\u001b[1;33m\u001b[0m\u001b[1;33m\u001b[0m\u001b[0m\n\u001b[0m",
      "\u001b[1;31mTypeError\u001b[0m: can only concatenate str (not \"int\") to str"
     ]
    }
   ],
   "source": [
    "c=\"soumya\"\n",
    "d=8\n",
    "print(c+d)          #COMBINING STRING AND NUMBER(PYTHON WILL GIVE AN ERROR)"
   ]
  },
  {
   "cell_type": "markdown",
   "metadata": {},
   "source": [
    "# PRINT STATEMENTS\n"
   ]
  },
  {
   "cell_type": "markdown",
   "metadata": {},
   "source": [
    "1)Normal print() function in python:"
   ]
  },
  {
   "cell_type": "code",
   "execution_count": 21,
   "metadata": {},
   "outputs": [
    {
     "name": "stdout",
     "output_type": "stream",
     "text": [
      "Welcome to VSSUT,Burla\n"
     ]
    }
   ],
   "source": [
    "print (\"Welcome to VSSUT,Burla\")"
   ]
  },
  {
   "cell_type": "markdown",
   "metadata": {},
   "source": [
    "2)Command to print a blank line:"
   ]
  },
  {
   "cell_type": "code",
   "execution_count": 22,
   "metadata": {},
   "outputs": [
    {
     "name": "stdout",
     "output_type": "stream",
     "text": [
      "\n",
      "\n"
     ]
    }
   ],
   "source": [
    "print(\"\\n\")"
   ]
  },
  {
   "cell_type": "markdown",
   "metadata": {},
   "source": [
    "3)Command to print a variable:"
   ]
  },
  {
   "cell_type": "code",
   "execution_count": 23,
   "metadata": {},
   "outputs": [
    {
     "name": "stdout",
     "output_type": "stream",
     "text": [
      "5 Soumya\n"
     ]
    }
   ],
   "source": [
    "x=5\n",
    "y=\"Soumya\"\n",
    "print(x,y)"
   ]
  },
  {
   "cell_type": "markdown",
   "metadata": {},
   "source": [
    "4)To print formatted output,format specifiers are used."
   ]
  },
  {
   "cell_type": "code",
   "execution_count": 24,
   "metadata": {},
   "outputs": [
    {
     "name": "stdout",
     "output_type": "stream",
     "text": [
      "I live in TITILAGARH\n"
     ]
    }
   ],
   "source": [
    "print(\"I live in %s\" % \"TITILAGARH\")"
   ]
  },
  {
   "cell_type": "markdown",
   "metadata": {},
   "source": [
    "# DATA TYPES\n",
    "BUILT-IN DATA TYPES:\n",
    "1)Text Type:\tstr\n",
    "2)Numeric Types:\tint, float, complex\n",
    "3)Sequence Types:\tlist, tuple, range\n",
    "4)Mapping Type:\tdict\n",
    "5)Set Types:\tset, frozenset\n",
    "6)Boolean Type:\tbool\n",
    "7)Binary Types:\tbytes, bytearray, memoryview"
   ]
  },
  {
   "cell_type": "markdown",
   "metadata": {},
   "source": [
    "GETTING THE DATA TYPE:"
   ]
  },
  {
   "cell_type": "code",
   "execution_count": 25,
   "metadata": {},
   "outputs": [
    {
     "name": "stdout",
     "output_type": "stream",
     "text": [
      "The type of variable having value 100  is  <class 'int'>\n"
     ]
    }
   ],
   "source": [
    "#create a variable with integer value.\n",
    "a=100\n",
    "print(\"The type of variable having value\", a, \" is \", type(a))"
   ]
  },
  {
   "cell_type": "code",
   "execution_count": 26,
   "metadata": {},
   "outputs": [
    {
     "name": "stdout",
     "output_type": "stream",
     "text": [
      "<class 'float'>\n"
     ]
    }
   ],
   "source": [
    "a=4.567\n",
    "print(type(a))"
   ]
  },
  {
   "cell_type": "markdown",
   "metadata": {},
   "source": [
    "SETTING THE DATATYPE:\n",
    "-->In Python, the data type is set when you assign a value to a variable."
   ]
  },
  {
   "cell_type": "code",
   "execution_count": 27,
   "metadata": {},
   "outputs": [
    {
     "name": "stdout",
     "output_type": "stream",
     "text": [
      "218.53\n"
     ]
    }
   ],
   "source": [
    "x = float(218.53) #Setting the Specific Data Type\n",
    "print(x)"
   ]
  },
  {
   "cell_type": "markdown",
   "metadata": {},
   "source": [
    "# TYPE CASTING\n",
    "Python has two types of type conversion:\n",
    "1)Implicit Type Conversion\n",
    "2)Explicit Type Conversion"
   ]
  },
  {
   "cell_type": "code",
   "execution_count": 31,
   "metadata": {},
   "outputs": [
    {
     "name": "stdout",
     "output_type": "stream",
     "text": [
      "<class 'float'>\n",
      "90.56\n"
     ]
    }
   ],
   "source": [
    "#IMPLICIT\n",
    "a=67                               #declaration of an integer\n",
    "b=23.56                            #declaration of a floating point number\n",
    "c=a+b                              #c is the sum of an integer 'a' and a floating point number 'b'\n",
    "print(type(c))                     #this statement shows the data type of 'c'\n",
    "print(c)                           #this statement shows the data type of 'c'"
   ]
  },
  {
   "cell_type": "code",
   "execution_count": 1,
   "metadata": {},
   "outputs": [
    {
     "name": "stdout",
     "output_type": "stream",
     "text": [
      "<class 'int'>\n",
      "90\n"
     ]
    }
   ],
   "source": [
    "#EXPLICIT\n",
    "a=67            #declaration of an integer\n",
    "b=23.56         #declaration of a floating point number\n",
    "c=int(a+b)      #c is the integer value of sum of an integer 'a' and a floating number b \n",
    "print(type(c))  #this statement shows the data type of 'c'\n",
    "print(c)        #this statement shows the data type of 'c'"
   ]
  },
  {
   "cell_type": "markdown",
   "metadata": {},
   "source": [
    "# STRINGS AND STRING FORMATTING\n",
    "In Python, a string is a sequence of Unicode characters."
   ]
  },
  {
   "cell_type": "code",
   "execution_count": 2,
   "metadata": {},
   "outputs": [
    {
     "name": "stdout",
     "output_type": "stream",
     "text": [
      "Hello, Soumya!\n"
     ]
    }
   ],
   "source": [
    "# This prints out \"Hello, Soumya!\"\n",
    "name = \"Soumya\"\n",
    "print(\"Hello, %s!\" % name)"
   ]
  },
  {
   "cell_type": "markdown",
   "metadata": {},
   "source": [
    "OLD STYLE FORMATTING:"
   ]
  },
  {
   "cell_type": "code",
   "execution_count": 3,
   "metadata": {},
   "outputs": [
    {
     "name": "stdout",
     "output_type": "stream",
     "text": [
      "The value of x is 12.35\n"
     ]
    }
   ],
   "source": [
    " x = 12.3456789\n",
    "print('The value of x is %3.2f' %x)"
   ]
  },
  {
   "cell_type": "markdown",
   "metadata": {},
   "source": [
    "ESCAPE SEQUENCES : It is also called backslash character which is used with print statement."
   ]
  },
  {
   "cell_type": "code",
   "execution_count": 6,
   "metadata": {},
   "outputs": [
    {
     "name": "stdout",
     "output_type": "stream",
     "text": [
      "He said\n",
      " What's there?\n"
     ]
    }
   ],
   "source": [
    "print(\"He said\\n What's there?\")"
   ]
  },
  {
   "cell_type": "code",
   "execution_count": 7,
   "metadata": {},
   "outputs": [
    {
     "name": "stdout",
     "output_type": "stream",
     "text": [
      "Welcome to \n",
      " VSSUT\tBurla\n"
     ]
    }
   ],
   "source": [
    "print(\"Welcome to \\n VSSUT\\tBurla\")"
   ]
  },
  {
   "cell_type": "code",
   "execution_count": 12,
   "metadata": {},
   "outputs": [
    {
     "name": "stdout",
     "output_type": "stream",
     "text": [
      "\n",
      "-----a-----\n",
      "Shruti, Ankita and Soumya\n"
     ]
    }
   ],
   "source": [
    "a = \"{}, {} and {}\".format('Shruti','Ankita','Soumya')\n",
    "print('\\n-----a-----')\n",
    "print(a)"
   ]
  },
  {
   "cell_type": "markdown",
   "metadata": {},
   "source": [
    "# STRING METHODS"
   ]
  },
  {
   "cell_type": "markdown",
   "metadata": {},
   "source": [
    "SOME OF THE STRING METHODS ARE LISTED BELOW:"
   ]
  },
  {
   "cell_type": "code",
   "execution_count": 14,
   "metadata": {},
   "outputs": [
    {
     "name": "stdout",
     "output_type": "stream",
     "text": [
      "Hello, Adya!\n"
     ]
    }
   ],
   "source": [
    "#strip() method removes any whitespace from the beginning or the end\n",
    "a = \" Hello, Adya! \" \n",
    "print(a.strip()) # returns \"Hello, Adya!\""
   ]
  },
  {
   "cell_type": "code",
   "execution_count": 15,
   "metadata": {},
   "outputs": [
    {
     "name": "stdout",
     "output_type": "stream",
     "text": [
      "hello, adya!\n"
     ]
    }
   ],
   "source": [
    "#The lower() method returns the string in lower case\n",
    "a = \"Hello, Adya!\"\n",
    "print(a.lower()) #returns \"hello, adya!\""
   ]
  },
  {
   "cell_type": "code",
   "execution_count": 16,
   "metadata": {},
   "outputs": [
    {
     "name": "stdout",
     "output_type": "stream",
     "text": [
      "HELLO, ADYA!\n"
     ]
    }
   ],
   "source": [
    "#The upper() method returns the string in upper case:\n",
    "\n",
    "a = \"Hello, Adya!\"\n",
    "print(a.upper()) #returns \"HELLO, ADYA!\""
   ]
  },
  {
   "cell_type": "code",
   "execution_count": 18,
   "metadata": {},
   "outputs": [
    {
     "name": "stdout",
     "output_type": "stream",
     "text": [
      "['Hello', ' Adya!']\n"
     ]
    }
   ],
   "source": [
    "#The split() method splits the string into substrings if it finds instances of the separator:\n",
    "\n",
    "a = \"Hello, Adya!\"\n",
    "print(a.split(\",\")) # returns ['Hello', ' Adya!']"
   ]
  },
  {
   "cell_type": "code",
   "execution_count": 23,
   "metadata": {},
   "outputs": [
    {
     "name": "stdout",
     "output_type": "stream",
     "text": [
      "Old String:  python is AWesome.\n",
      "Capitalized String: Python is awesome.\n"
     ]
    }
   ],
   "source": [
    "#Python String capitalize()\n",
    "#This method converts first character of a string to uppercase letter and lowercases all other characters, if any.\n",
    "string = \"python is Awesome.\"\n",
    "\n",
    "capitalized_string = string.capitalize()\n",
    "\n",
    "print('Old String: ', string)\n",
    "print('Capitalized String:', capitalized_string)"
   ]
  },
  {
   "cell_type": "code",
   "execution_count": 24,
   "metadata": {},
   "outputs": [
    {
     "name": "stdout",
     "output_type": "stream",
     "text": [
      "Centered String:     Python is awesome    \n"
     ]
    }
   ],
   "source": [
    "#Python String center()\n",
    "#This method returns a string which is padded with the specified character.\n",
    "string = \"Python is awesome\"\n",
    "\n",
    "new_string = string.center(24)\n",
    "\n",
    "print(\"Centered String: \", new_string)"
   ]
  },
  {
   "cell_type": "code",
   "execution_count": 26,
   "metadata": {},
   "outputs": [
    {
     "name": "stdout",
     "output_type": "stream",
     "text": [
      "The count is: 2\n"
     ]
    }
   ],
   "source": [
    "#Python String count()\n",
    "#The string count() method returns the number of occurrences of a substring in the given string.\n",
    "string = \"Python is awesome, isn't it?\"\n",
    "substring = \"is\"\n",
    "\n",
    "count = string.count(substring)\n",
    "\n",
    "# print count\n",
    "print(\"The count is:\", count)"
   ]
  },
  {
   "cell_type": "code",
   "execution_count": 28,
   "metadata": {},
   "outputs": [
    {
     "name": "stdout",
     "output_type": "stream",
     "text": [
      "True\n"
     ]
    }
   ],
   "source": [
    "#Python String endswith()\n",
    "#The endswith() method returns True if a string ends with the specified suffix. If not, it returns False.\n",
    "\n",
    "text = \"Python is easy to learn.\"\n",
    "result = text.endswith('Python is easy to learn.')\n",
    "print(result) # returns True"
   ]
  },
  {
   "cell_type": "code",
   "execution_count": 29,
   "metadata": {},
   "outputs": [
    {
     "name": "stdout",
     "output_type": "stream",
     "text": [
      "I       am      Soumya\n"
     ]
    }
   ],
   "source": [
    "#Python String expandtabs()\n",
    "#This method returns a copy of string with all tab characters '\\t' replaced with whitespace characters until the next multiple of tabsize parameter.\n",
    "str = 'I\\tam\\tSoumya'\n",
    "\n",
    "# no argument is passed\n",
    "# default tabsize is 8\n",
    "result = str.expandtabs()\n",
    "\n",
    "print(result)"
   ]
  },
  {
   "cell_type": "code",
   "execution_count": 30,
   "metadata": {},
   "outputs": [
    {
     "name": "stdout",
     "output_type": "stream",
     "text": [
      "The string is: Soumya!\n",
      "The encoded version is: b'Soumya!'\n"
     ]
    }
   ],
   "source": [
    "#Python String encode()\n",
    "#The string encode() method returns encoded version of the given string.\n",
    "\n",
    "string = 'Soumya!'                           # unicode string\n",
    "print('The string is:', string)              # print Soumya\n",
    "string_utf = string.encode()                  # default encoding to utf-8\n",
    "print('The encoded version is:', string_utf)  # print result"
   ]
  },
  {
   "cell_type": "code",
   "execution_count": 31,
   "metadata": {},
   "outputs": [
    {
     "name": "stdout",
     "output_type": "stream",
     "text": [
      "Substring 'let it': 8\n",
      "Substring 'small ': -1\n",
      "Doesn't contain substring\n"
     ]
    }
   ],
   "source": [
    "#Python String find() method\n",
    "#This method returns the index of first occurrence of the substring (if found). If not found, it returns -1.\n",
    "\n",
    "quote = 'Let it, let it, let it'\n",
    "\n",
    "\n",
    "result = quote.find('let it')      # first occurrence of 'let it'(case sensitive)\n",
    "print(\"Substring 'let it':\", result)\n",
    "result = quote.find('small')      # find returns -1 if substring not found\n",
    "print(\"Substring 'small ':\", result)\n",
    "if (quote.find('be,') != -1):        # How to use find()\n",
    "    print(\"Contains substring 'be,'\")\n",
    "else:\n",
    "    print(\"Doesn't contain substring\")"
   ]
  },
  {
   "cell_type": "code",
   "execution_count": 32,
   "metadata": {},
   "outputs": [
    {
     "name": "stdout",
     "output_type": "stream",
     "text": [
      "True\n",
      "False\n"
     ]
    }
   ],
   "source": [
    "#Python String isalnum()\n",
    "#This method returns True if all characters in the string are alphanumeric (either alphabets or numbers). If not, it returns False.\n",
    "\n",
    "name = \"Soum123ya\"\n",
    "print(name.isalnum())\n",
    "\n",
    "\n",
    "name = \"Soum123 ya \"     # contains whitespace\n",
    "print(name.isalnum())\n"
   ]
  },
  {
   "cell_type": "markdown",
   "metadata": {},
   "source": [
    "# LISTS AND LIST METHODS\n",
    "-->A list is a collection which is ordered and changeable. In Python lists are written with square brackets."
   ]
  },
  {
   "cell_type": "code",
   "execution_count": 33,
   "metadata": {},
   "outputs": [
    {
     "name": "stdout",
     "output_type": "stream",
     "text": [
      "['apple', 'banana', 'cherry']\n"
     ]
    }
   ],
   "source": [
    "#Creating a List:\n",
    "\n",
    "mylist = [\"apple\", \"banana\", \"cherry\"]\n",
    "print(mylist)"
   ]
  },
  {
   "cell_type": "code",
   "execution_count": 35,
   "metadata": {},
   "outputs": [
    {
     "name": "stdout",
     "output_type": "stream",
     "text": [
      "banana\n"
     ]
    }
   ],
   "source": [
    "#Accessing items of the list:\n",
    "\n",
    "mylist = [\"apple\", \"banana\", \"cherry\"]  \n",
    "print(mylist[1])   #returns second item of the list i.e.banana"
   ]
  },
  {
   "cell_type": "code",
   "execution_count": 37,
   "metadata": {},
   "outputs": [
    {
     "name": "stdout",
     "output_type": "stream",
     "text": [
      "cherry\n"
     ]
    }
   ],
   "source": [
    "#Negative Indexing:\n",
    "\n",
    "mylist = [\"apple\", \"banana\", \"cherry\"]\n",
    "print(mylist[-1])        #Prints the last item of the list i.e.cherry"
   ]
  },
  {
   "cell_type": "code",
   "execution_count": 38,
   "metadata": {},
   "outputs": [
    {
     "name": "stdout",
     "output_type": "stream",
     "text": [
      "['apple', 'blackcurrant', 'cherry']\n"
     ]
    }
   ],
   "source": [
    "#Changing item value:\n",
    "\n",
    "mylist = [\"apple\", \"banana\", \"cherry\"]\n",
    "mylist[1] = \"blackcurrant\"\n",
    "print(mylist)"
   ]
  },
  {
   "cell_type": "markdown",
   "metadata": {},
   "source": [
    "SOME OF THE LIST METHODS ARE LISTED BELOW:"
   ]
  },
  {
   "cell_type": "code",
   "execution_count": 40,
   "metadata": {},
   "outputs": [
    {
     "name": "stdout",
     "output_type": "stream",
     "text": [
      "The index of e: 1\n",
      "The index of i: 2\n"
     ]
    }
   ],
   "source": [
    "#Python List index()\n",
    "#This method returns the index of the specified element in the list.\n",
    "\n",
    "vowels = ['a', 'e', 'i', 'o', 'i', 'u']  # vowels list\n",
    "index = vowels.index('e')  # index of 'e' in vowels\n",
    "print('The index of e:', index)\n",
    "index = vowels.index('i')      # element 'i' is searched\n",
    "                                # index of the first 'i' is returned\n",
    "\n",
    "print('The index of i:', index)"
   ]
  },
  {
   "cell_type": "code",
   "execution_count": 41,
   "metadata": {},
   "outputs": [
    {
     "name": "stdout",
     "output_type": "stream",
     "text": [
      "The count of i is: 2\n",
      "The count of p is: 0\n"
     ]
    }
   ],
   "source": [
    "#Python List count()\n",
    "#This method returns the number of times the specified element appears in the list.\n",
    "\n",
    "vowels = ['a', 'e', 'i', 'o', 'i', 'u']\n",
    "count = vowels.count('i')  # count element 'i'\n",
    "print('The count of i is:', count)  # print count\n",
    "count = vowels.count('p')  # count element 'p'\n",
    "print('The count of p is:', count)  # print count"
   ]
  },
  {
   "cell_type": "code",
   "execution_count": 42,
   "metadata": {},
   "outputs": [
    {
     "name": "stdout",
     "output_type": "stream",
     "text": [
      "Return Value: French\n",
      "Updated List: ['Python', 'Java', 'C++', 'C']\n"
     ]
    }
   ],
   "source": [
    "#Python List pop()\n",
    "#This method removes the item at the given index from the list and returns the removed item.\n",
    "\n",
    "languages = ['Python', 'Java', 'C++', 'French', 'C']\n",
    "value = languages.pop(3)   # remove and return the 4th item\n",
    "print('Return Value:', value)\n",
    "print('Updated List:', languages) # Updated List"
   ]
  },
  {
   "cell_type": "code",
   "execution_count": 43,
   "metadata": {},
   "outputs": [
    {
     "name": "stdout",
     "output_type": "stream",
     "text": [
      "Original List: ['Windows', 'macOS', 'Linux']\n",
      "Updated List: ['Linux', 'macOS', 'Windows']\n"
     ]
    }
   ],
   "source": [
    "#Python List reverse()\n",
    "#This method reverses the elements of the list.\n",
    "\n",
    "systems = ['Windows', 'macOS', 'Linux']\n",
    "print('Original List:', systems)\n",
    "systems.reverse()  # List Reverse\n",
    "print('Updated List:', systems)  # updated list"
   ]
  },
  {
   "cell_type": "code",
   "execution_count": 44,
   "metadata": {},
   "outputs": [
    {
     "name": "stdout",
     "output_type": "stream",
     "text": [
      "Sorted list (in Descending): ['u', 'o', 'i', 'e', 'a']\n"
     ]
    }
   ],
   "source": [
    "#Python List sort()\n",
    "#The sort() method sorts the elements of a given list.\n",
    "#Sorting the list in Descending order:-\n",
    "\n",
    "vowels = ['e', 'a', 'u', 'o', 'i'] # vowels list\n",
    "vowels.sort(reverse=True) # sort the vowels\n",
    "print('Sorted list (in Descending):', vowels)  # print vowels in descending order"
   ]
  },
  {
   "cell_type": "code",
   "execution_count": 47,
   "metadata": {},
   "outputs": [
    {
     "name": "stdout",
     "output_type": "stream",
     "text": [
      "New List: [1, 2, 3, 'h']\n",
      "Old List: [1, 2, 3, 'h']\n"
     ]
    }
   ],
   "source": [
    "#Python List copy()\n",
    "#This method returns a shallow copy of the list.\n",
    "\n",
    "oldlist = [1, 2, 3]\n",
    "newlist = oldlist\n",
    "newlist.append('h')   # add an element to list\n",
    "print('New List:', newlist)\n",
    "print('Old List:', oldlist)"
   ]
  },
  {
   "cell_type": "code",
   "execution_count": 48,
   "metadata": {},
   "outputs": [
    {
     "name": "stdout",
     "output_type": "stream",
     "text": [
      "List: []\n"
     ]
    }
   ],
   "source": [
    "#Python List clear()\n",
    "#The clear() method removes all items from the list.\n",
    "\n",
    "list = [{1, 2}, ('a'), ['3.1', '4.2']]\n",
    "list.clear()   # clearing the list\n",
    "print('List:', list)"
   ]
  },
  {
   "cell_type": "markdown",
   "metadata": {},
   "source": [
    "# TUPLES AND ITS METHODS\n",
    "-->A tuple is a collection which is ordered and unchangeable. \n",
    "-->In Python tuples are written with round brackets."
   ]
  },
  {
   "cell_type": "code",
   "execution_count": 49,
   "metadata": {},
   "outputs": [
    {
     "name": "stdout",
     "output_type": "stream",
     "text": [
      "('car', 'bus', 'bicycle')\n"
     ]
    }
   ],
   "source": [
    "#Creating tuple:\n",
    "mytuple = (\"car\", \"bus\", \"bicycle\")\n",
    "print(mytuple)"
   ]
  },
  {
   "cell_type": "code",
   "execution_count": 52,
   "metadata": {},
   "outputs": [
    {
     "name": "stdout",
     "output_type": "stream",
     "text": [
      "bus\n"
     ]
    }
   ],
   "source": [
    "#Accessing particular tuple:\n",
    "mytuple = (\"car\", \"bus\", \"bicycle\")\n",
    "print(mytuple[1])"
   ]
  },
  {
   "cell_type": "code",
   "execution_count": 51,
   "metadata": {},
   "outputs": [
    {
     "name": "stdout",
     "output_type": "stream",
     "text": [
      "bicycle\n"
     ]
    }
   ],
   "source": [
    "#Negative Indexing:\n",
    "mytuple = (\"car\", \"bus\", \"bicycle\")\n",
    "print(mytuple[-1])"
   ]
  },
  {
   "cell_type": "markdown",
   "metadata": {},
   "source": [
    "SOME OF THE TUPLE METHODS ARE:-"
   ]
  },
  {
   "cell_type": "code",
   "execution_count": 53,
   "metadata": {},
   "outputs": [
    {
     "name": "stdout",
     "output_type": "stream",
     "text": [
      "The count of i is: 2\n",
      "The count of p is: 0\n"
     ]
    }
   ],
   "source": [
    "#Python Tuple count()\n",
    "#This method returns the number of times the specified element appears in the tuple.\n",
    "\n",
    "vowels = ('a', 'e', 'i', 'o', 'i', 'u')\n",
    "count = vowels.count('i')   \n",
    "print('The count of i is:', count)  # print count\n",
    "count = vowels.count('p')   # count element 'p'\n",
    "print('The count of p is:', count) # print count\n"
   ]
  },
  {
   "cell_type": "code",
   "execution_count": 54,
   "metadata": {},
   "outputs": [
    {
     "name": "stdout",
     "output_type": "stream",
     "text": [
      "True\n",
      "False\n",
      "True\n",
      "False\n"
     ]
    }
   ],
   "source": [
    "#Python any() function\n",
    "#This function returns True if any element of an iterable is True. If not, any() returns False.\n",
    "\n",
    "a = [1, 3, 4, 0]   # True since 1,3 and 4 (at least one) is true\n",
    "print(any(a))\n",
    "\n",
    "a = [0, False]     # False since both are False\n",
    "print(any(a))\n",
    "\n",
    "a = [0, False, 5]  # True since 5 is true\n",
    "print(any(a))\n",
    "\n",
    "a = []             # False since iterable is empty\n",
    "print(any(a))"
   ]
  },
  {
   "cell_type": "code",
   "execution_count": 55,
   "metadata": {},
   "outputs": [
    {
     "name": "stdout",
     "output_type": "stream",
     "text": [
      "t1 = ()\n",
      "t2 = (1, 5, 7)\n",
      "t1 = ('S', 'o', 'u', 'm', 'y', 'a')\n",
      "t1 = (1, 2)\n"
     ]
    }
   ],
   "source": [
    "#Python tuple()\n",
    "#This builtin can be used to create tuples in Python.\n",
    "\n",
    "t1 = tuple()\n",
    "print('t1 =', t1)\n",
    "\n",
    "t2 = tuple([1, 5, 7])     # creating a tuple from a list\n",
    "print('t2 =', t2)\n",
    "\n",
    "t1 = tuple('Soumya')    # creating a tuple from a string\n",
    "print('t1 =',t1)\n",
    "\n",
    "t1 = tuple({1: 'one', 2: 'two'})  # creating a tuple from a dictionary\n",
    "print('t1 =',t1)"
   ]
  },
  {
   "cell_type": "markdown",
   "metadata": {},
   "source": [
    "# SETS AND ITS METHODS\n",
    "-->A set is a collection which is unordered and unindexed. \n",
    "-->In Python sets are written with curly brackets."
   ]
  },
  {
   "cell_type": "code",
   "execution_count": 56,
   "metadata": {},
   "outputs": [
    {
     "name": "stdout",
     "output_type": "stream",
     "text": [
      "{'Radio', 'Laptop', 'TV'}\n"
     ]
    }
   ],
   "source": [
    "#Creating a Set:\n",
    "\n",
    "myset = {\"TV\", \"Radio\", \"Laptop\"}\n",
    "print(myset)"
   ]
  },
  {
   "cell_type": "code",
   "execution_count": 61,
   "metadata": {},
   "outputs": [
    {
     "name": "stdout",
     "output_type": "stream",
     "text": [
      "Radio\n",
      "Laptop\n",
      "Tv\n"
     ]
    }
   ],
   "source": [
    "#Accessing items:\n",
    "\n",
    "myset = {\"Tv\", \"Radio\", \"Laptop\"}\n",
    "\n",
    "for x in myset:\n",
    "  print(x)\n"
   ]
  },
  {
   "cell_type": "markdown",
   "metadata": {},
   "source": [
    "SOME OF THE SET METHODS ARE:-"
   ]
  },
  {
   "cell_type": "code",
   "execution_count": 62,
   "metadata": {},
   "outputs": [
    {
     "name": "stdout",
     "output_type": "stream",
     "text": [
      "Updated language set: {'Python', 'PHP'}\n"
     ]
    }
   ],
   "source": [
    "#Python Set remove()\n",
    "#This method removes the specified element from the set.\n",
    "\n",
    "language = {'PHP', 'Java', 'Python'}  # language set\n",
    "language.remove('Java')   # removing 'Java' from language\n",
    "print('Updated language set:', language) # Updated language set\n"
   ]
  },
  {
   "cell_type": "code",
   "execution_count": 63,
   "metadata": {},
   "outputs": [
    {
     "name": "stdout",
     "output_type": "stream",
     "text": [
      "Vowels are: {'a', 'i', 'o', 'u', 'e'}\n",
      "Vowels are: {'a', 'i', 'o', 'u', 'e'}\n"
     ]
    }
   ],
   "source": [
    "#Python Set add()\n",
    "#This method adds a given element to a set. If the element is already present, it doesn't add any element.\n",
    "\n",
    "vowels = {'a', 'e', 'i', 'u'}   # set of vowels\n",
    "vowels.add('o')      # adding 'o'\n",
    "print('Vowels are:', vowels)\n",
    "vowels.add('a')    # adding 'a' again\n",
    "print('Vowels are:', vowels)\n"
   ]
  },
  {
   "cell_type": "code",
   "execution_count": 64,
   "metadata": {},
   "outputs": [
    {
     "name": "stdout",
     "output_type": "stream",
     "text": [
      "numbers:  {1, 2, 3, 4, 5}\n",
      "new numbers:  {1, 2, 3, 4, 5}\n"
     ]
    }
   ],
   "source": [
    "#Python Set copy()\n",
    "#This method returns a shallow copy of the set.\n",
    "\n",
    "numbers = {1, 2, 3, 4}\n",
    "newnumbers = numbers\n",
    "newnumbers.add(5)\n",
    "print('numbers: ', numbers)\n",
    "print('new numbers: ', newnumbers)"
   ]
  },
  {
   "cell_type": "code",
   "execution_count": 65,
   "metadata": {},
   "outputs": [
    {
     "name": "stdout",
     "output_type": "stream",
     "text": [
      "Vowels (before clear): {'a', 'i', 'o', 'u', 'e'}\n",
      "Vowels (after clear): set()\n"
     ]
    }
   ],
   "source": [
    "#Python Set clear()\n",
    "#This method removes all elements from the set.\n",
    "\n",
    "vowels = {'a', 'e', 'i', 'o', 'u'}      # set of vowels\n",
    "print('Vowels (before clear):', vowels)\n",
    "vowels.clear()     # clearing vowels\n",
    "print('Vowels (after clear):', vowels)"
   ]
  },
  {
   "cell_type": "code",
   "execution_count": 67,
   "metadata": {},
   "outputs": [
    {
     "name": "stdout",
     "output_type": "stream",
     "text": [
      "{'b', 'd', 'a'}\n",
      "{'f', 'g'}\n"
     ]
    }
   ],
   "source": [
    "#Python Set difference()\n",
    "#This method returns the set difference of two sets.\n",
    "\n",
    "A = {'a', 'b', 'c', 'd'}\n",
    "B = {'c', 'f', 'g'}\n",
    "print(A.difference(B))  # Equivalent to A-B\n",
    "print(B.difference(A))  # Equivalent to B-A"
   ]
  },
  {
   "cell_type": "code",
   "execution_count": 68,
   "metadata": {},
   "outputs": [
    {
     "name": "stdout",
     "output_type": "stream",
     "text": [
      "numbers =  {2, 4, 7}\n",
      "numbers =  {2, 4, 7}\n"
     ]
    }
   ],
   "source": [
    "#Python Set discard()\n",
    "#This method removes a specified element from the set (if present).\n",
    "\n",
    "numbers = {2, 3, 4, 7}\n",
    "numbers.discard(3)\n",
    "print('numbers = ', numbers)\n",
    "numbers.discard(10)\n",
    "print('numbers = ', numbers)"
   ]
  },
  {
   "cell_type": "code",
   "execution_count": 69,
   "metadata": {},
   "outputs": [
    {
     "name": "stdout",
     "output_type": "stream",
     "text": [
      "{3}\n",
      "{2, 3}\n",
      "{1, 3, 9}\n",
      "{3}\n"
     ]
    }
   ],
   "source": [
    "#Python Set intersection()\n",
    "#This method returns a new set with elements that are common to all sets.\n",
    "\n",
    "A = {1, 3, 9, 4}\n",
    "B = {2, 3, 100}\n",
    "C = {2, 3, 1, 9, 10}\n",
    "print(B.intersection(A))\n",
    "print(B.intersection(C))\n",
    "print(A.intersection(C))\n",
    "print(C.intersection(A, B))"
   ]
  },
  {
   "cell_type": "code",
   "execution_count": 70,
   "metadata": {},
   "outputs": [
    {
     "name": "stdout",
     "output_type": "stream",
     "text": [
      "Are A and B disjoint? True\n",
      "Are A and C disjoint? False\n"
     ]
    }
   ],
   "source": [
    "#Python Set isdisjoint()\n",
    "#This method returns True if two sets are disjoint sets. If not, it returns False.\n",
    "\n",
    "A = {1, 2, 3, 4}\n",
    "B = {5, 6, 7}\n",
    "C = {4, 5, 6}\n",
    "print('Are A and B disjoint?', A.isdisjoint(B))\n",
    "print('Are A and C disjoint?', A.isdisjoint(C))"
   ]
  },
  {
   "cell_type": "code",
   "execution_count": 71,
   "metadata": {},
   "outputs": [
    {
     "name": "stdout",
     "output_type": "stream",
     "text": [
      "True\n",
      "False\n",
      "False\n",
      "True\n"
     ]
    }
   ],
   "source": [
    "#Python Set issubset()\n",
    "#This method returns True if all elements of a set are present in another set (passed as an argument). If not, it returns False.\n",
    "\n",
    "A = {1, 2, 3}\n",
    "B = {1, 2, 3, 4, 5}\n",
    "C = {1, 2, 4, 5}\n",
    "print(A.issubset(B))   # Returns True\n",
    "print(B.issubset(A))   # Returns False\n",
    "                       # B is not subset of A\n",
    "print(A.issubset(C))   # Returns False\n",
    "print(C.issubset(B))   # Returns True"
   ]
  },
  {
   "cell_type": "code",
   "execution_count": 72,
   "metadata": {},
   "outputs": [
    {
     "name": "stdout",
     "output_type": "stream",
     "text": [
      "Return Value is c\n",
      "A =  {'b', 'd', 'a'}\n"
     ]
    }
   ],
   "source": [
    "#Python Set pop()\n",
    "#This method removes an arbitrary element from the set and returns the element removed.\n",
    "\n",
    "A ={'a', 'b', 'c', 'd'}\n",
    "print('Return Value is', A.pop())\n",
    "print('A = ', A)"
   ]
  },
  {
   "cell_type": "code",
   "execution_count": 73,
   "metadata": {},
   "outputs": [
    {
     "name": "stdout",
     "output_type": "stream",
     "text": [
      "{'b', 'a', 'e'}\n",
      "{'b', 'a', 'e'}\n",
      "{'c', 'b', 'd', 'a'}\n",
      "{'c', 'd', 'e'}\n"
     ]
    }
   ],
   "source": [
    "#Python Set symmetric_difference()\n",
    "#This method returns the symmetric difference of two sets.\n",
    "\n",
    "A = {'a', 'b', 'c', 'd'}\n",
    "B = {'c', 'd', 'e' }\n",
    "C = {}\n",
    "print(A.symmetric_difference(B))\n",
    "print(B.symmetric_difference(A))\n",
    "print(A.symmetric_difference(C))\n",
    "print(B.symmetric_difference(C))"
   ]
  },
  {
   "cell_type": "code",
   "execution_count": 74,
   "metadata": {},
   "outputs": [
    {
     "name": "stdout",
     "output_type": "stream",
     "text": [
      "A U B = {2, 'a', 'c', 'd'}\n",
      "B U C = {1, 2, 3, 'c', 'd'}\n",
      "A U B U C = {1, 2, 3, 'a', 'c', 'd'}\n",
      "A.union() = {'c', 'd', 'a'}\n"
     ]
    }
   ],
   "source": [
    "#Python Set union()\n",
    "#This method returns a new set with distinct elements from all the sets.\n",
    "\n",
    "A = {'a', 'c', 'd'}\n",
    "B = {'c', 'd', 2 }\n",
    "C = {1, 2, 3}\n",
    "print('A U B =', A.union(B))\n",
    "print('B U C =', B.union(C))\n",
    "print('A U B U C =', A.union(B, C))\n",
    "print('A.union() =', A.union())"
   ]
  },
  {
   "cell_type": "code",
   "execution_count": 75,
   "metadata": {},
   "outputs": [
    {
     "name": "stdout",
     "output_type": "stream",
     "text": [
      "A = {'b', 1, 2, 'a', 3}\n",
      "result = None\n"
     ]
    }
   ],
   "source": [
    "#Python Set update()\n",
    "#This method updates the set, adding items from other iterables.\n",
    "\n",
    "A = {'a', 'b'}\n",
    "B = {1, 2, 3}\n",
    "result = A.update(B)\n",
    "print('A =', A)\n",
    "print('result =', result)"
   ]
  },
  {
   "cell_type": "markdown",
   "metadata": {},
   "source": [
    "# DICTIONARIES AND IT'S METHODS\n",
    "-->A dictionary is a collection which is unordered, changeable and indexed. \n",
    "-->In Python dictionaries are written with curly brackets, and they have keys and values."
   ]
  },
  {
   "cell_type": "code",
   "execution_count": 76,
   "metadata": {},
   "outputs": [
    {
     "name": "stdout",
     "output_type": "stream",
     "text": [
      "{'place': 'Titilagarh', 'district': 'Bolangir', 'pin': 767033}\n"
     ]
    }
   ],
   "source": [
    "#Creating and printing a dictionary\n",
    "\n",
    "mydict = {\n",
    "  \"place\": \"Titilagarh\",\n",
    "  \"district\": \"Bolangir\",\n",
    "  \"pin\": 767033\n",
    "}\n",
    "print(mydict)"
   ]
  },
  {
   "cell_type": "code",
   "execution_count": 89,
   "metadata": {},
   "outputs": [
    {
     "name": "stdout",
     "output_type": "stream",
     "text": [
      "Titilagarh\n",
      "Bolangir\n",
      "767033\n"
     ]
    }
   ],
   "source": [
    "#Accessing items of a dictionary\n",
    "\n",
    "for x in mydict:\n",
    "  print(mydict[x])"
   ]
  },
  {
   "cell_type": "markdown",
   "metadata": {},
   "source": [
    "SOME OF THE DICTIONARY METHODS ARE:-"
   ]
  },
  {
   "cell_type": "code",
   "execution_count": 90,
   "metadata": {},
   "outputs": [
    {
     "name": "stdout",
     "output_type": "stream",
     "text": [
      "d = {}\n"
     ]
    }
   ],
   "source": [
    "#Python Dictionary clear()\n",
    "#This method removes all items from the dictionary.\n",
    "\n",
    "d = {1: \"one\", 2: \"two\"}\n",
    "d.clear()\n",
    "print('d =', d)"
   ]
  },
  {
   "cell_type": "code",
   "execution_count": 91,
   "metadata": {},
   "outputs": [
    {
     "name": "stdout",
     "output_type": "stream",
     "text": [
      "Orignal:  {1: 'one', 2: 'two'}\n",
      "New:  {1: 'one', 2: 'two'}\n"
     ]
    }
   ],
   "source": [
    "#Python Dictionary copy()\n",
    "#This method returns a shallow copy of the dictionary.\n",
    "\n",
    "original = {1:'one', 2:'two'}\n",
    "new = original.copy()\n",
    "print('Orignal: ', original)\n",
    "print('New: ', new)"
   ]
  },
  {
   "cell_type": "code",
   "execution_count": 92,
   "metadata": {},
   "outputs": [
    {
     "name": "stdout",
     "output_type": "stream",
     "text": [
      "{'a': None, 'i': None, 'o': None, 'u': None, 'e': None}\n"
     ]
    }
   ],
   "source": [
    "#Python Dictionary fromkeys()\n",
    "#This method creates a new dictionary from the given sequence of elements with a value provided by the user.\n",
    "\n",
    "keys = {'a', 'e', 'i', 'o', 'u' }\n",
    "vowels = dict.fromkeys(keys)\n",
    "print(vowels)"
   ]
  },
  {
   "cell_type": "code",
   "execution_count": 93,
   "metadata": {},
   "outputs": [
    {
     "name": "stdout",
     "output_type": "stream",
     "text": [
      "Name:  Soumya\n",
      "Age:  18\n",
      "Salary:  None\n",
      "Salary:  0.0\n"
     ]
    }
   ],
   "source": [
    "#Python Dictionary get()\n",
    "#This method returns the value for the specified key if key is in dictionary.\n",
    "\n",
    "person = {'name': 'Soumya', 'age': 18}\n",
    "print('Name: ', person.get('name'))\n",
    "print('Age: ', person.get('age'))\n",
    "print('Salary: ', person.get('salary'))\n",
    "print('Salary: ', person.get('salary', 0.0))"
   ]
  },
  {
   "cell_type": "code",
   "execution_count": 94,
   "metadata": {},
   "outputs": [
    {
     "name": "stdout",
     "output_type": "stream",
     "text": [
      "dict_items([('apple', 2), ('orange', 3), ('guava', 4)])\n"
     ]
    }
   ],
   "source": [
    "#Python Dictionary items()\n",
    "#This method returns a view object that displays a list of dictionary's (key, value) tuple pairs.\n",
    "\n",
    "sales = { 'apple': 2, 'orange': 3, 'guava': 4 }\n",
    "print(sales.items())"
   ]
  },
  {
   "cell_type": "code",
   "execution_count": 95,
   "metadata": {},
   "outputs": [
    {
     "name": "stdout",
     "output_type": "stream",
     "text": [
      "dict_keys(['name', 'age', 'salary'])\n",
      "dict_keys([])\n"
     ]
    }
   ],
   "source": [
    "#Python Dictionary keys()\n",
    "#This method returns a view object that displays a list of all the keys in the dictionary.\n",
    "\n",
    "person = {'name': 'Soumya', 'age': 18, 'salary': 90000.0}\n",
    "print(person.keys())\n",
    "\n",
    "empty_dict = {}\n",
    "print(empty_dict.keys())"
   ]
  },
  {
   "cell_type": "code",
   "execution_count": 99,
   "metadata": {},
   "outputs": [
    {
     "name": "stdout",
     "output_type": "stream",
     "text": [
      "Return Value =  ('salary', 983500.0)\n",
      "person =  {'name': 'Soumya', 'age': 18}\n",
      "Return Value =  ('profession', 'Engineer')\n",
      "person =  {'name': 'Soumya', 'age': 18}\n"
     ]
    }
   ],
   "source": [
    "#Python Dictionary popitem() method\n",
    "#This method removes and returns the last element (key, value) pair inserted into the dictionary.\n",
    "\n",
    "person = {'name': 'Soumya', 'age': 18, 'salary': 983500.0}\n",
    "result = person.popitem()   # ('salary', 983500.0) is inserted at the last, so it is removed.\n",
    "print('Return Value = ', result)\n",
    "print('person = ', person)\n",
    "person['profession'] = 'Engineer' # inserting a new element pair\n",
    "result = person.popitem()    # now ('profession', 'Engineer') is the latest element\n",
    "print('Return Value = ', result)\n",
    "print('person = ', person)"
   ]
  },
  {
   "cell_type": "code",
   "execution_count": 100,
   "metadata": {},
   "outputs": [
    {
     "name": "stdout",
     "output_type": "stream",
     "text": [
      "person =  {'name': 'Soumya', 'age': 18}\n",
      "Age =  18\n"
     ]
    }
   ],
   "source": [
    "#Python Dictionary setdefault()\n",
    "#This method returns the value of a key (if the key is in dictionary). If not, it inserts key with a value to the dictionary.\n",
    "\n",
    "person = {'name': 'Soumya', 'age': 18}\n",
    "\n",
    "age = person.setdefault('age')\n",
    "print('person = ',person)\n",
    "print('Age = ',age)"
   ]
  },
  {
   "cell_type": "code",
   "execution_count": 101,
   "metadata": {},
   "outputs": [
    {
     "name": "stdout",
     "output_type": "stream",
     "text": [
      "The popped element is: 2\n",
      "The dictionary is: {'orange': 3, 'grapes': 4}\n"
     ]
    }
   ],
   "source": [
    "#Python Dictionary pop()\n",
    "#This method removes and returns an element from a dictionary having the given key.\n",
    "\n",
    "sales = { 'apple': 2, 'orange': 3, 'grapes': 4 }\n",
    "element = sales.pop('apple')\n",
    "print('The popped element is:', element)\n",
    "print('The dictionary is:', sales)"
   ]
  },
  {
   "cell_type": "code",
   "execution_count": 102,
   "metadata": {},
   "outputs": [
    {
     "name": "stdout",
     "output_type": "stream",
     "text": [
      "dict_values([2, 3, 4])\n"
     ]
    }
   ],
   "source": [
    "#Python Dictionary values()\n",
    "#This method returns a view object that displays a list of all the values in the dictionary.\n",
    "\n",
    "sales = { 'apple': 2, 'orange': 3, 'grapes': 4 }\n",
    "print(sales.values())"
   ]
  },
  {
   "cell_type": "code",
   "execution_count": 103,
   "metadata": {},
   "outputs": [
    {
     "name": "stdout",
     "output_type": "stream",
     "text": [
      "{1: 'one', 2: 'two'}\n",
      "{1: 'one', 2: 'two', 3: 'three'}\n"
     ]
    }
   ],
   "source": [
    "#Python Dictionary update()\n",
    "#This method updates the dictionary with the elements from the another dictionary object or from an iterable of key/value pairs.\n",
    "\n",
    "d = {1: \"one\", 2: \"three\"}\n",
    "d1 = {2: \"two\"}\n",
    "d.update(d1)   # updates the value of key 2\n",
    "print(d)\n",
    "d1 = {3: \"three\"}\n",
    "d.update(d1)  # adds element with key 3\n",
    "print(d)"
   ]
  },
  {
   "cell_type": "markdown",
   "metadata": {},
   "source": [
    "# FUNCTIONS\n",
    "-->In Python, a function is a group of related statements that performs a specific task."
   ]
  },
  {
   "cell_type": "code",
   "execution_count": 104,
   "metadata": {},
   "outputs": [],
   "source": [
    "#Creating a function:\n",
    "\n",
    "def myfunction():\n",
    "  print(\"Hello, I am Soumya\")"
   ]
  },
  {
   "cell_type": "code",
   "execution_count": 105,
   "metadata": {},
   "outputs": [
    {
     "name": "stdout",
     "output_type": "stream",
     "text": [
      "Hello, I am Soumya\n"
     ]
    }
   ],
   "source": [
    "#Calling a Function:\n",
    "\n",
    "def myfunction():\n",
    "  print(\"Hello, I am Soumya\")\n",
    "\n",
    "myfunction()"
   ]
  },
  {
   "cell_type": "code",
   "execution_count": 2,
   "metadata": {},
   "outputs": [
    {
     "name": "stdout",
     "output_type": "stream",
     "text": [
      "ram sita\n",
      "gita sita\n",
      "mita sita\n"
     ]
    }
   ],
   "source": [
    "#Arguments:Information can be passed into functions as arguments.\n",
    "\n",
    "def f(fname):\n",
    "  print(fname + \" sita\")    #The following example has a function with one argument (fname)\n",
    "\n",
    "f(\"ram\")\n",
    "f(\"gita\")\n",
    "f(\"mita\")"
   ]
  },
  {
   "cell_type": "code",
   "execution_count": 3,
   "metadata": {},
   "outputs": [
    {
     "name": "stdout",
     "output_type": "stream",
     "text": [
      "15\n"
     ]
    }
   ],
   "source": [
    "def add(a,b):    #declaration , 'a' and 'b' here are parameters\n",
    "    return a+b  #return statement of the function\n",
    "\n",
    "a=5\n",
    "b=10\n",
    "print(add(a,b)) #function calling"
   ]
  },
  {
   "cell_type": "code",
   "execution_count": 11,
   "metadata": {},
   "outputs": [
    {
     "name": "stdout",
     "output_type": "stream",
     "text": [
      "Soumya\n"
     ]
    }
   ],
   "source": [
    "#Keyword arguments\n",
    "\n",
    "def a( str ):      # Function definition is here\n",
    "   print(str) \n",
    "   return;\n",
    "printme( str = \"Soumya\")   # Now you can call printme function"
   ]
  },
  {
   "cell_type": "code",
   "execution_count": 14,
   "metadata": {},
   "outputs": [
    {
     "name": "stdout",
     "output_type": "stream",
     "text": [
      "Name:  Soumya\n",
      "Age  18\n",
      "Name:  Ankita\n",
      "Age  20\n"
     ]
    }
   ],
   "source": [
    "#Default arguments\n",
    "\n",
    "\n",
    "def bio( name, age = 20 ):      # Function definition is here\n",
    "   \n",
    "   print(\"Name: \", name) \n",
    "   print (\"Age \", age)\n",
    "   return;\n",
    "\n",
    "bio( age=18, name=\"Soumya\" )    # Now you can call bioo function\n",
    "\n",
    "bio( name=\"Ankita\" )\n"
   ]
  },
  {
   "cell_type": "code",
   "execution_count": 19,
   "metadata": {},
   "outputs": [
    {
     "name": "stdout",
     "output_type": "stream",
     "text": [
      "The factorial of 5 is 120\n"
     ]
    }
   ],
   "source": [
    "#Python Recursion\n",
    "#It is the process of defining something in terms of itself.\n",
    "\n",
    "#This is a recursive function to find the factorial of an integer.\n",
    "   \n",
    "\n",
    "def factorial(x):\n",
    "   \n",
    "    if x == 1:\n",
    "        return 1\n",
    "    else:\n",
    "        return (x * factorial(x-1))\n",
    "\n",
    "\n",
    "num = 5\n",
    "print(\"The factorial of\", num, \"is\", factorial(num))"
   ]
  },
  {
   "cell_type": "markdown",
   "metadata": {},
   "source": [
    "# LAMBDAS\n",
    "-->In Python, an anonymous/Lambda function is a function that is defined without a name."
   ]
  },
  {
   "cell_type": "code",
   "execution_count": 20,
   "metadata": {},
   "outputs": [
    {
     "name": "stdout",
     "output_type": "stream",
     "text": [
      "11\n"
     ]
    }
   ],
   "source": [
    "x = lambda a : a + 2\n",
    "print(x(9))"
   ]
  },
  {
   "cell_type": "code",
   "execution_count": 22,
   "metadata": {},
   "outputs": [
    {
     "name": "stdout",
     "output_type": "stream",
     "text": [
      "Value of total :  30\n",
      "Value of total :  70\n"
     ]
    }
   ],
   "source": [
    "\n",
    "sum = lambda a, b: a + b;     # Function definition is here\n",
    "\n",
    "print (\"Value of total : \", sum( 10, 20 ))     # Now you can call sum as a function\n",
    "\n",
    "print (\"Value of total : \", sum( 30, 40 ))"
   ]
  },
  {
   "cell_type": "code",
   "execution_count": 23,
   "metadata": {},
   "outputs": [
    {
     "data": {
      "text/plain": [
       "4"
      ]
     },
     "execution_count": 23,
     "metadata": {},
     "output_type": "execute_result"
    }
   ],
   "source": [
    "#Using lambdas with Python built-ins\n",
    "\n",
    "(lambda x: x + x)(2) "
   ]
  },
  {
   "cell_type": "code",
   "execution_count": 24,
   "metadata": {},
   "outputs": [
    {
     "name": "stdout",
     "output_type": "stream",
     "text": [
      "[10, 8, 7, 5, 14, 6, 11]\n"
     ]
    }
   ],
   "source": [
    "#lambdas in filter()\n",
    "\n",
    "s = [10,2,8,7,5,4,14,6,3,11,0, 1]\n",
    "filtered_result = filter (lambda x: x > 4, s) \n",
    "print(list(filtered_result))"
   ]
  },
  {
   "cell_type": "code",
   "execution_count": 25,
   "metadata": {},
   "outputs": [
    {
     "name": "stdout",
     "output_type": "stream",
     "text": [
      "[100, 4, 64, 49, 25, 16, 9, 121, 0, 36, 196, 1]\n"
     ]
    }
   ],
   "source": [
    "#lambdas in map()\n",
    "\n",
    "s = [10,2,8,7,5,4,3,11,0,6,14,1]\n",
    "result = map (lambda x: x*x, s) \n",
    "print(list(result))"
   ]
  },
  {
   "cell_type": "code",
   "execution_count": 28,
   "metadata": {},
   "outputs": [
    {
     "name": "stdout",
     "output_type": "stream",
     "text": [
      "720\n"
     ]
    }
   ],
   "source": [
    "#lambdas in reduce()\n",
    "\n",
    "from functools import reduce\n",
    "l = [1,2,3,4,5,6]\n",
    "fact = reduce (lambda x, y: x*y, l)\n",
    "print(fact)"
   ]
  },
  {
   "cell_type": "markdown",
   "metadata": {},
   "source": [
    "# CONDITIONALS AND LOOPS"
   ]
  },
  {
   "cell_type": "code",
   "execution_count": 30,
   "metadata": {},
   "outputs": [
    {
     "name": "stdout",
     "output_type": "stream",
     "text": [
      "b is greater than a\n"
     ]
    }
   ],
   "source": [
    "#IF STATEMENT:\n",
    "\n",
    "a = 100\n",
    "b = 500\n",
    "if b > a:\n",
    "  print(\"b is greater than a\")"
   ]
  },
  {
   "cell_type": "code",
   "execution_count": 33,
   "metadata": {},
   "outputs": [
    {
     "name": "stdout",
     "output_type": "stream",
     "text": [
      "a is greater than b\n"
     ]
    }
   ],
   "source": [
    "#IF-ELIF:\n",
    "\n",
    "a = 12\n",
    "b = 10\n",
    "if b > a:\n",
    "  print(\"b is greater than a\")\n",
    "elif a > b:\n",
    "  print(\"a is greater than b\")\n",
    "\n"
   ]
  },
  {
   "cell_type": "code",
   "execution_count": 35,
   "metadata": {},
   "outputs": [
    {
     "name": "stdout",
     "output_type": "stream",
     "text": [
      "a is equal to b\n"
     ]
    }
   ],
   "source": [
    "#IF-ELIF-ELSE:\n",
    "\n",
    "a = 400\n",
    "b = 400\n",
    "if b > a:\n",
    "  print(\"b is greater than a\")\n",
    "elif a > b:\n",
    "  print(\"a is greater than b\")\n",
    "else:\n",
    "  print(\"a is equal to b\")"
   ]
  },
  {
   "cell_type": "code",
   "execution_count": 36,
   "metadata": {},
   "outputs": [
    {
     "name": "stdout",
     "output_type": "stream",
     "text": [
      "Above ten,\n",
      "and also above 20!\n"
     ]
    }
   ],
   "source": [
    "#NESTED IF:\n",
    "\n",
    "x = 30\n",
    "\n",
    "if x > 10:\n",
    "  print(\"Above ten,\")\n",
    "  if x > 20:\n",
    "    print(\"and also above 20!\")\n",
    "  else:\n",
    "    print(\"but not above 20.\")"
   ]
  },
  {
   "cell_type": "code",
   "execution_count": 37,
   "metadata": {},
   "outputs": [],
   "source": [
    "#THE PASS STATEMENT:\n",
    "\n",
    "a = 100       \n",
    "b = 200\n",
    "\n",
    "if b > a:   #if statements cannot be empty, but if you for some reason have an if statement with no content,\n",
    "            #put in the pass statement to avoid getting an error.\n",
    "  pass               "
   ]
  },
  {
   "cell_type": "markdown",
   "metadata": {},
   "source": [
    "WHILE LOOP:\n",
    "-->With the while loop we can execute a set of statements as long as a condition is true."
   ]
  },
  {
   "cell_type": "code",
   "execution_count": 41,
   "metadata": {},
   "outputs": [
    {
     "name": "stdout",
     "output_type": "stream",
     "text": [
      "1\n",
      "2\n",
      "3\n",
      "4\n",
      "5\n",
      "6\n",
      "7\n",
      "8\n",
      "9\n"
     ]
    }
   ],
   "source": [
    "i = 1\n",
    "while i < 10:\n",
    "  print(i)\n",
    "  i += 1"
   ]
  },
  {
   "cell_type": "code",
   "execution_count": 39,
   "metadata": {},
   "outputs": [
    {
     "name": "stdout",
     "output_type": "stream",
     "text": [
      "1\n",
      "2\n",
      "3\n"
     ]
    }
   ],
   "source": [
    "#THE BREAK STATEMENT:\n",
    "\n",
    "#Exit the loop when i is 3:\n",
    "\n",
    "i = 1          \n",
    "while i < 6:\n",
    "  print(i)\n",
    "  if i == 3:\n",
    "    break\n",
    "  i += 1"
   ]
  },
  {
   "cell_type": "code",
   "execution_count": 40,
   "metadata": {},
   "outputs": [
    {
     "name": "stdout",
     "output_type": "stream",
     "text": [
      "1\n",
      "2\n",
      "4\n",
      "5\n",
      "6\n"
     ]
    }
   ],
   "source": [
    "#THE CONTINUE STATEMENT:\n",
    "\n",
    "#Continue to the next iteration if i is 3:\n",
    "\n",
    "i = 0\n",
    "while i < 6:\n",
    "  i += 1\n",
    "  if i == 3:\n",
    "    continue\n",
    "  print(i)"
   ]
  },
  {
   "cell_type": "code",
   "execution_count": 42,
   "metadata": {},
   "outputs": [
    {
     "name": "stdout",
     "output_type": "stream",
     "text": [
      "1\n",
      "2\n",
      "3\n",
      "4\n",
      "5\n",
      "i is no longer less than 6\n"
     ]
    }
   ],
   "source": [
    "#THE ELSE STATEMENT:\n",
    "\n",
    "i = 1\n",
    "while i < 6:\n",
    "  print(i)\n",
    "  i += 1\n",
    "else:\n",
    "  print(\"i is no longer less than 6\")"
   ]
  },
  {
   "cell_type": "markdown",
   "metadata": {},
   "source": [
    "FOR LOOP:\n",
    "-->A for loop is used for iterating over a sequence "
   ]
  },
  {
   "cell_type": "code",
   "execution_count": 43,
   "metadata": {},
   "outputs": [
    {
     "name": "stdout",
     "output_type": "stream",
     "text": [
      "bus\n",
      "car\n",
      "bicycle\n"
     ]
    }
   ],
   "source": [
    "#Each vehicle name will be printed from vehicles's list.\n",
    "\n",
    "vehicles = [\"bus\", \"car\", \"bicycle\"]    \n",
    "for x in vehicles:\n",
    "  print(x)"
   ]
  },
  {
   "cell_type": "code",
   "execution_count": 45,
   "metadata": {},
   "outputs": [
    {
     "name": "stdout",
     "output_type": "stream",
     "text": [
      "b\n",
      "i\n",
      "c\n",
      "y\n",
      "c\n",
      "l\n",
      "e\n"
     ]
    }
   ],
   "source": [
    "#Looping Through a String:\n",
    "\n",
    "for x in \"bicycle\":\n",
    " print(x)"
   ]
  },
  {
   "cell_type": "code",
   "execution_count": 2,
   "metadata": {},
   "outputs": [
    {
     "name": "stdout",
     "output_type": "stream",
     "text": [
      "bus\n",
      "car\n"
     ]
    }
   ],
   "source": [
    "#The break statement:\n",
    "\n",
    "\n",
    "vehicles = [\"bus\", \"car\", \"bicycle\"]    \n",
    "for x in vehicles:\n",
    "  print(x)\n",
    "  if x==\"car\":\n",
    "    break   "
   ]
  },
  {
   "cell_type": "code",
   "execution_count": 3,
   "metadata": {},
   "outputs": [
    {
     "name": "stdout",
     "output_type": "stream",
     "text": [
      "bus\n",
      "bicycle\n"
     ]
    }
   ],
   "source": [
    "#The continue Statement:\n",
    "\n",
    "\n",
    "vehicles = [\"bus\", \"car\", \"bicycle\"]\n",
    "for x in vehicles:\n",
    "    if x==\"car\":\n",
    "        continue\n",
    "    print(x)"
   ]
  },
  {
   "cell_type": "code",
   "execution_count": 4,
   "metadata": {},
   "outputs": [
    {
     "name": "stdout",
     "output_type": "stream",
     "text": [
      "0\n",
      "1\n",
      "2\n",
      "3\n",
      "4\n"
     ]
    }
   ],
   "source": [
    "#The range() Function:\n",
    "\n",
    "\n",
    "for x in range(5):\n",
    "  print(x)"
   ]
  },
  {
   "cell_type": "code",
   "execution_count": 5,
   "metadata": {},
   "outputs": [
    {
     "name": "stdout",
     "output_type": "stream",
     "text": [
      "0\n",
      "1\n",
      "2\n",
      "3\n",
      "4\n",
      "Completed!\n"
     ]
    }
   ],
   "source": [
    "#Else in For Loop:\n",
    "\n",
    "\n",
    "for x in range(5):\n",
    "  print(x)\n",
    "else:\n",
    "  print(\"Completed!\")"
   ]
  },
  {
   "cell_type": "code",
   "execution_count": 6,
   "metadata": {},
   "outputs": [
    {
     "name": "stdout",
     "output_type": "stream",
     "text": [
      "red car\n",
      "red bus\n",
      "red jeep\n",
      "blue car\n",
      "blue bus\n",
      "blue jeep\n",
      "black car\n",
      "black bus\n",
      "black jeep\n"
     ]
    }
   ],
   "source": [
    "#Nested Loops:\n",
    "\n",
    "adj = [\"red\", \"blue\", \"black\"]\n",
    "vehicles = [\"car\", \"bus\", \"jeep\"]\n",
    "\n",
    "for x in adj:\n",
    "  for y in vehicles:\n",
    "    print(x, y)"
   ]
  },
  {
   "cell_type": "code",
   "execution_count": 7,
   "metadata": {},
   "outputs": [],
   "source": [
    "#The pass Statement:\n",
    "\n",
    "for x in [1, 2, 3]:\n",
    "  pass"
   ]
  },
  {
   "cell_type": "markdown",
   "metadata": {},
   "source": [
    "# OPERATORS\n",
    "-->These are used to perform operations on variables and values."
   ]
  },
  {
   "cell_type": "code",
   "execution_count": 8,
   "metadata": {},
   "outputs": [
    {
     "name": "stdout",
     "output_type": "stream",
     "text": [
      "x + y = 19\n",
      "x - y = 11\n",
      "x * y = 60\n",
      "x / y = 3.75\n"
     ]
    }
   ],
   "source": [
    "#Arithmetic operators in Python:\n",
    "\n",
    "x = 10\n",
    "y = 5\n",
    "\n",
    "print('x + y =',x+y)\n",
    "\n",
    "print('x - y =',x-y)\n",
    "\n",
    "print('x * y =',x*y)\n",
    "\n",
    "print('x / y =',x/y)"
   ]
  },
  {
   "cell_type": "code",
   "execution_count": 9,
   "metadata": {},
   "outputs": [
    {
     "name": "stdout",
     "output_type": "stream",
     "text": [
      "x > y is False\n",
      "x < y is True\n",
      "x == y is False\n"
     ]
    }
   ],
   "source": [
    "#Comparison operators:\n",
    "\n",
    "x = 9\n",
    "y = 14\n",
    "\n",
    "print('x > y is',x>y)\n",
    "\n",
    "print('x < y is',x<y)\n",
    "\n",
    "print('x == y is',x==y)"
   ]
  },
  {
   "cell_type": "code",
   "execution_count": 10,
   "metadata": {},
   "outputs": [
    {
     "name": "stdout",
     "output_type": "stream",
     "text": [
      "x and y is False\n",
      "x or y is True\n",
      "not x is False\n"
     ]
    }
   ],
   "source": [
    "#Logical operators:\n",
    "\n",
    "x = True\n",
    "y = False\n",
    "\n",
    "print('x and y is',x and y)\n",
    "\n",
    "print('x or y is',x or y)\n",
    "\n",
    "print('not x is',not x)"
   ]
  },
  {
   "cell_type": "code",
   "execution_count": 11,
   "metadata": {},
   "outputs": [
    {
     "name": "stdout",
     "output_type": "stream",
     "text": [
      "False\n",
      "True\n",
      "False\n"
     ]
    }
   ],
   "source": [
    "#Identity operators in Python:\n",
    "\n",
    "x1 = 7\n",
    "y1 = 7\n",
    "x2 = 'Hello'\n",
    "y2 = 'Hello'\n",
    "x3 = [1,2,3]\n",
    "y3 = [1,2,3]\n",
    "\n",
    "print(x1 is not y1)\n",
    "\n",
    "print(x2 is y2)\n",
    "\n",
    "print(x3 is y3)"
   ]
  },
  {
   "cell_type": "code",
   "execution_count": 12,
   "metadata": {},
   "outputs": [
    {
     "name": "stdout",
     "output_type": "stream",
     "text": [
      "True\n",
      "True\n",
      "True\n",
      "False\n"
     ]
    }
   ],
   "source": [
    "#Membership operators in Python:\n",
    "\n",
    "x = 'Hello world'\n",
    "y = {1:'a',2:'b'}\n",
    "\n",
    "print('H' in x)\n",
    "\n",
    "print('hello' not in x)\n",
    "\n",
    "print(1 in y)\n",
    "\n",
    "print('a' in y)"
   ]
  },
  {
   "cell_type": "markdown",
   "metadata": {},
   "source": [
    "# MODULES\n",
    "-->It is a file containing a set of functions you want to include in your application."
   ]
  },
  {
   "cell_type": "code",
   "execution_count": 8,
   "metadata": {},
   "outputs": [
    {
     "name": "stdout",
     "output_type": "stream",
     "text": [
      "fact= 120\n"
     ]
    }
   ],
   "source": [
    "import module     #importing pre-saved module\n",
    "print(\"fact=\",module.fact(5))"
   ]
  },
  {
   "cell_type": "markdown",
   "metadata": {},
   "source": [
    "# CLASSES,CONSTRUCTORS AND OBJECT\n",
    "-->It is like an object constructor, or a \"blueprint\" for creating objects."
   ]
  },
  {
   "cell_type": "code",
   "execution_count": 19,
   "metadata": {},
   "outputs": [
    {
     "name": "stdout",
     "output_type": "stream",
     "text": [
      "18\n",
      "Ankita\n"
     ]
    }
   ],
   "source": [
    "#Simple Python Class Declaration\n",
    "\n",
    "\n",
    "class Person:       \n",
    "                       #initializing the variables  \n",
    "    name = \"\"  \n",
    "    age = 0  \n",
    "      \n",
    "                        #defining constructor \n",
    "    def __init__(self, personName, personAge):  \n",
    "        self.name = personName  \n",
    "        self.age = personAge  \n",
    "  \n",
    "                         #defining class methods  \n",
    "    def showName(self):  \n",
    "        print(self.name)  \n",
    "  \n",
    "    def showAge(self):  \n",
    "        print(self.age)  \n",
    "          \n",
    "                      #end of the class definition  \n",
    "              # Create an object of the class \n",
    "person1 = Person(\"Soumya\", 18)  \n",
    "              #Create another object of the same class  \n",
    "person2 = Person(\"Ankita\", 19)  \n",
    "              #call member methods of the objects  \n",
    "person1.showAge()  \n",
    "person2.showName() "
   ]
  },
  {
   "cell_type": "code",
   "execution_count": 21,
   "metadata": {},
   "outputs": [
    {
     "name": "stdout",
     "output_type": "stream",
     "text": [
      "Hello my name is Soumya\n"
     ]
    }
   ],
   "source": [
    "#The self Parameter:\n",
    "\n",
    "class Person:\n",
    "  def __init__(mysillyobject, name, age):\n",
    "    mysillyobject.name = name\n",
    "    mysillyobject.age = age\n",
    "\n",
    "  def myfunc(abc):\n",
    "    print(\"Hello my name is \" + abc.name)\n",
    "\n",
    "p1 = Person(\"Soumya\", 18)\n",
    "p1.myfunc()"
   ]
  },
  {
   "cell_type": "code",
   "execution_count": 24,
   "metadata": {},
   "outputs": [
    {
     "name": "stdout",
     "output_type": "stream",
     "text": [
      "<function Person.greet at 0x0000000004F70DC8>\n",
      "<bound method Person.greet of <__main__.Person object at 0x000000000502EA88>>\n",
      "Hello\n"
     ]
    }
   ],
   "source": [
    "#Creating an Object in Python\n",
    "\n",
    "class Person:\n",
    "    \"This is a person class\"\n",
    "    age = 10\n",
    "\n",
    "    def greet(self):\n",
    "        print('Hello')\n",
    "\n",
    "\n",
    "# create a new object of Person class\n",
    "soumya = Person()\n",
    "\n",
    "# Output: <function Person.greet>\n",
    "print(Person.greet)\n",
    "\n",
    "# Output: <bound method Person.greet of <__main__.Person object>>\n",
    "print(soumya.greet)\n",
    "\n",
    "# Calling object's greet() method\n",
    "# Output: Hello\n",
    "soumya.greet()"
   ]
  },
  {
   "cell_type": "code",
   "execution_count": 2,
   "metadata": {},
   "outputs": [
    {
     "name": "stdout",
     "output_type": "stream",
     "text": [
      "ID: 101 \n",
      "Name: Soumya\n",
      "ID: 102 \n",
      "Name: Sikha\n"
     ]
    }
   ],
   "source": [
    "#Creating Constructor in Python:\n",
    "\n",
    "class Employee:  \n",
    "    def __init__(self,name,id):  \n",
    "        self.id = id;  \n",
    "        self.name = name;  \n",
    "    def display (self):  \n",
    "        print(\"ID: %d \\nName: %s\"%(self.id,self.name))  \n",
    "emp1 = Employee(\"Soumya\",101)  \n",
    "emp2 = Employee(\"Sikha\",102)  \n",
    "  \n",
    "#accessing display() method to print employee 1 information  \n",
    "   \n",
    "emp1.display();   \n",
    "  \n",
    "#accessing display() method to print employee 2 information  \n",
    "emp2.display();   "
   ]
  },
  {
   "cell_type": "code",
   "execution_count": 3,
   "metadata": {},
   "outputs": [
    {
     "name": "stdout",
     "output_type": "stream",
     "text": [
      "The number of students: 4\n"
     ]
    }
   ],
   "source": [
    "#Counting the number of objects of a class:\n",
    "\n",
    "class Student:  \n",
    "    count = 0  \n",
    "    def __init__(self):  \n",
    "        Student.count = Student.count + 1  \n",
    "s1=Student()  \n",
    "s2=Student()  \n",
    "s3=Student()\n",
    "s4=Student()\n",
    "print(\"The number of students:\",Student.count)  \n"
   ]
  },
  {
   "cell_type": "code",
   "execution_count": 4,
   "metadata": {},
   "outputs": [
    {
     "name": "stdout",
     "output_type": "stream",
     "text": [
      "This is non parametrized constructor\n",
      "Hello Soumya\n"
     ]
    }
   ],
   "source": [
    "#Python Non-Parameterized Constructor Example:\n",
    "\n",
    "class Student:    \n",
    "                         # Constructor - non parameterized    \n",
    "    def __init__(self):    \n",
    "        print(\"This is non parametrized constructor\")    \n",
    "    def show(self,name):    \n",
    "        print(\"Hello\",name)    \n",
    "student = Student()    \n",
    "student.show(\"Soumya\")    "
   ]
  },
  {
   "cell_type": "code",
   "execution_count": 5,
   "metadata": {},
   "outputs": [
    {
     "name": "stdout",
     "output_type": "stream",
     "text": [
      "This is parametrized constructor\n",
      "Hello Soumya\n"
     ]
    }
   ],
   "source": [
    "#Python Parameterized Constructor Example:\n",
    "\n",
    "class Student:    \n",
    "                # Constructor - parameterized    \n",
    "    def __init__(self, name):    \n",
    "        print(\"This is parametrized constructor\")    \n",
    "        self.name = name    \n",
    "    def show(self):    \n",
    "        print(\"Hello\",self.name)    \n",
    "student = Student(\"Soumya\")    \n",
    "student.show()  \n",
    "\n"
   ]
  },
  {
   "cell_type": "markdown",
   "metadata": {},
   "source": [
    "# EXTENDED CLASS(INHERITANCE)\n",
    "-->Inheritance allows us to define a class that inherits all the methods and properties from another class."
   ]
  },
  {
   "cell_type": "code",
   "execution_count": 9,
   "metadata": {},
   "outputs": [
    {
     "name": "stdout",
     "output_type": "stream",
     "text": [
      "Soumya Dixit\n"
     ]
    }
   ],
   "source": [
    "#Creating a Parent Class:\n",
    "\n",
    "class Person:\n",
    "  def __init__(self, fname, lname):\n",
    "    self.firstname = fname\n",
    "    self.lastname = lname\n",
    "\n",
    "  def printname(self):\n",
    "    print(self.firstname, self.lastname)\n",
    "\n",
    "#Used the Person class to create an object, and then executed the printname method:\n",
    "\n",
    "x = Person(\"Soumya\", \"Dixit\")\n",
    "x.printname()"
   ]
  },
  {
   "cell_type": "code",
   "execution_count": 3,
   "metadata": {},
   "outputs": [
    {
     "name": "stdout",
     "output_type": "stream",
     "text": [
      "Name: PQR\n",
      "Dimensions: 2, 3, 4\n",
      "9\n"
     ]
    }
   ],
   "source": [
    "# definition of superclass \"Triangles\" \n",
    "class Triangles(object): \n",
    "      \n",
    "    count = 0\n",
    "      \n",
    "    def __init__(self, name, s1, s2, s3): \n",
    "        self.name = name \n",
    "        self.s1 = s1 \n",
    "        self.s2 = s2 \n",
    "        self.s3 = s3 \n",
    "        Triangles.count+= 1\n",
    "  \n",
    "    def setName(self, name): \n",
    "        self.name = name \n",
    "  \n",
    "    def setdim(self, s1, s2, s3): \n",
    "        self.s1 = s1 \n",
    "        self.s2 = s2 \n",
    "        self.s3 = s3 \n",
    "  \n",
    "    def getcount(self): \n",
    "        return Triangles.count \n",
    "  \n",
    "    # superclass's version of display() \n",
    "    def display(self): \n",
    "        return 'Name: '+self.name+'\\nDimensions: '+str(self.s1)+', '+str(self.s2)+', '+str(self.s3) \n",
    "  \n",
    "# definition of the subclass \n",
    "# inherits from \"Triangles\" \n",
    "class Peri(Triangles): \n",
    "          \n",
    "    def calculate(self): \n",
    "        self.pm = 0\n",
    "        self.pm = self.s1 + self.s2 + self.s3 \n",
    "         \n",
    "    # extended method  \n",
    "    def display(self): \n",
    "          \n",
    "        # calls display() of superclass  \n",
    "        print (super(Peri, self).display()) \n",
    "          \n",
    "        # adding its own properties  \n",
    "        return self.pm \n",
    "          \n",
    "      \n",
    "def main(): \n",
    "      \n",
    "    # instance of the subclass \n",
    "    p = Peri('PQR', 2, 3, 4) \n",
    "      \n",
    "    # call to calculate \n",
    "    p.calculate() \n",
    "      \n",
    "    # one call is enough  \n",
    "    print(p.display()) \n",
    "      \n",
    "main() "
   ]
  },
  {
   "cell_type": "markdown",
   "metadata": {},
   "source": [
    "# FILE HANDLING\n",
    "-->Python provides an inbuilt function for creating, writing, and reading files."
   ]
  },
  {
   "cell_type": "code",
   "execution_count": 6,
   "metadata": {},
   "outputs": [
    {
     "name": "stdout",
     "output_type": "stream",
     "text": [
      "The Veer Surendra Sai University of Technology (VSSUT) Odisha was formed by Orissa Act 9 of 2009 by converting University College of Engineering (UCE), Burla to a non-affiliating Unitary University and came into force by issue of notification by the Industries Department, Government of Odisha from 1st day of July 2009\n"
     ]
    }
   ],
   "source": [
    "f = open(\"vssut.txt\", \"r\")\n",
    "print(f.read())"
   ]
  },
  {
   "cell_type": "code",
   "execution_count": 8,
   "metadata": {},
   "outputs": [
    {
     "name": "stdout",
     "output_type": "stream",
     "text": [
      "The Veer Surendra Sai University of Technology (VSSUT) Odisha was formed by Orissa Act 9 of 2009 by converting University College of Engineering (UCE), Burla to a non-affiliating Unitary University and came into force by issue of notification by the Industries Department, Government of Odisha from 1st day of July 2009Now the file has more content! This legendary University is named after Veer Surendra Sai, the great Indian freedom fighter \n"
     ]
    }
   ],
   "source": [
    "#Opened the file \"vssut.txt\" and added content to the file:\n",
    "\n",
    "f = open(\"vssut.txt\", \"a\")\n",
    "f.write(\" This legendary University is named after Veer Surendra Sai, the great Indian freedom fighter \")\n",
    "f.close()\n",
    "\n",
    "#open and read the file after appending:\n",
    "f = open(\"vssut.txt\", \"r\")\n",
    "print(f.read())\n",
    "\n",
    "\n"
   ]
  },
  {
   "cell_type": "code",
   "execution_count": 9,
   "metadata": {},
   "outputs": [
    {
     "name": "stdout",
     "output_type": "stream",
     "text": [
      "Woops! I have deleted the content!\n"
     ]
    }
   ],
   "source": [
    "#Open the file \"vssut.txt\" and overwrite the content:\n",
    "\n",
    "f = open(\"vssut.txt\", \"w\")\n",
    "f.write(\"Woops! I have deleted the content!\")\n",
    "f.close()\n",
    "\n",
    "#open and read the file after appending:\n",
    "f = open(\"vssut.txt\", \"r\")\n",
    "print(f.read())"
   ]
  }
 ],
 "metadata": {
  "kernelspec": {
   "display_name": "Python 3",
   "language": "python",
   "name": "python3"
  },
  "language_info": {
   "codemirror_mode": {
    "name": "ipython",
    "version": 3
   },
   "file_extension": ".py",
   "mimetype": "text/x-python",
   "name": "python",
   "nbconvert_exporter": "python",
   "pygments_lexer": "ipython3",
   "version": "3.7.6"
  }
 },
 "nbformat": 4,
 "nbformat_minor": 4
}
