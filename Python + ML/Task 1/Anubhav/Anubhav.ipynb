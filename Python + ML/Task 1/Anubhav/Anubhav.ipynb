{
 "cells": [
  {
   "cell_type": "markdown",
   "metadata": {},
   "source": [
    "# Variable"
   ]
  },
  {
   "cell_type": "markdown",
   "metadata": {},
   "source": [
    "A variable is nothing more than a name for something so you\n",
    "can use the name rather than the something as you code.<br>\n",
    "Here is an example of use of variable cars to store number of cars and used in print statement:"
   ]
  },
  {
   "cell_type": "code",
   "execution_count": 1,
   "metadata": {},
   "outputs": [
    {
     "name": "stdout",
     "output_type": "stream",
     "text": [
      "There are 100 cars available.\n"
     ]
    }
   ],
   "source": [
    "cars = 100\n",
    "print(\"There are\", cars, \"cars available.\")"
   ]
  },
  {
   "cell_type": "markdown",
   "metadata": {},
   "source": [
    "# Print Statement"
   ]
  },
  {
   "cell_type": "markdown",
   "metadata": {},
   "source": [
    "The print() statement prints the specified message to the screen.The message can be a string or any other object, the object will be converted into a string before written to the screen.<br>\n",
    "The following command is used to print a simple line Hello World!."
   ]
  },
  {
   "cell_type": "code",
   "execution_count": 2,
   "metadata": {},
   "outputs": [
    {
     "name": "stdout",
     "output_type": "stream",
     "text": [
      "Hello World!\n"
     ]
    }
   ],
   "source": [
    "print(\"Hello World!\")"
   ]
  },
  {
   "cell_type": "markdown",
   "metadata": {},
   "source": [
    "# Data Types and Type Casting"
   ]
  },
  {
   "cell_type": "markdown",
   "metadata": {},
   "source": [
    "Data types are the classification or categorization of data items. Data types represent a kind of value which determines what operations can be performed on that data. Numeric, non-numeric and Boolean (true/false) data are the most used data types.<br>\n",
    "Type casting means to convert the value of a single data type to a different data type.<br>\n",
    "Python has two types of type conversion.<br>\n",
    "1.Implicit(In Implicit type conversion, Python automatically converts one data type to another data type.) <br>\n",
    "Example: Converting integer to float"
   ]
  },
  {
   "cell_type": "code",
   "execution_count": 3,
   "metadata": {},
   "outputs": [
    {
     "name": "stdout",
     "output_type": "stream",
     "text": [
      "Value of num_new: 124.23\n",
      "datatype of num_new: <class 'float'>\n"
     ]
    }
   ],
   "source": [
    "num_int = 123\n",
    "num_flo = 1.23\n",
    "num_new = num_int + num_flo\n",
    "print(\"Value of num_new:\",num_new)\n",
    "print(\"datatype of num_new:\",type(num_new))"
   ]
  },
  {
   "cell_type": "markdown",
   "metadata": {},
   "source": [
    "2.Explicit(In Explicit Type Conversion, users convert the data type of an object to required data type.)<br>\n",
    "Example: Addition of string and integer using explicit conversion"
   ]
  },
  {
   "cell_type": "code",
   "execution_count": 4,
   "metadata": {},
   "outputs": [
    {
     "name": "stdout",
     "output_type": "stream",
     "text": [
      "Data type of num_str after Type Casting: <class 'int'>\n",
      "Sum of num_int and num_str: 579\n",
      "Data type of the sum: <class 'int'>\n"
     ]
    }
   ],
   "source": [
    "num_int = 123\n",
    "num_str = \"456\"\n",
    "num_str = int(num_str)\n",
    "print(\"Data type of num_str after Type Casting:\",type(num_str))\n",
    "num_sum = num_int + num_str\n",
    "print(\"Sum of num_int and num_str:\",num_sum)\n",
    "print(\"Data type of the sum:\",type(num_sum))"
   ]
  },
  {
   "cell_type": "markdown",
   "metadata": {},
   "source": [
    "# Strings and String Formatting"
   ]
  },
  {
   "cell_type": "markdown",
   "metadata": {},
   "source": [
    "A string is usually a bit of text you want to display to someone or “export” out of the program\n",
    "you are writing.<br>\n",
    "Python uses C-style string formatting to create new, formatted strings. The \"%\" operator is used to format a set of variables enclosed in a \"tuple\" (a fixed size list), together with a format string, which contains normal text together with \"argument specifiers\", special symbols like \"%s\" and \"%d\".<br>\n",
    "Example:"
   ]
  },
  {
   "cell_type": "code",
   "execution_count": 5,
   "metadata": {},
   "outputs": [
    {
     "name": "stdout",
     "output_type": "stream",
     "text": [
      "There are 10 types of people.\n"
     ]
    }
   ],
   "source": [
    "x = \"There are %d types of people.\" % 10\n",
    "print(x)"
   ]
  },
  {
   "cell_type": "markdown",
   "metadata": {},
   "source": [
    "# String Methods"
   ]
  },
  {
   "cell_type": "markdown",
   "metadata": {},
   "source": [
    "Python has a set of built-in methods that you can use on strings.<br>\n",
    "A few examples of string methods are:<br>\n",
    "Method \t                 Description<br>\n",
    "capitalize()\t         Converts the first character to upper case<br>\n",
    "casefold()\t             Converts string into lower case<br>\n",
    "center()              \t Returns a centered string<br>\n",
    "count()\t                 Returns the number of times a specified value occurs in a string<br>\n",
    "encode()\t             Returns an encoded version of the string<br>\n",
    "endswith()\t             Returns true if the string ends with the specified value<br>\n",
    "expandtabs()\t         Sets the tab size of the string<br>\n",
    "find()\t                 Searches the string for a specified value and returns the position of where it was found<br>\n",
    "format()\t             Formats specified values in a string<br>\n",
    "format_map()\t         Formats specified values in a string<br>\n",
    "index()\t                 Searches the string for a specified value and returns the position of where it was found<br>\n",
    "isalnum()\t             Returns True if all characters in the string are alphanumeric<br>\n",
    "isalpha()\t             Returns True if all characters in the string are in the alphabet<br>\n",
    "isdecimal()\t             Returns True if all characters in the string are decimals<br>\n",
    "isdigit()\t             Returns True if all characters in the string are digits<br>\n",
    "isidentifier()\t         Returns True if the string is an identifier<br>\n",
    "islower()\t             Returns True if all characters in the string are lower case<br>\n",
    "isnumeric()\t             Returns True if all characters in the string are numeric<br>\n",
    "isprintable()\t         Returns True if all characters in the string are printable<br>\n",
    "isspace()\t             Returns True if all characters in the string are whitespaces<br>\n",
    "istitle() \t             Returns True if the string follows the rules of a title<br>\n",
    "isupper()\t             Returns True if all characters in the string are upper case<br>\n",
    "join()\t                 Joins the elements of an iterable to the end of the string<br>\n",
    "ljust()\t                 Returns a left justified version of the string<br>\n",
    "lower()\t                 Converts a string into lower case<br>\n",
    "lstrip()\t             Returns a left trim version of the string<br>\n",
    "maketrans()\t             Returns a translation table to be used in translations<br>\n",
    "partition()\t             Returns a tuple where the string is parted into three parts<br>\n",
    "replace()\t             Returns a string where a specified value is replaced with a specified value<br>\n",
    "rfind()\t                 Searches the string for a specified value and returns the last position of where it was    \n",
    "found<br>\n",
    "rindex()\t             Searches the string for a specified value and returns the last position of where it was found<br>\n",
    "rjust()\t                 Returns a right justified version of the string<br>\n",
    "rpartition()\t         Returns a tuple where the string is parted into three parts<br>\n",
    "rsplit()\t             Splits the string at the specified separator, and returns a list<br>\n",
    "rstrip()\t             Returns a right trim version of the string<br>\n",
    "split()\t                 Splits the string at the specified separator, and returns a list<br>\n",
    "splitlines()\t         Splits the string at line breaks and returns a list<br>\n",
    "startswith()\t         Returns true if the string starts with the specified value<br>\n",
    "strip()\t                 Returns a trimmed version of the string<br>\n",
    "swapcase()\t             Swaps cases, lower case becomes upper case and vice versa<br>\n",
    "title()             \t Converts the first character of each word to upper case<br>\n",
    "translate()\t             Returns a translated string<br>\n",
    "upper()\t                 Converts a string into upper case<br>\n",
    "zfill()\t                 Fills the string with a specified number of 0 values at the beginning<br>\n",
    "\n",
    "A few examples of string methods are as follows"
   ]
  },
  {
   "cell_type": "code",
   "execution_count": 20,
   "metadata": {},
   "outputs": [
    {
     "name": "stdout",
     "output_type": "stream",
     "text": [
      "Hello, World!\n",
      "hello, world!\n",
      "Jello, World!\n",
      "['Hello', ' World!']\n",
      "True\n",
      "HelloWorld\n",
      "My name is John, and I am 36\n"
     ]
    }
   ],
   "source": [
    "#The strip() method removes any whitespace from the beginning or the end:\n",
    "a = \" Hello, World! \"\n",
    "print(a.strip()) # returns \"Hello, World!\" \n",
    "\n",
    "#The lower() method returns the string in lower case:\n",
    "a = \"Hello, World!\"\n",
    "print(a.lower())\n",
    "\n",
    "#The replace() method replaces a string with another string:\n",
    "a = \"Hello, World!\"\n",
    "print(a.replace(\"H\", \"J\"))\n",
    "\n",
    "#The split() method splits the string into substrings if it finds instances of the separator:\n",
    "a = \"Hello, World!\"\n",
    "print(a.split(\",\")) # returns ['Hello', ' World!'] \n",
    "\n",
    "#Check if the phrase \"ain\" is present in the following text:\n",
    "txt = \"The rain in Spain stays mainly in the plain\"\n",
    "x = \"ain\" in txt\n",
    "print(x)\n",
    "\n",
    "#String Concatenation\n",
    "#Merge variable a with variable b into variable c:\n",
    "a = \"Hello\"\n",
    "b = \"World\"\n",
    "c = a + b\n",
    "print(c)\n",
    "\n",
    "#String Format\n",
    "#Use the format() method to insert numbers into strings:\n",
    "age = 36\n",
    "txt = \"My name is John, and I am {}\"\n",
    "print(txt.format(age))"
   ]
  },
  {
   "cell_type": "markdown",
   "metadata": {},
   "source": [
    "Escape Character:-<br>\n",
    "To insert characters that are illegal in a string, use an escape character.<br>\n",
    "An escape character is a backslash \\ followed by the character you want to insert.<br>\n",
    "Other escape characters used in Python:<br>\n",
    "Code \t     Result <br>\n",
    "\\' \t         Single Quote<br> \t\n",
    "\\\\ \t         Backslash \t<br>\n",
    "\\n \t         New Line \t<br>\n",
    "\\r \t         Carriage Return<br> \t\n",
    "\\t \t         Tab \t<br>\n",
    "\\b \t         Backspace \t<br>\n",
    "\\f \t         Form Feed \t<br>\n",
    "\\ooo \t     Octal value \t<br>\n",
    "\\xhh \t     Hex value<br>\n",
    "An example of an illegal character is a double quote inside a string that is surrounded by double quotes:"
   ]
  },
  {
   "cell_type": "code",
   "execution_count": 7,
   "metadata": {},
   "outputs": [
    {
     "name": "stdout",
     "output_type": "stream",
     "text": [
      "We are the so-called \"Vikings\" from the north.\n"
     ]
    }
   ],
   "source": [
    " txt = \"We are the so-called \\\"Vikings\\\" from the north.\"\n",
    " print(txt)"
   ]
  },
  {
   "cell_type": "markdown",
   "metadata": {},
   "source": [
    "# Lists(and list methods)"
   ]
  },
  {
   "cell_type": "markdown",
   "metadata": {},
   "source": [
    "A list is a collection which is ordered and changeable. In Python lists are written with square brackets.<br>\n",
    "\n",
    "Here are a few examples on working with lists:"
   ]
  },
  {
   "cell_type": "code",
   "execution_count": 19,
   "metadata": {},
   "outputs": [
    {
     "name": "stdout",
     "output_type": "stream",
     "text": [
      "['apple', 'banana', 'cherry']\n",
      "banana\n",
      "cherry\n",
      "['cherry', 'orange', 'kiwi']\n",
      "apple\n",
      "banana\n",
      "cherry\n",
      "Yes, 'apple' is in the fruits list\n",
      "3\n",
      "['apple', 'banana', 'cherry', 'orange']\n",
      "['apple', 'orange', 'banana', 'cherry']\n",
      "['apple', 'banana', 'cherry']\n",
      "['a', 'b', 'c', 1, 2, 3]\n"
     ]
    }
   ],
   "source": [
    "#Create a List:\n",
    "thislist = [\"apple\", \"banana\", \"cherry\"]\n",
    "print(thislist)\n",
    "\n",
    "#Print the second item of the list:\n",
    "thislist = [\"apple\", \"banana\", \"cherry\"]\n",
    "print(thislist[1])\n",
    "\n",
    "#Negative Indexing: It means beginning from the end, -1 refers to the last item, -2 refers to the second last item etc.\n",
    "#Example: Print the last item of the list:\n",
    "thislist = [\"apple\", \"banana\", \"cherry\"]\n",
    "print(thislist[-1])\n",
    "\n",
    "#Range of Indexes\n",
    "\n",
    "#You can specify a range of indexes by specifying where to start and where to end the range.\n",
    "#When specifying a range, the return value will be a new list with the specified items.\n",
    "#Example: Return the third, fourth, and fifth item:\n",
    "thislist = [\"apple\", \"banana\", \"cherry\", \"orange\", \"kiwi\", \"melon\", \"mango\"]\n",
    "print(thislist[2:5])\n",
    "\n",
    "#Loop Through a List\n",
    "\n",
    "#You can loop through the list items by using a for loop:\n",
    "#Example: Print all items in the list, one by one:\n",
    "thislist = [\"apple\", \"banana\", \"cherry\"]\n",
    "for x in thislist:\n",
    "  print(x) \n",
    "\n",
    "#Check if \"apple\" is present in the list:\n",
    "thislist = [\"apple\", \"banana\", \"cherry\"]\n",
    "if \"apple\" in thislist:\n",
    "  print(\"Yes, 'apple' is in the fruits list\") \n",
    "\n",
    "#Print the number of items in the list:\n",
    "thislist = [\"apple\", \"banana\", \"cherry\"]\n",
    "print(len(thislist))\n",
    "\n",
    "#Using the append() method to append an item:\n",
    "thislist = [\"apple\", \"banana\", \"cherry\"]\n",
    "thislist.append(\"orange\")\n",
    "print(thislist)\n",
    "\n",
    "#To add an item at the specified index, use the insert() method:\n",
    "#Example: Insert an item as the second position:\n",
    "thislist = [\"apple\", \"banana\", \"cherry\"]\n",
    "thislist.insert(1, \"orange\")\n",
    "print(thislist)\n",
    "\n",
    "#Copy a list\n",
    "#Make a copy of a list with the copy() method:\n",
    "thislist = [\"apple\", \"banana\", \"cherry\"]\n",
    "mylist = thislist.copy()\n",
    "print(mylist)\n",
    "\n",
    "#Join two list:\n",
    "list1 = [\"a\", \"b\" , \"c\"]\n",
    "list2 = [1, 2, 3]\n",
    "\n",
    "list3 = list1 + list2\n",
    "print(list3) "
   ]
  },
  {
   "cell_type": "markdown",
   "metadata": {},
   "source": [
    "Here are more built-in methods that you can use on lists/arrays.<br>\n",
    "Method   \tDescription<br>\n",
    "append()\tAdds an element at the end of the list<br>\n",
    "clear()\t    Removes all the elements from the list<br>\n",
    "copy()  \tReturns a copy of the list<br>\n",
    "count()\t    Returns the number of elements with the specified value<br>\n",
    "extend()\tAdd the elements of a list (or any iterable), to the end of the current list<br>\n",
    "index()\t    Returns the index of the first element with the specified value<br>\n",
    "insert()\tAdds an element at the specified position<br>\n",
    "pop()\t    Removes the element at the specified position<br>\n",
    "remove()\tRemoves the first item with the specified value<br>\n",
    "reverse()\tReverses the order of the list<br>\n",
    "sort()\t    Sorts the list<br>"
   ]
  },
  {
   "cell_type": "markdown",
   "metadata": {},
   "source": [
    "# Tuples(and list methods)"
   ]
  },
  {
   "cell_type": "markdown",
   "metadata": {},
   "source": [
    "A tuple is a collection which is ordered and unchangeable. In Python tuples are written with round brackets.<br>\n",
    "\n",
    "Python has two built-in methods that you can use on tuples.<br>\n",
    "Method \tDescription<br>\n",
    "count()\tReturns the number of times a specified value occurs in a tuple<br>\n",
    "index()\tSearches the tuple for a specified value and returns the position of where it was found<br>\n",
    "\n",
    "Here are few examples on working with tuples:"
   ]
  },
  {
   "cell_type": "code",
   "execution_count": 18,
   "metadata": {},
   "outputs": [
    {
     "name": "stdout",
     "output_type": "stream",
     "text": [
      "('apple', 'banana', 'cherry')\n",
      "banana\n",
      "cherry\n",
      "('cherry', 'orange', 'kiwi')\n"
     ]
    },
    {
     "ename": "TypeError",
     "evalue": "'list' object is not callable",
     "output_type": "error",
     "traceback": [
      "\u001b[0;31m---------------------------------------------------------------------------\u001b[0m",
      "\u001b[0;31mTypeError\u001b[0m                                 Traceback (most recent call last)",
      "\u001b[0;32m<ipython-input-18-e55cf2f462d2>\u001b[0m in \u001b[0;36m<module>\u001b[0;34m\u001b[0m\n\u001b[1;32m     24\u001b[0m \u001b[0;31m#Example: Convert the tuple into a list to be able to change it:\u001b[0m\u001b[0;34m\u001b[0m\u001b[0;34m\u001b[0m\u001b[0;34m\u001b[0m\u001b[0m\n\u001b[1;32m     25\u001b[0m \u001b[0mx\u001b[0m \u001b[0;34m=\u001b[0m \u001b[0;34m(\u001b[0m\u001b[0;34m\"apple\"\u001b[0m\u001b[0;34m,\u001b[0m \u001b[0;34m\"banana\"\u001b[0m\u001b[0;34m,\u001b[0m \u001b[0;34m\"cherry\"\u001b[0m\u001b[0;34m)\u001b[0m\u001b[0;34m\u001b[0m\u001b[0;34m\u001b[0m\u001b[0m\n\u001b[0;32m---> 26\u001b[0;31m \u001b[0my\u001b[0m \u001b[0;34m=\u001b[0m \u001b[0mlist\u001b[0m\u001b[0;34m(\u001b[0m\u001b[0mx\u001b[0m\u001b[0;34m)\u001b[0m\u001b[0;34m\u001b[0m\u001b[0;34m\u001b[0m\u001b[0m\n\u001b[0m\u001b[1;32m     27\u001b[0m \u001b[0my\u001b[0m\u001b[0;34m[\u001b[0m\u001b[0;36m1\u001b[0m\u001b[0;34m]\u001b[0m \u001b[0;34m=\u001b[0m \u001b[0;34m\"kiwi\"\u001b[0m\u001b[0;34m\u001b[0m\u001b[0;34m\u001b[0m\u001b[0m\n\u001b[1;32m     28\u001b[0m \u001b[0mx\u001b[0m \u001b[0;34m=\u001b[0m \u001b[0mtuple\u001b[0m\u001b[0;34m(\u001b[0m\u001b[0my\u001b[0m\u001b[0;34m)\u001b[0m\u001b[0;34m\u001b[0m\u001b[0;34m\u001b[0m\u001b[0m\n",
      "\u001b[0;31mTypeError\u001b[0m: 'list' object is not callable"
     ]
    }
   ],
   "source": [
    "#Create a Tuple:\n",
    "thistuple = (\"apple\", \"banana\", \"cherry\")\n",
    "print(thistuple)\n",
    "\n",
    "#Access Tuple Items: You can access tuple items by referring to the index number, inside square brackets:\n",
    "#Example: Print the second item in the tuple:\n",
    "thistuple = (\"apple\", \"banana\", \"cherry\")\n",
    "print(thistuple[1])\n",
    "\n",
    "#Negative Indexing: Negative indexing means beginning from the end, -1 refers to the last item, -2 refers to the second last item etc.\n",
    "#Example: Print the last item of the tuple:\n",
    "thistuple = (\"apple\", \"banana\", \"cherry\")\n",
    "print(thistuple[-1])\n",
    "\n",
    "#Range of Indexes\n",
    "#You can specify a range of indexes by specifying where to start and where to end the range.\n",
    "#When specifying a range, the return value will be a new tuple with the specified items.\n",
    "#Example: Return the third, fourth, and fifth item:\n",
    "thistuple = (\"apple\", \"banana\", \"cherry\", \"orange\", \"kiwi\", \"melon\", \"mango\")\n",
    "print(thistuple[2:5])\n",
    "\n",
    "#Loop Through a Tuple: You can loop through the tuple items by using a for loop.\n",
    "#Example: Iterate through the items and print the values:\n",
    "thistuple = (\"apple\", \"banana\", \"cherry\")\n",
    "for x in thistuple:\n",
    "  print(x) \n",
    "\n",
    "#Check if Item Exists: To determine if a specified item is present in a tuple use the in keyword:\n",
    "#Example: Check if \"apple\" is present in the tuple:\n",
    "thistuple = (\"apple\", \"banana\", \"cherry\")\n",
    "if \"apple\" in thistuple:\n",
    "  print(\"Yes, 'apple' is in the fruits tuple\") \n",
    "\n",
    "#Tuple Length: To determine how many items a tuple has, use the len() method:\n",
    "#Example: Print the number of items in the tuple:\n",
    "thistuple = (\"apple\", \"banana\", \"cherry\")\n",
    "print(len(thistuple)) \n",
    "\n",
    "#To create a tuple with only one item, you have to add a comma after the item, otherwise Python will not recognize it as a tuple.\n",
    "thistuple = (\"apple\",)\n",
    "print(type(thistuple))\n",
    "\n",
    "#NOT a tuple\n",
    "thistuple = (\"apple\")\n",
    "print(type(thistuple)) \n",
    "\n",
    "\n",
    "#The del keyword can delete the tuple completely:\n",
    "thistuple = (\"apple\", \"banana\", \"cherry\")\n",
    "del thistuple\n",
    "\n",
    "#Join two tuples:\n",
    "tuple1 = (\"a\", \"b\" , \"c\")\n",
    "tuple2 = (1, 2, 3)\n",
    "\n",
    "tuple3 = tuple1 + tuple2\n",
    "print(tuple3) \n",
    "\n",
    "#Using the tuple() method to make a tuple:\n",
    "thistuple = tuple((\"apple\", \"banana\", \"cherry\")) # note the double round-brackets\n",
    "print(thistuple)\n"
   ]
  },
  {
   "cell_type": "markdown",
   "metadata": {},
   "source": [
    "# Sets(and list methods)"
   ]
  },
  {
   "cell_type": "markdown",
   "metadata": {},
   "source": [
    "A set is a collection which is unordered and unindexed. In Python sets are written with curly brackets.<br>\n",
    "\n",
    "Python has a set of built-in methods that you can use on sets.<br>\n",
    "Method \t                Description<br>\n",
    "add()\t                Adds an element to the set<br>\n",
    "clear()        \t        Removes all the elements from the set<br>\n",
    "copy()\t                Returns a copy of the set<br>\n",
    "difference()\t        Returns a set containing the difference between two or more sets<br>\n",
    "difference_update()\t    Removes the items in this set that are also included in another, specified set<br>\n",
    "discard()\t            Remove the specified item<br>\n",
    "intersection()\t        Returns a set, that is the intersection of two other sets<br>\n",
    "intersection_update()\tRemoves the items in this set that are not present in other, specified set(s)<br>\n",
    "isdisjoint()\t        Returns whether two sets have a intersection or not<br>\n",
    "issubset()\t            Returns whether another set contains this set or not<br>\n",
    "issuperset()\t        Returns whether this set contains another set or not<br>\n",
    "pop()               \tRemoves an element from the set<br>\n",
    "remove()\t            Removes the specified element<br>\n",
    "symmetric_difference()\tReturns a set with the symmetric differences of two sets<br>\n",
    "union()\t                Return a set containing the union of sets<br>\n",
    "update()\t            Update the set with the union of this set and others"
   ]
  },
  {
   "cell_type": "code",
   "execution_count": 17,
   "metadata": {},
   "outputs": [
    {
     "name": "stdout",
     "output_type": "stream",
     "text": [
      "{'cherry', 'apple', 'banana'}\n",
      "cherry\n",
      "apple\n",
      "banana\n",
      "{'cherry', 'apple', 'banana', 'orange'}\n",
      "{'grapes', 'cherry', 'mango', 'apple', 'banana', 'orange'}\n",
      "3\n",
      "{'cherry', 'apple'}\n",
      "cherry\n",
      "{'apple', 'banana'}\n",
      "set()\n",
      "{'b', 1, 2, 3, 'c', 'a'}\n",
      "{'b', 1, 2, 3, 'c', 'a'}\n",
      "{'cherry', 'apple', 'banana'}\n"
     ]
    }
   ],
   "source": [
    "#Create a Set:\n",
    "thisset = {\"apple\", \"banana\", \"cherry\"}\n",
    "print(thisset) \n",
    "\n",
    "#Access Items:-\n",
    "\n",
    "#You cannot access items in a set by referring to an index, since sets are unordered the items has no index.\n",
    "\n",
    "#But you can loop through the set items using a for loop, or ask if a specified value is present in a set, by using the in keyword.\n",
    "#Example: Loop through the set, and print the values:\n",
    "thisset = {\"apple\", \"banana\", \"cherry\"}\n",
    "for x in thisset:\n",
    "  print(x) \n",
    "\n",
    "#Add an item to a set, using the add() method:\n",
    "thisset = {\"apple\", \"banana\", \"cherry\"}\n",
    "thisset.add(\"orange\")\n",
    "print(thisset) \n",
    "\n",
    "#Add multiple items to a set, using the update() method:\n",
    "thisset = {\"apple\", \"banana\", \"cherry\"}\n",
    "thisset.update([\"orange\", \"mango\", \"grapes\"])\n",
    "print(thisset) \n",
    "\n",
    "#Get the number of items in a set:\n",
    "thisset = {\"apple\", \"banana\", \"cherry\"}\n",
    "print(len(thisset)) \n",
    "\n",
    "#Remove \"banana\" by using the remove() method:\n",
    "thisset = {\"apple\", \"banana\", \"cherry\"}\n",
    "thisset.remove(\"banana\")\n",
    "print(thisset) \n",
    "\n",
    "#Remove the last item by using the pop() method:\n",
    "thisset = {\"apple\", \"banana\", \"cherry\"}\n",
    "x = thisset.pop()\n",
    "print(x)\n",
    "print(thisset) \n",
    "\n",
    "#The clear() method empties the set:\n",
    "thisset = {\"apple\", \"banana\", \"cherry\"}\n",
    "thisset.clear()\n",
    "print(thisset) \n",
    "\n",
    "#The del keyword will delete the set completely:\n",
    "thisset = {\"apple\", \"banana\", \"cherry\"}\n",
    "del thisset \n",
    "\n",
    "#Join Two Sets:There are several ways to join two or more sets in Python.\n",
    "#You can use the union() method that returns a new set containing all items from both sets, or the update() method that inserts all the items from one set into another:\n",
    "#Example: The union() method returns a new set with all items from both sets:\n",
    "set1 = {\"a\", \"b\" , \"c\"}\n",
    "set2 = {1, 2, 3}\n",
    "set3 = set1.union(set2)\n",
    "print(set3) \n",
    "\n",
    "#The update() method inserts the items in set2 into set1:\n",
    "set1 = {\"a\", \"b\" , \"c\"}\n",
    "set2 = {1, 2, 3}\n",
    "set1.update(set2)\n",
    "print(set1) \n",
    "\n",
    "#It is also possible to use the set() constructor to make a set.\n",
    "#Example: Using the set() constructor to make a set:\n",
    "thisset = set((\"apple\", \"banana\", \"cherry\")) # note the double round-brackets\n",
    "print(thisset) "
   ]
  },
  {
   "cell_type": "markdown",
   "metadata": {},
   "source": [
    "# Dictionaries(and list methods)"
   ]
  },
  {
   "cell_type": "markdown",
   "metadata": {},
   "source": [
    "A dictionary is a collection which is unordered, changeable and indexed. In Python dictionaries are written with curly brackets, and they have keys and values.<br>\n",
    "\n",
    "Python has a set of built-in methods that you can use on dictionaries.<br>\n",
    "Method \t      Description<br>\n",
    "clear()\t      Removes all the elements from the dictionary<br>\n",
    "copy()     \t  Returns a copy of the dictionary<br>\n",
    "fromkeys()\t  Returns a dictionary with the specified keys and value<br>\n",
    "get()\t      Returns the value of the specified key<br>\n",
    "items()\t      Returns a list containing a tuple for each key value pair<br>\n",
    "keys()\t      Returns a list containing the dictionary's keys<br>\n",
    "pop()\t      Removes the element with the specified key<br>\n",
    "popitem()\t  Removes the last inserted key-value pair<br>\n",
    "setdefault()  Returns the value of the specified key. If the key does not exist: insert the key, with the specified value<br>\n",
    "update()\t  Updates the dictionary with the specified key-value pairs<br>\n",
    "values()\t  Returns a list of all the values in the dictionary<br>"
   ]
  },
  {
   "cell_type": "code",
   "execution_count": 16,
   "metadata": {},
   "outputs": [
    {
     "name": "stdout",
     "output_type": "stream",
     "text": [
      "{'brand': 'Ford', 'model': 'Mustang', 'year': 1964}\n",
      "brand\n",
      "model\n",
      "year\n",
      "Ford\n",
      "Mustang\n",
      "2018\n",
      "brand Ford\n",
      "model Mustang\n",
      "year 2018\n",
      "Yes, 'model' is one of the keys in the thisdict dictionary\n",
      "3\n",
      "{'brand': 'Ford', 'model': 'Mustang', 'year': 1964, 'color': 'red'}\n",
      "{'brand': 'Ford', 'year': 1964}\n",
      "{'brand': 'Ford', 'model': 'Mustang'}\n",
      "{'brand': 'Ford', 'year': 1964}\n",
      "{}\n",
      "{'brand': 'Ford', 'model': 'Mustang', 'year': 1964}\n",
      "{'brand': 'Ford', 'model': 'Mustang', 'year': 1964}\n",
      "{'brand': 'Ford', 'model': 'Mustang', 'year': 1964}\n"
     ]
    }
   ],
   "source": [
    "#Create and print a dictionary:\n",
    "thisdict =\t{\n",
    "  \"brand\": \"Ford\",\n",
    "  \"model\": \"Mustang\",\n",
    "  \"year\": 1964\n",
    "}\n",
    "print(thisdict)\n",
    "\n",
    "#Accessing Items\n",
    "#You can access the items of a dictionary by referring to its key name, inside square brackets:\n",
    "#Example: Get the value of the \"model\" key:\n",
    "x = thisdict[\"model\"]\n",
    "\n",
    "#Change Values: You can change the value of a specific item by referring to its key name:\n",
    "#Example: Change the \"year\" to 2018:\n",
    "thisdict =\t{\n",
    "  \"brand\": \"Ford\",\n",
    "  \"model\": \"Mustang\",\n",
    "  \"year\": 1964\n",
    "}\n",
    "thisdict[\"year\"] = 2018\n",
    "\n",
    "#Loop Through a Dictionary\n",
    "\n",
    "#You can loop through a dictionary by using a for loop.\n",
    "\n",
    "#When looping through a dictionary, the return value are the keys of the dictionary, but there are methods to return the values as well.\n",
    "#Example: Print all key names in the dictionary, one by one:\n",
    "for x in thisdict:\n",
    "  print(x) \n",
    "\n",
    "#You can also use the values() method to return values of a dictionary:\n",
    "for x in thisdict.values():\n",
    "  print(x) \n",
    "\n",
    "#Loop through both keys and values, by using the items() method:\n",
    "for x, y in thisdict.items():\n",
    "  print(x, y) \n",
    "\n",
    "#Check if Key Exists\n",
    "#To determine if a specified key is present in a dictionary use the in keyword:\n",
    "#Example: Check if \"model\" is present in the dictionary:\n",
    "thisdict =\t{\n",
    "  \"brand\": \"Ford\",\n",
    "  \"model\": \"Mustang\",\n",
    "  \"year\": 1964\n",
    "}\n",
    "if \"model\" in thisdict:\n",
    "  print(\"Yes, 'model' is one of the keys in the thisdict dictionary\") \n",
    "\n",
    "#Dictionary Length: To determine how many items (key-value pairs) a dictionary has, use the len() function.\n",
    "#Example: Print the number of items in the dictionary:\n",
    "print(len(thisdict)) \n",
    "\n",
    "#Adding Items: Adding an item to the dictionary is done by using a new index key and assigning a value to it\n",
    "#Example\n",
    "thisdict =\t{\n",
    "  \"brand\": \"Ford\",\n",
    "  \"model\": \"Mustang\",\n",
    "  \"year\": 1964\n",
    "}\n",
    "thisdict[\"color\"] = \"red\"\n",
    "print(thisdict)\n",
    "\n",
    "#Removing Items: There are several methods to remove items from a dictionary:\n",
    "#Example: The pop() method removes the item with the specified key name:\n",
    "thisdict =\t{\n",
    "  \"brand\": \"Ford\",\n",
    "  \"model\": \"Mustang\",\n",
    "  \"year\": 1964\n",
    "}\n",
    "thisdict.pop(\"model\")\n",
    "print(thisdict) \n",
    "\n",
    "#The popitem() method removes the last inserted item (in versions before 3.7, a random item is removed instead):\n",
    "thisdict =\t{\n",
    "  \"brand\": \"Ford\",\n",
    "  \"model\": \"Mustang\",\n",
    "  \"year\": 1964\n",
    "}\n",
    "thisdict.popitem()\n",
    "print(thisdict) \n",
    "\n",
    "#The del keyword removes the item with the specified key name:\n",
    "thisdict =\t{\n",
    "  \"brand\": \"Ford\",\n",
    "  \"model\": \"Mustang\",\n",
    "  \"year\": 1964\n",
    "}\n",
    "del thisdict[\"model\"]\n",
    "print(thisdict) \n",
    "\n",
    "#The clear() method empties the dictionary:\n",
    "thisdict =\t{\n",
    "  \"brand\": \"Ford\",\n",
    "  \"model\": \"Mustang\",\n",
    "  \"year\": 1964\n",
    "}\n",
    "thisdict.clear()\n",
    "print(thisdict) \n",
    "\n",
    "#Copy a Dictionary\n",
    "\n",
    "#You cannot copy a dictionary simply by typing dict2 = dict1, because: dict2 will only be a reference to dict1, and changes made in dict1 will automatically also be made in dict2.\n",
    "\n",
    "#There are ways to make a copy, one way is to use the built-in Dictionary method copy().\n",
    "#Example: Make a copy of a dictionary with the copy() method:\n",
    "thisdict =\t{\n",
    "  \"brand\": \"Ford\",\n",
    "  \"model\": \"Mustang\",\n",
    "  \"year\": 1964\n",
    "}\n",
    "mydict = thisdict.copy()\n",
    "print(mydict)\n",
    "\n",
    "#Another way to make a copy is to use the built-in function dict().\n",
    "#Example: Make a copy of a dictionary with the dict() function:\n",
    "thisdict =\t{\n",
    "  \"brand\": \"Ford\",\n",
    "  \"model\": \"Mustang\",\n",
    "  \"year\": 1964\n",
    "}\n",
    "mydict = dict(thisdict)\n",
    "print(mydict) \n",
    "\n",
    "#Nested Dictionaries: A dictionary can also contain many dictionaries, this is called nested dictionaries.\n",
    "#Example: Create a dictionary that contain three dictionaries:\n",
    "myfamily = {\n",
    "  \"child1\" : {\n",
    "    \"name\" : \"Emil\",\n",
    "    \"year\" : 2004\n",
    "  },\n",
    "  \"child2\" : {\n",
    "    \"name\" : \"Tobias\",\n",
    "    \"year\" : 2007\n",
    "  },\n",
    "  \"child3\" : {\n",
    "    \"name\" : \"Linus\",\n",
    "    \"year\" : 2011\n",
    "  }\n",
    "} \n",
    "\n",
    "#The dict() Constructor: It is also possible to use the dict() constructor to make a new dictionary:\n",
    "#Example\n",
    "thisdict = dict(brand=\"Ford\", model=\"Mustang\", year=1964)\n",
    "# note that keywords are not string literals\n",
    "# note the use of equals rather than colon for the assignment\n",
    "print(thisdict)"
   ]
  },
  {
   "cell_type": "markdown",
   "metadata": {},
   "source": [
    "# Functions"
   ]
  },
  {
   "cell_type": "markdown",
   "metadata": {},
   "source": [
    "A function is a block of code which only runs when it is called.<br>\n",
    "You can pass data, known as parameters, into a function.<br>\n",
    "A function can return data as a result.<br>\n",
    "Example:"
   ]
  },
  {
   "cell_type": "code",
   "execution_count": 14,
   "metadata": {},
   "outputs": [
    {
     "name": "stdout",
     "output_type": "stream",
     "text": [
      "Hello from a function\n",
      "Hello from a function\n"
     ]
    }
   ],
   "source": [
    "#A function can return data as a result.\n",
    "#Example:\n",
    "def my_function():\n",
    "  print(\"Hello from a function\")\n",
    "my_function()\n",
    "\n",
    "#Calling a Function\n",
    "\n",
    "#To call a function, use the function name followed by parenthesis:\n",
    "#Example\n",
    "def my_function():\n",
    "  print(\"Hello from a function\")\n",
    "\n",
    "my_function() \n",
    "\n"
   ]
  },
  {
   "cell_type": "markdown",
   "metadata": {},
   "source": [
    "Arguments:-<br>\n",
    "Information can be passed into functions as arguments.<br>\n",
    "Arguments are specified after the function name, inside the parentheses. You can add as many arguments as you want, just separate them with a comma.<br>\n",
    "The following example has a function with one argument (fname). When the function is called, we pass along a first name, which is used inside the function to print the full name: "
   ]
  },
  {
   "cell_type": "code",
   "execution_count": 15,
   "metadata": {},
   "outputs": [
    {
     "name": "stdout",
     "output_type": "stream",
     "text": [
      "Emil Refsnes\n",
      "Tobias Refsnes\n",
      "Linus Refsnes\n"
     ]
    }
   ],
   "source": [
    "def my_function(fname):\n",
    "  print(fname + \" Refsnes\")\n",
    "\n",
    "my_function(\"Emil\")\n",
    "my_function(\"Tobias\")\n",
    "my_function(\"Linus\") "
   ]
  },
  {
   "cell_type": "markdown",
   "metadata": {},
   "source": [
    "# Lambdas"
   ]
  },
  {
   "cell_type": "markdown",
   "metadata": {},
   "source": [
    "A lambda function is a small anonymous function.\n",
    "A lambda function can take any number of arguments, but can only have one expression.\n",
    "Example: A lambda function that adds 10 to the number passed in as an argument, and print the result:"
   ]
  },
  {
   "cell_type": "code",
   "execution_count": null,
   "metadata": {},
   "outputs": [],
   "source": [
    "x = lambda a : a + 10\n",
    "print(x(5)) "
   ]
  },
  {
   "cell_type": "markdown",
   "metadata": {},
   "source": [
    "The power of lambda is better shown when you use them as an anonymous function inside another function.\n",
    "\n",
    "Say you have a function definition that takes one argument, and that argument will be multiplied with an unknown number:"
   ]
  },
  {
   "cell_type": "code",
   "execution_count": null,
   "metadata": {},
   "outputs": [],
   "source": [
    "def myfunc(n):\n",
    "  return lambda a : a * n\n",
    "\n",
    "mydoubler = myfunc(2)\n",
    "\n",
    "print(mydoubler(11))"
   ]
  },
  {
   "cell_type": "markdown",
   "metadata": {},
   "source": [
    "# Conditionals"
   ]
  },
  {
   "cell_type": "markdown",
   "metadata": {},
   "source": [
    "Conditional Statement in Python perform different computations or actions depending on whether a specific Boolean constraint evaluates to true or false. Conditional statements are handled by IF statements in Python.\n",
    "Example:"
   ]
  },
  {
   "cell_type": "code",
   "execution_count": null,
   "metadata": {},
   "outputs": [],
   "source": [
    "a = 33\n",
    "b = 200\n",
    "if b > a:\n",
    "  print(\"b is greater than a\")"
   ]
  },
  {
   "cell_type": "markdown",
   "metadata": {},
   "source": [
    "# Operators "
   ]
  },
  {
   "cell_type": "markdown",
   "metadata": {},
   "source": [
    "Operators are used to perform operations on variables and values.<br>\n",
    "Python divides the operators in the following groups:<br>\n",
    "1.Arithmetic operators<br>\n",
    "Arithmetic operators are used with numeric values to perform common mathematical operations:<br>\n",
    "Operator \t     Name \t            Example \t<br>\n",
    "+ \t             Addition \t        x + y \t<br>\n",
    "- \t             Subtraction \t    x - y \t<br>\n",
    "* \t             Multiplication \tx * y \t<br>\n",
    "/ \t             Division \t        x / y \t<br>\n",
    "% \t             Modulus \t        x % y \t<br>\n",
    "** \t             Exponentiation \tx ** y \t<br>\n",
    "// \t             Floor division \tx // y<br>\n",
    "\n",
    "\n",
    "2.Assignment operators<br>\n",
    "Assignment operators are used to assign values to variables:<br>\n",
    "Operator \t      Example \tSame As<br>\n",
    "= \t              x = 5 \tx = 5 \t<br>\n",
    "+= \t              x += 3 \tx = x + 3 \t<br>\n",
    "-= \t              x -= 3 \tx = x - 3 \t<br>\n",
    "*= \t              x *= 3 \tx = x * 3 \t<br>\n",
    "/= \t              x /= 3 \tx = x / 3 \t<br>\n",
    "%= \t              x %= 3 \tx = x % 3 \t<br>\n",
    "//= \t          x //= 3 \tx = x // 3 \t<br>\n",
    "**= \t          x**= 3 \tx = x ** 3 \t<br>\n",
    "&= \t              x &= 3 \tx = x & 3 \t<br>\n",
    "|= \t              x |= 3 \tx = x | 3 \t<br>\n",
    "^= \t              x ^= 3 \tx = x ^ 3 \t<br>\n",
    ">>= \t          x >>= 3 \tx = x >> 3<br>\n",
    "\n",
    "\n",
    "3.Comparison operators<br>\n",
    "Comparison operators are used to compare two values:<br>\n",
    "Operator \tName \t                   Example<br> \t\n",
    "== \t        Equal \t                   x == y \t<br>\n",
    "!= \t        Not equal \t               x != y \t<br>\n",
    "> \t        Greater than \t           x > y \t<br>\n",
    "< \t        Less than \t               x < y \t<br>\n",
    ">= \t        Greater than or equal to   x >= y \t<br>\n",
    "<= \t        Less than or equal to \t   x <= y<br>\n",
    "\n",
    "\n",
    "4.Logical operators<br>\n",
    "Logical operators are used to combine conditional statements:<br>\n",
    "Operator \tDescription \t                                            Example <br>\n",
    "and  \t    Returns True if both statements are true \t                x < 5 and  x < 10 \t<br>\n",
    "or \t        Returns True if one of the statements is true \t            x < 5 or x < 4 \t<br>\n",
    "not \t    Reverse the result, returns False if the result is true \tnot(x < 5 and x < 10)<br>\n",
    "\n",
    "\n",
    "5.Identity operators<br>\n",
    "Identity operators are used to compare the objects, not if they are equal, but if they are actually the same object, with the same memory location:<br>\n",
    "Operator \tDescription \t                                        Example <br>\t\n",
    "is  \t    Returns True if both variables are the same object \t    x is y \t<br>\n",
    "is not \t    Returns True if both variables are not the same object \tx is not y<br>\n",
    "\n",
    "\n",
    "6.Membership operators<br>\n",
    "Membership operators are used to test if a sequence is presented in an object:<br>\n",
    "Operator \tDescription \t                                                                    Example<br>\n",
    "in  \t    Returns True if a sequence with the specified value is present in the object \t    x in y \t<br>\n",
    "not in \t    Returns True if a sequence with the specified value is not present in the object \tx not in y<br>\n",
    "\n",
    "\n",
    "7.Bitwise operators<br>\n",
    "Bitwise operators are used to compare (binary) numbers:<br>\n",
    "Operator \tName \t             Description<br>\n",
    "&  \t        AND \t             Sets each bit to 1 if both bits are 1<br>\n",
    "| \t        OR \t                 Sets each bit to 1 if one of two bits is 1<br>\n",
    " ^ \t        XOR \t             Sets each bit to 1 if only one of two bits is 1<br>\n",
    "~  \t        NOT \t             Inverts all the bits<br>\n",
    "<< \t        Zero fill left shift Shift left by pushing zeros in from the right and let the leftmost bits fall off>> \t        Signed right shift \t    Shift right by pushing copies of the leftmost bit in from the left, and let \n",
    "the rightmost bits fall off"
   ]
  },
  {
   "cell_type": "code",
   "execution_count": 13,
   "metadata": {},
   "outputs": [
    {
     "name": "stdout",
     "output_type": "stream",
     "text": [
      "3\n",
      "2\n",
      "2.0\n",
      "6\n",
      "Value of c is  31\n",
      "Value of c is  52\n",
      "Value of c is  1092\n",
      "Value of c is  52.0\n",
      "a is either less than or equal to  b\n",
      "b is either greater than  or equal to b\n",
      "At least two variables have equal values\n",
      "a and b have same identity\n",
      "a and b have same identity\n",
      "a is not available in the given list\n",
      "b is not available in the given list\n",
      "Value of c is  12\n",
      "Value of c is  61\n",
      "Value of c is  49\n",
      "Value of c is  -61\n",
      "Value of c is  240\n",
      "Value of c is  15\n"
     ]
    }
   ],
   "source": [
    "#A few examples\n",
    "#Arithmatic operators\n",
    "print(1+2)\n",
    "print(4-2)\n",
    "print(4/2)\n",
    "print(2*3)\n",
    "\n",
    "#Assignment operators\n",
    "a = 21\n",
    "b = 10\n",
    "c = 0\n",
    "c = a + b\n",
    "print (\"Value of c is \", c)\n",
    "c += a\n",
    "print (\"Value of c is \", c)\n",
    "c *= a\n",
    "print (\"Value of c is \", c) \n",
    "c /= a \n",
    "print (\"Value of c is \", c) \n",
    "\n",
    "#Comparison operators\n",
    "a = 5;\n",
    "b = 20;\n",
    "if ( a <= b ):\n",
    "   print (\"a is either less than or equal to  b\")\n",
    "else:\n",
    "   print (\"a is neither less than nor equal to  b\")\n",
    "\n",
    "if ( b >= a ):\n",
    "   print (\"b is either greater than  or equal to b\")\n",
    "else:\n",
    "   print (\"b is neither greater than  nor equal to b\")\n",
    "\n",
    "#Logical operators\n",
    "a = 10\n",
    "b = 10\n",
    "c = 20\n",
    "if (a==b and b==c):\n",
    "    print (\"All variables have equal values\")\n",
    "if (a==b or b==c):\n",
    "    print (\"At least two variables have equal values\")\n",
    "\n",
    "\n",
    "#Identity operators\n",
    "a = 20\n",
    "b = 20\n",
    "if ( a is b ):\n",
    "   print (\"a and b have same identity\")\n",
    "else:\n",
    "   print (\"a and b do not have same identity\")\n",
    "if ( a is not b ):\n",
    "   print (\"a and b do not have same identity\")\n",
    "else:\n",
    "   print (\"a and b have same identity\")\n",
    "\n",
    "\n",
    "#Membership operators\n",
    "a = 10\n",
    "b = 20\n",
    "list = [1, 2, 3, 4, 5 ];\n",
    "if ( a in list ):\n",
    "   print (\"a is available in the given list\")\n",
    "else:\n",
    "   print (\"a is not available in the given list\")\n",
    "if ( b not in list ):\n",
    "   print (\"b is not available in the given list\")\n",
    "else:\n",
    "   print (\"b is available in the given list\")\n",
    "\n",
    "#Bitwise operators\n",
    "a = 60           \n",
    "b = 13            \n",
    "c = 0\n",
    "c = a & b;      \n",
    "print (\"Value of c is \", c)\n",
    "c = a | b;   \n",
    "print (\"Value of c is \", c)\n",
    "c = a ^ b;        \n",
    "print (\"Value of c is \", c)\n",
    "c = ~a;           \n",
    "print (\"Value of c is \", c)\n",
    "c = a << 2;       \n",
    "print (\"Value of c is \", c)\n",
    "c = a >> 2;       \n",
    "print (\"Value of c is \", c)"
   ]
  },
  {
   "cell_type": "markdown",
   "metadata": {},
   "source": [
    "# Loops"
   ]
  },
  {
   "cell_type": "markdown",
   "metadata": {},
   "source": [
    "There are two types of loops in Python, for and while.<br>\n",
    "1.The \"for\" loop<br>\n",
    "A for loop is used for iterating over a sequence (that is either a list, a tuple, a dictionary, a set, or a string).<br>\n",
    "\n",
    "This is less like the for keyword in other programming languages, and works more like an iterator method as found in other object-orientated programming languages.<br>\n",
    "\n",
    "With the for loop we can execute a set of statements, once for each item in a list, tuple, set etc.<br>\n",
    "\n",
    "For loops iterate over a given sequence. Here is an example:"
   ]
  },
  {
   "cell_type": "code",
   "execution_count": null,
   "metadata": {},
   "outputs": [],
   "source": [
    "# Prints out the numbers 0,1,2,3,4\n",
    "for x in range(5):\n",
    "    print(x)\n",
    "    \n",
    "#Looping Through a String\n",
    "#Even strings are iterable objects, they contain a sequence of characters:\n",
    "#Example: Loop through the letters in the word \"banana\":\n",
    "for x in \"banana\":\n",
    "  print(x)\n",
    "\n",
    "#The break Statement\n",
    "#With the break statement we can stop the loop before it has looped through all the items:\n",
    "#Example: Exit the loop when x is \"banana\":\n",
    "fruits = [\"apple\", \"banana\", \"cherry\"]\n",
    "for x in fruits:\n",
    "  print(x)\n",
    "  if x == \"banana\":\n",
    "    break\n",
    "    \n",
    "#The continue Statement\n",
    "#With the continue statement we can stop the current iteration of the loop, and continue with the next:\n",
    "Example: Do not print banana:\n",
    "fruits = [\"apple\", \"banana\", \"cherry\"]\n",
    "for x in fruits:\n",
    "  if x == \"banana\":\n",
    "    continue\n",
    "  print(x)\n",
    "\n",
    "#The range() Function\n",
    "#To loop through a set of code a specified number of times, we can use the range() function,\n",
    "#The range() function returns a sequence of numbers, starting from 0 by default, and increments by 1 (by default), and ends at a specified number.\n",
    "#Example: Using the range() function:\n",
    "for x in range(6):\n",
    "  print(x)\n",
    "\n",
    "#Nested Loops\n",
    "#A nested loop is a loop inside a loop.\n",
    "#The \"inner loop\" will be executed one time for each iteration of the \"outer loop\":\n",
    "#Example: Print each adjective for every fruit:\n",
    "adj = [\"red\", \"big\", \"tasty\"]\n",
    "fruits = [\"apple\", \"banana\", \"cherry\"]\n",
    "\n",
    "for x in adj:\n",
    "  for y in fruits:\n",
    "    print(x, y) \n",
    "    \n",
    "#The pass Statement\n",
    "\n",
    "#for loops cannot be empty, but if you for some reason have a for loop with no content, put in the pass statement to avoid getting an error.\n",
    "#Example\n",
    "for x in [0, 1, 2]:\n",
    "  pass "
   ]
  },
  {
   "cell_type": "markdown",
   "metadata": {},
   "source": [
    "2.\"while\" loops<br>\n",
    "While loops repeat as long as a certain boolean condition is met. For example:"
   ]
  },
  {
   "cell_type": "code",
   "execution_count": null,
   "metadata": {},
   "outputs": [],
   "source": [
    "# Prints out 0,1,2,3,4\n",
    "count = 0\n",
    "while count < 5:\n",
    "    print(count)\n",
    "    count += 1  # This is the same as count = count + 1\n",
    "\n",
    "#The break Statement\n",
    "\n",
    "#With the break statement we can stop the loop even if the while condition is true:\n",
    "#Example: Exit the loop when i is 3:\n",
    "i = 1\n",
    "while i < 6:\n",
    "  print(i)\n",
    "  if i == 3:\n",
    "    break\n",
    "  i += 1 \n",
    "\n",
    "#The continue Statement\n",
    "\n",
    "#With the continue statement we can stop the current iteration, and continue with the next:\n",
    "#Example: Continue to the next iteration if i is 3:\n",
    "i = 0\n",
    "while i < 6:\n",
    "  i += 1\n",
    "  if i == 3:\n",
    "    continue\n",
    "  print(i)\n",
    "\n",
    "#The else Statement\n",
    "\n",
    "#With the else statement we can run a block of code once when the condition no longer is true:\n",
    "#Example: Print a message once the condition is false:\n",
    "i = 1\n",
    "while i < 6:\n",
    "  print(i)\n",
    "  i += 1\n",
    "else:\n",
    "  print(\"i is no longer less than 6\")"
   ]
  },
  {
   "cell_type": "markdown",
   "metadata": {},
   "source": [
    "# Modules"
   ]
  },
  {
   "cell_type": "markdown",
   "metadata": {},
   "source": [
    "A module is the same as a code library. A file containing a set of functions you want to include in your application.<br>\n",
    "To create a module just save the code you want in a file with the file extension .py:"
   ]
  },
  {
   "cell_type": "code",
   "execution_count": null,
   "metadata": {},
   "outputs": [],
   "source": [
    "def greeting(Reader):\n",
    "  print(\"Hello, \" + Reader)"
   ]
  },
  {
   "cell_type": "markdown",
   "metadata": {},
   "source": [
    "Use a Module<br>\n",
    "\n",
    "Now we can use the module we just created, by using the import statement:<br>\n",
    "Example<br>\n",
    "\n",
    "Import the module named mymodule, and call the greeting function:"
   ]
  },
  {
   "cell_type": "code",
   "execution_count": null,
   "metadata": {},
   "outputs": [],
   "source": [
    "import mymodule\n",
    "\n",
    "mymodule.greeting(\"Reader\")"
   ]
  },
  {
   "cell_type": "markdown",
   "metadata": {},
   "source": [
    "Variables in Module<br>\n",
    "\n",
    "The module can contain functions, as already described, but also variables of all types (arrays, dictionaries, objects etc):<br>\n",
    "Example<br>\n",
    "\n",
    "Save this code in the file mymodule.py"
   ]
  },
  {
   "cell_type": "code",
   "execution_count": null,
   "metadata": {},
   "outputs": [],
   "source": [
    " person1 = {\n",
    "  \"name\": \"Anvi\",\n",
    "  \"age\": 17,\n",
    "  \"country\": \"India\"\n",
    "} \n",
    "#Import the module named mymodule, and access the person1 dictionary:\n",
    "import mymodule\n",
    "\n",
    "a = mymodule.person1[\"age\"]\n",
    "print(a) \n",
    "\n",
    "\n",
    "#Import From Module\n",
    "\n",
    "#You can choose to import only parts from a module, by using the from keyword.\n",
    "#Example: The module named mymodule has one function and one dictionary:\n",
    "def greeting(name):\n",
    "  print(\"Hello, \" + name)\n",
    "\n",
    "person1 = {\n",
    "  \"name\": \"Anvi\",\n",
    "  \"age\": 17,\n",
    "  \"country\": \"India\"\n",
    "} "
   ]
  },
  {
   "cell_type": "markdown",
   "metadata": {},
   "source": [
    "# Classes, Constructors and Objects"
   ]
  },
  {
   "cell_type": "markdown",
   "metadata": {},
   "source": [
    "Class − A user-defined prototype for an object that defines a set of attributes that characterize any object of the class. The attributes are data members (class variables and instance variables) and methods, accessed via dot notation.<br>\n",
    "Object − A unique instance of a data structure that's defined by its class. An object comprises both data members (class variables and instance variables) and methods.<br>\n",
    "Class functions that begin with double underscore __ are called special functions as they have special meaning.\n",
    "Of one particular interest is the __init__() function. This special function gets called whenever a new object of that class is instantiated.<br>\n",
    "This type of function is also called constructors in Object Oriented Programming (OOP). We normally use it to initialize all the variables.<br>\n",
    "Example:"
   ]
  },
  {
   "cell_type": "code",
   "execution_count": null,
   "metadata": {},
   "outputs": [],
   "source": [
    "class ComplexNumber:\n",
    "    def __init__(self, r=0, i=0):\n",
    "        self.real = r\n",
    "        self.imag = i\n",
    "    def get_data(self):\n",
    "        print(f'{self.real}+{self.imag}j')\n",
    "num1 = ComplexNumber(2, 3)\n",
    "num1.get_data()\n",
    "num2 = ComplexNumber(5)\n",
    "num2.attr = 10"
   ]
  },
  {
   "cell_type": "markdown",
   "metadata": {},
   "source": [
    "# Extended Class(Inheritance) "
   ]
  },
  {
   "cell_type": "markdown",
   "metadata": {},
   "source": [
    "Inheritance allows us to define a class that inherits all the methods and properties from another class.<br>\n",
    "Parent class is the class being inherited from, also called base class.<br>\n",
    "Child class is the class that inherits from another class, also called derived class.<br>"
   ]
  },
  {
   "cell_type": "code",
   "execution_count": null,
   "metadata": {},
   "outputs": [],
   "source": [
    "class Person:\n",
    "  def __init__(self, fname, lname):\n",
    "    self.firstname = fname\n",
    "    self.lastname = lname\n",
    "  def printname(self):\n",
    "    print(self.firstname, self.lastname)\n",
    "x = Person(\"Tony\", \"Stark\")\n",
    "x.printname()"
   ]
  },
  {
   "cell_type": "markdown",
   "metadata": {},
   "source": [
    "# File Handling"
   ]
  },
  {
   "cell_type": "markdown",
   "metadata": {},
   "source": [
    "The key function for working with files in Python is the open() function.<br>\n",
    "The open() function takes two parameters; filename, and mode.<br>\n",
    "There are four different methods (modes) for opening a file:<br>\n",
    "\"r\" - Read - Default value. Opens a file for reading, error if the file does not exist<br>\n",
    "\"a\" - Append - Opens a file for appending, creates the file if it does not exist<br>\n",
    "\"w\" - Write - Opens a file for writing, creates the file if it does not exist<br>\n",
    "\"x\" - Create - Creates the specified file, returns an error if the file exists<br>\n",
    "In addition you can specify if the file should be handled as binary or text mode<br>\n",
    "\"t\" - Text - Default value. Text mode<br>\n",
    "\"b\" - Binary - Binary mode (e.g. images)<br>\n",
    "Example: To open a file for reading it is enough to specify the name of the file:<br>"
   ]
  },
  {
   "cell_type": "code",
   "execution_count": null,
   "metadata": {},
   "outputs": [],
   "source": [
    "f = open(\"demofile.txt\")"
   ]
  },
  {
   "cell_type": "markdown",
   "metadata": {},
   "source": [
    "Open a File on the Server<br>\n",
    "\n",
    "Assume we have a file named demofile.txt, located in the same folder as Python:<br>\n"
   ]
  },
  {
   "cell_type": "code",
   "execution_count": null,
   "metadata": {},
   "outputs": [],
   "source": [
    "#To open the file, use the built-in open() function.\n",
    "#The open() function returns a file object, which has a read() method for reading the content of the file:\n",
    "f = open(\"demofile.txt\", \"r\")\n",
    "\n",
    "\n",
    "#Read Only Parts of the File\n",
    "#By default the read() method returns the whole text, but you can also specify how many characters you want to return:\n",
    "#Example: Return the 5 first characters of the file:\n",
    "f = open(\"demofile.txt\", \"r\")\n",
    "print(f.read(5)) \n",
    "\n",
    "#Read Lines\n",
    "#You can return one line by using the readline() method:\n",
    "#Example: Read one line of the file:\n",
    "f = open(\"demofile.txt\", \"r\")\n",
    "print(f.readline()) \n",
    "\n",
    "\n",
    "#By looping through the lines of the file, you can read the whole file, line by line:\n",
    "#Example: Loop through the file line by line:\n",
    "f = open(\"demofile.txt\", \"r\")\n",
    "for x in f:\n",
    "  print(x) \n",
    "\n",
    "#Close Files\n",
    "#It is a good practice to always close the file when you are done with it.\n",
    "#Example: Close the file when you are finish with it:\n",
    "f = open(\"demofile.txt\", \"r\")\n",
    "print(f.readline())\n",
    "f.close() "
   ]
  },
  {
   "cell_type": "markdown",
   "metadata": {},
   "source": [
    "Python File Write<br>\n",
    "Write to an Existing File<br>\n",
    "To write to an existing file, you must add a parameter to the open() function:<br>\n",
    "\"a\" - Append - will append to the end of the file<br>\n",
    "\"w\" - Write - will overwrite any existing content<br>\n",
    "Example<br>\n",
    "Open the file \"demofile2.txt\" and append content to the file:<br>"
   ]
  },
  {
   "cell_type": "code",
   "execution_count": null,
   "metadata": {},
   "outputs": [],
   "source": [
    "f = open(\"demofile2.txt\", \"a\")\n",
    "f.write(\"Now the file has more content!\")\n",
    "f.close()\n",
    "\n",
    "#open and read the file after the appending:\n",
    "f = open(\"demofile2.txt\", \"r\")\n",
    "print(f.read()) "
   ]
  },
  {
   "cell_type": "markdown",
   "metadata": {},
   "source": [
    "Create a New File<br>\n",
    "To create a new file in Python, use the open() method, with one of the following parameters:<br>\n",
    "\"x\" - Create - will create a file, returns an error if the file exist<br>\n",
    "\"a\" - Append - will create a file if the specified file does not exist<br>\n",
    "\"w\" - Write - will create a file if the specified file does not exist<br>"
   ]
  },
  {
   "cell_type": "code",
   "execution_count": null,
   "metadata": {},
   "outputs": [],
   "source": [
    "Create a file called \"myfile.txt\":\n",
    "f = open(\"myfile.txt\", \"x\")"
   ]
  },
  {
   "cell_type": "markdown",
   "metadata": {},
   "source": [
    "Delete a File<br>\n",
    "To delete a file, you must import the OS module, and run its os.remove() function:<br>\n",
    "Example<br>\n",
    "Remove the file \"demofile.txt\":"
   ]
  },
  {
   "cell_type": "code",
   "execution_count": null,
   "metadata": {},
   "outputs": [],
   "source": [
    "import os\n",
    "os.remove(\"demofile.txt\")"
   ]
  },
  {
   "cell_type": "markdown",
   "metadata": {},
   "source": [
    "Check if File exist:<br>\n",
    "To avoid getting an error, you might want to check if the file exists before you try to delete it:<br>\n",
    "Example<br>\n",
    "Check if file exists, then delete it:"
   ]
  },
  {
   "cell_type": "code",
   "execution_count": null,
   "metadata": {},
   "outputs": [],
   "source": [
    "import os\n",
    "if os.path.exists(\"demofile.txt\"):\n",
    "  os.remove(\"demofile.txt\")\n",
    "else:\n",
    "  print(\"The file does not exist\") "
   ]
  },
  {
   "cell_type": "markdown",
   "metadata": {},
   "source": [
    "Delete Folder<br>\n",
    "To delete an entire folder, use the os.rmdir() method:<br>\n",
    "Example<br>\n",
    "Remove the folder \"myfolder\":"
   ]
  },
  {
   "cell_type": "code",
   "execution_count": null,
   "metadata": {},
   "outputs": [],
   "source": [
    "import os\n",
    "os.rmdir(\"myfolder\") "
   ]
  }
 ],
 "metadata": {
  "kernelspec": {
   "display_name": "Python 3",
   "language": "python",
   "name": "python3"
  },
  "language_info": {
   "codemirror_mode": {
    "name": "ipython",
    "version": 3
   },
   "file_extension": ".py",
   "mimetype": "text/x-python",
   "name": "python",
   "nbconvert_exporter": "python",
   "pygments_lexer": "ipython3",
   "version": "3.7.3"
  }
 },
 "nbformat": 4,
 "nbformat_minor": 2
}
