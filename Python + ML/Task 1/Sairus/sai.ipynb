{
 "cells": [
  {
   "cell_type": "code",
   "execution_count": 1,
   "metadata": {},
   "outputs": [
    {
     "name": "stdout",
     "output_type": "stream",
     "text": [
      "My name is Sairus Mishra.....\n"
     ]
    }
   ],
   "source": [
    "print (\"My name is Sairus Mishra.....\")"
   ]
  },
  {
   "cell_type": "code",
   "execution_count": 3,
   "metadata": {},
   "outputs": [
    {
     "name": "stdout",
     "output_type": "stream",
     "text": [
      "9\n"
     ]
    }
   ],
   "source": [
    "## For variable\n",
    "a=4\n",
    "b=5\n",
    "print(a+b)"
   ]
  },
  {
   "cell_type": "code",
   "execution_count": 4,
   "metadata": {},
   "outputs": [
    {
     "name": "stdout",
     "output_type": "stream",
     "text": [
      "<class 'int'>\n",
      "<class 'float'>\n"
     ]
    }
   ],
   "source": [
    "## Type casting\n",
    "\n",
    "a=5\n",
    "b=6.3\n",
    "print(type(a))\n",
    "print(type(b))"
   ]
  },
  {
   "cell_type": "code",
   "execution_count": 29,
   "metadata": {},
   "outputs": [
    {
     "name": "stdout",
     "output_type": "stream",
     "text": [
      "VSSUT_OP_BOLTE\n",
      "S\n",
      "VSSUT_OP_BOL\n",
      "T\n",
      "SUT_OP_BO\n"
     ]
    }
   ],
   "source": [
    "## String\n",
    "s= \"VSSUT_OP_BOLTE\"\n",
    "print(s)\n",
    "print(s[2])\n",
    "print(s[:-2])\n",
    "print(s[-2])\n",
    "print(s[2:-3])"
   ]
  },
  {
   "cell_type": "code",
   "execution_count": 19,
   "metadata": {},
   "outputs": [
    {
     "name": "stdout",
     "output_type": "stream",
     "text": [
      "[1, 2, 4, 5, 'hello']\n",
      "<class 'list'>\n",
      "[1, 4, 9, 16, 25]\n",
      "[9, 16]\n",
      "[1, 4, 9, 16, 25, 10]\n",
      "[1, 8, 10, 12, 21, 34, 55]\n"
     ]
    }
   ],
   "source": [
    "## List\n",
    "\n",
    "l=[1,2,4,5,\"hello\"]\n",
    "print(l)\n",
    "print(type(l))\n",
    "\n",
    "## By for loop\n",
    "\n",
    "l2 = [i*i for i in range (1,6) ]\n",
    "print(l2)\n",
    "\n",
    "## List slicing\n",
    "print (l2[2:-1])\n",
    "\n",
    "\n",
    "l2.append(10)\n",
    "print(l2)\n",
    "\n",
    "\n",
    "## Sorting\n",
    "l3=[21,34,12,55,1,8,10]\n",
    "l3=sorted(l3)\n",
    "print(l3)"
   ]
  },
  {
   "cell_type": "code",
   "execution_count": 24,
   "metadata": {},
   "outputs": [
    {
     "name": "stdout",
     "output_type": "stream",
     "text": [
      "<class 'tuple'>\n",
      "4\n"
     ]
    }
   ],
   "source": [
    "## Tuples\n",
    "\n",
    "t=[1,3,4,\"Hello\"]\n",
    "## diff btwn list and tupple is tupple is faster but we cant acess single element in tupple like t[2]\n",
    "t=tuple(t)\n",
    "print(type(t))\n",
    "print(len(t))\n"
   ]
  },
  {
   "cell_type": "code",
   "execution_count": 28,
   "metadata": {},
   "outputs": [
    {
     "name": "stdout",
     "output_type": "stream",
     "text": [
      "{1, 2, 3, 4, 5, 6}\n",
      "{1, 2, 3, 4, 5, 6, 8, 9, 12}\n",
      "{2, 5}\n"
     ]
    }
   ],
   "source": [
    "## Sets\n",
    "\n",
    "##Here no repeating elements are allowed\n",
    "\n",
    "s1= set([1,2,3,4,3,5,2,6,2])\n",
    "print(s)\n",
    "s2= set([2,8,5,12,9])\n",
    "print((s1|s2)) ## Union\n",
    "print((s1&s2))  ## Intersection\n"
   ]
  },
  {
   "cell_type": "code",
   "execution_count": 33,
   "metadata": {},
   "outputs": [
    {
     "name": "stdout",
     "output_type": "stream",
     "text": [
      "80\n",
      "{'Ankush': 100, 'binu': 80, 'chandu': 69}\n",
      "dict_keys(['Ankush', 'binu', 'chandu'])\n",
      "dict_values([100, 80, 69])\n"
     ]
    }
   ],
   "source": [
    "## Dictionary\n",
    "\n",
    "d= {\"Ankush\":100,\"binu\":80}\n",
    "print(d[\"binu\"])\n",
    "d[\"chandu\"]=69 ## To insert new\n",
    "print(d)\n",
    "## To print all keys\n",
    "print(d.keys())\n",
    "## To print all values\n",
    "print(d.values())"
   ]
  },
  {
   "cell_type": "code",
   "execution_count": 36,
   "metadata": {},
   "outputs": [],
   "source": [
    "## Functions\n",
    "\n",
    "def blacklivesmatter(a,b):\n",
    "    print(a+b)"
   ]
  },
  {
   "cell_type": "code",
   "execution_count": 37,
   "metadata": {},
   "outputs": [
    {
     "name": "stdout",
     "output_type": "stream",
     "text": [
      "8\n"
     ]
    }
   ],
   "source": [
    "a=3\n",
    "b=5\n",
    "blacklivesmatter(a,b)"
   ]
  },
  {
   "cell_type": "code",
   "execution_count": 40,
   "metadata": {},
   "outputs": [],
   "source": [
    "## Lambda functn\n",
    "\n",
    "yup= lambda x,y: x*y"
   ]
  },
  {
   "cell_type": "code",
   "execution_count": 43,
   "metadata": {},
   "outputs": [
    {
     "name": "stdout",
     "output_type": "stream",
     "text": [
      "20\n"
     ]
    }
   ],
   "source": [
    "a=10\n",
    "b=2\n",
    "print(yup(a,b))"
   ]
  },
  {
   "cell_type": "code",
   "execution_count": 47,
   "metadata": {},
   "outputs": [
    {
     "name": "stdout",
     "output_type": "stream",
     "text": [
      "12\n"
     ]
    }
   ],
   "source": [
    "if(a!=10):\n",
    "    print(yup(a,b))\n",
    "else:\n",
    "    blacklivesmatter(a,b)"
   ]
  },
  {
   "cell_type": "code",
   "execution_count": 50,
   "metadata": {},
   "outputs": [
    {
     "name": "stdout",
     "output_type": "stream",
     "text": [
      "8\n",
      "10\n"
     ]
    }
   ],
   "source": [
    "## Operator\n",
    "## +,-,*,/,%\n",
    "##Other are\n",
    "a=2\n",
    "b=3\n",
    "print(a**b)   ##Exponentition\n",
    "print(20//a)  ##Floor division\n",
    "\n",
    "\n",
    "## Assignmnt operator\n",
    "## =,+=,-=,*=,/=,etc\n",
    "\n",
    "## Comparision Operator\n",
    "## >,<,==,!=,<=,>=,etc\n",
    "\n",
    "## BItwiseoperator\n",
    "\n",
    "## &,^,~,|,<<,>>"
   ]
  },
  {
   "cell_type": "code",
   "execution_count": 53,
   "metadata": {},
   "outputs": [
    {
     "name": "stdout",
     "output_type": "stream",
     "text": [
      "[1, 4, 9, 16, 25]\n"
     ]
    }
   ],
   "source": [
    "## Loops\n",
    "\n",
    "l2 = [i*i for i in range (1,6) ]\n",
    "print(l2)"
   ]
  },
  {
   "cell_type": "code",
   "execution_count": 55,
   "metadata": {},
   "outputs": [
    {
     "name": "stdout",
     "output_type": "stream",
     "text": [
      "value of pi is 3.141592653589793\n"
     ]
    }
   ],
   "source": [
    "##. MOdules\n",
    "## For eg we can import pandas for reading .csv which is used for web scrapping\n",
    "## simple module eg\n",
    "import math as mh\n",
    "print(\"value of pi is\",mh.pi)"
   ]
  },
  {
   "cell_type": "code",
   "execution_count": 58,
   "metadata": {},
   "outputs": [
    {
     "name": "stdout",
     "output_type": "stream",
     "text": [
      "My name is: Ankit\n",
      "I am from: VSSUT\n"
     ]
    }
   ],
   "source": [
    "## Class (eg with constructor)\n",
    "\n",
    "class bro():\n",
    "    def __init__(self,broname,clg):     ## Constructor\n",
    "        self.name=broname\n",
    "        self.college=clg\n",
    "        \n",
    "    def intro(self):\n",
    "        print(\"My name is: \"+self.name)\n",
    "        print(\"I am from: \"+self.college)\n",
    "        \n",
    "s= bro(\"Ankit\",\"VSSUT\")     \n",
    "s.intro()"
   ]
  },
  {
   "cell_type": "code",
   "execution_count": null,
   "metadata": {},
   "outputs": [],
   "source": []
  },
  {
   "cell_type": "code",
   "execution_count": null,
   "metadata": {},
   "outputs": [],
   "source": []
  },
  {
   "cell_type": "code",
   "execution_count": null,
   "metadata": {},
   "outputs": [],
   "source": []
  },
  {
   "cell_type": "code",
   "execution_count": null,
   "metadata": {},
   "outputs": [],
   "source": []
  },
  {
   "cell_type": "code",
   "execution_count": null,
   "metadata": {},
   "outputs": [],
   "source": []
  }
 ],
 "metadata": {
  "kernelspec": {
   "display_name": "Python 3",
   "language": "python",
   "name": "python3"
  },
  "language_info": {
   "codemirror_mode": {
    "name": "ipython",
    "version": 3
   },
   "file_extension": ".py",
   "mimetype": "text/x-python",
   "name": "python",
   "nbconvert_exporter": "python",
   "pygments_lexer": "ipython3",
   "version": "3.8.2"
  }
 },
 "nbformat": 4,
 "nbformat_minor": 4
}
