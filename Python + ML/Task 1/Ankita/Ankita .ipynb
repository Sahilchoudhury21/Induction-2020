{
 "cells": [
  {
   "cell_type": "markdown",
   "metadata": {},
   "source": [
    "# Variables\n",
    "\n",
    "Variable is a named memory location which contains a value.\n",
    "Eg:x is a variable which contains an value 5."
   ]
  },
  {
   "cell_type": "code",
   "execution_count": 1,
   "metadata": {},
   "outputs": [
    {
     "data": {
      "text/plain": [
       "5"
      ]
     },
     "execution_count": 1,
     "metadata": {},
     "output_type": "execute_result"
    }
   ],
   "source": [
    "x=5\n",
    "x"
   ]
  },
  {
   "cell_type": "markdown",
   "metadata": {},
   "source": [
    "The value of the variable can be changed in the program.\n",
    "Eg: x value can be changed to 2 from 5."
   ]
  },
  {
   "cell_type": "code",
   "execution_count": 2,
   "metadata": {},
   "outputs": [
    {
     "data": {
      "text/plain": [
       "2"
      ]
     },
     "execution_count": 2,
     "metadata": {},
     "output_type": "execute_result"
    }
   ],
   "source": [
    "x=2\n",
    "x"
   ]
  },
  {
   "cell_type": "markdown",
   "metadata": {},
   "source": [
    "There are some other examples of variables."
   ]
  },
  {
   "cell_type": "code",
   "execution_count": 3,
   "metadata": {},
   "outputs": [
    {
     "data": {
      "text/plain": [
       "'hello'"
      ]
     },
     "execution_count": 3,
     "metadata": {},
     "output_type": "execute_result"
    }
   ],
   "source": [
    "s=\"hello\"\n",
    "s"
   ]
  },
  {
   "cell_type": "code",
   "execution_count": 4,
   "metadata": {},
   "outputs": [
    {
     "data": {
      "text/plain": [
       "3.7"
      ]
     },
     "execution_count": 4,
     "metadata": {},
     "output_type": "execute_result"
    }
   ],
   "source": [
    "p=3.7\n",
    "p"
   ]
  },
  {
   "cell_type": "markdown",
   "metadata": {},
   "source": [
    "# Print Statement\n",
    "\n",
    "Print statement is used to print a specify message or output on the screen.\n",
    "\n",
    "Eg:print can be used to display a simple message."
   ]
  },
  {
   "cell_type": "code",
   "execution_count": 5,
   "metadata": {},
   "outputs": [
    {
     "name": "stdout",
     "output_type": "stream",
     "text": [
      "Hello guys\n"
     ]
    }
   ],
   "source": [
    "print(\"Hello guys\")"
   ]
  },
  {
   "cell_type": "markdown",
   "metadata": {},
   "source": [
    "It can be used to print variables.Eg"
   ]
  },
  {
   "cell_type": "code",
   "execution_count": 1,
   "metadata": {},
   "outputs": [
    {
     "name": "stdout",
     "output_type": "stream",
     "text": [
      "20\n",
      "10\n"
     ]
    }
   ],
   "source": [
    "a=20\n",
    "b=10\n",
    "print(a)\n",
    "print(b)"
   ]
  },
  {
   "cell_type": "markdown",
   "metadata": {},
   "source": [
    "We can print 2 objects at a time by using a ,.Eg:"
   ]
  },
  {
   "cell_type": "code",
   "execution_count": 2,
   "metadata": {},
   "outputs": [
    {
     "name": "stdout",
     "output_type": "stream",
     "text": [
      "20 10\n"
     ]
    }
   ],
   "source": [
    "a=20\n",
    "b=10\n",
    "print(a,b)"
   ]
  },
  {
   "cell_type": "markdown",
   "metadata": {},
   "source": [
    "\\n is used to print a blank line."
   ]
  },
  {
   "cell_type": "code",
   "execution_count": 3,
   "metadata": {},
   "outputs": [
    {
     "name": "stdout",
     "output_type": "stream",
     "text": [
      "\n",
      "\n"
     ]
    }
   ],
   "source": [
    "print(\"\\n\")"
   ]
  },
  {
   "cell_type": "markdown",
   "metadata": {},
   "source": [
    "Various format specifiers can be used to get formatted output.A few examples are as follows:"
   ]
  },
  {
   "cell_type": "code",
   "execution_count": 4,
   "metadata": {},
   "outputs": [
    {
     "name": "stdout",
     "output_type": "stream",
     "text": [
      "Result:8\n"
     ]
    }
   ],
   "source": [
    "print(\"Result:%d\"%8.9) #%d prints only the integer part"
   ]
  },
  {
   "cell_type": "code",
   "execution_count": 5,
   "metadata": {},
   "outputs": [
    {
     "name": "stdout",
     "output_type": "stream",
     "text": [
      "The value is:8.000000\n"
     ]
    }
   ],
   "source": [
    "print(\"The value is:%f\"%8) #%f is to print a floating value"
   ]
  },
  {
   "cell_type": "code",
   "execution_count": 6,
   "metadata": {},
   "outputs": [
    {
     "name": "stdout",
     "output_type": "stream",
     "text": [
      "My name is Ankita\n"
     ]
    }
   ],
   "source": [
    "print(\"My name is %s\"%\"Ankita\") #%s is used for a string"
   ]
  },
  {
   "cell_type": "code",
   "execution_count": 7,
   "metadata": {},
   "outputs": [
    {
     "name": "stdout",
     "output_type": "stream",
     "text": [
      "The value is 7.821\n"
     ]
    }
   ],
   "source": [
    "print(\"The value is %.3f\"%7.82133)"
   ]
  },
  {
   "cell_type": "markdown",
   "metadata": {},
   "source": [
    "In the above example the number after dot specifies the number of decimal places to be displayed."
   ]
  },
  {
   "cell_type": "markdown",
   "metadata": {},
   "source": [
    "# Data types and Type Casting\n",
    "\n",
    "A data type is a classification of data which tells the compiler or interpreter how the programmer intends to use the data. \n",
    "The various data type in Python are:\n",
    "\n",
    "1.Numeric:\n",
    "\n",
    "a.Integer\n",
    "\n",
    "b.Float\n",
    "\n",
    "c.Complex\n",
    "\n",
    "Examples are as follows:\n",
    "\n",
    "\n"
   ]
  },
  {
   "cell_type": "code",
   "execution_count": 8,
   "metadata": {},
   "outputs": [
    {
     "name": "stdout",
     "output_type": "stream",
     "text": [
      "<class 'int'>\n"
     ]
    }
   ],
   "source": [
    "a=5\n",
    "print(type(a))"
   ]
  },
  {
   "cell_type": "code",
   "execution_count": 9,
   "metadata": {},
   "outputs": [
    {
     "name": "stdout",
     "output_type": "stream",
     "text": [
      "<class 'float'>\n"
     ]
    }
   ],
   "source": [
    "a=9.8886\n",
    "print(type(a))"
   ]
  },
  {
   "cell_type": "code",
   "execution_count": 10,
   "metadata": {},
   "outputs": [
    {
     "name": "stdout",
     "output_type": "stream",
     "text": [
      "<class 'complex'>\n"
     ]
    }
   ],
   "source": [
    "a=4+5j\n",
    "print(type(a))"
   ]
  },
  {
   "cell_type": "markdown",
   "metadata": {},
   "source": [
    "2.Sequence Type\n",
    "\n",
    "a.String\n",
    "\n",
    "b.List\n",
    "\n",
    "c.Tuples\n",
    "\n",
    "\n"
   ]
  },
  {
   "cell_type": "markdown",
   "metadata": {},
   "source": [
    "Example of String:"
   ]
  },
  {
   "cell_type": "code",
   "execution_count": 11,
   "metadata": {},
   "outputs": [
    {
     "name": "stdout",
     "output_type": "stream",
     "text": [
      "<class 'str'>\n"
     ]
    }
   ],
   "source": [
    "st=\"Python\"\n",
    "print(type(st))"
   ]
  },
  {
   "cell_type": "markdown",
   "metadata": {},
   "source": [
    "Example of List:"
   ]
  },
  {
   "cell_type": "code",
   "execution_count": 12,
   "metadata": {},
   "outputs": [
    {
     "name": "stdout",
     "output_type": "stream",
     "text": [
      "<class 'list'>\n"
     ]
    }
   ],
   "source": [
    "lt=[\"red\",\"blue\",\"green\"]\n",
    "print(type(lt))"
   ]
  },
  {
   "cell_type": "markdown",
   "metadata": {},
   "source": [
    "Example of Tuples:"
   ]
  },
  {
   "cell_type": "code",
   "execution_count": 13,
   "metadata": {},
   "outputs": [
    {
     "name": "stdout",
     "output_type": "stream",
     "text": [
      "<class 'tuple'>\n"
     ]
    }
   ],
   "source": [
    "c=('a','b','c','d')\n",
    "print(type(c))"
   ]
  },
  {
   "cell_type": "markdown",
   "metadata": {},
   "source": [
    "3.Boolean."
   ]
  },
  {
   "cell_type": "code",
   "execution_count": 14,
   "metadata": {},
   "outputs": [
    {
     "name": "stdout",
     "output_type": "stream",
     "text": [
      "<class 'bool'>\n"
     ]
    }
   ],
   "source": [
    "x=True\n",
    "print(type(x))"
   ]
  },
  {
   "cell_type": "code",
   "execution_count": 15,
   "metadata": {},
   "outputs": [
    {
     "name": "stdout",
     "output_type": "stream",
     "text": [
      "<class 'bool'>\n"
     ]
    }
   ],
   "source": [
    "y=False\n",
    "print(type(y))"
   ]
  },
  {
   "cell_type": "markdown",
   "metadata": {},
   "source": [
    "4.Sets"
   ]
  },
  {
   "cell_type": "code",
   "execution_count": 16,
   "metadata": {},
   "outputs": [
    {
     "name": "stdout",
     "output_type": "stream",
     "text": [
      "<class 'set'>\n"
     ]
    }
   ],
   "source": [
    "s={1,2,3,3,4,5,5,6,65}\n",
    "print(type(s))"
   ]
  },
  {
   "cell_type": "markdown",
   "metadata": {},
   "source": [
    "5.Dictionary"
   ]
  },
  {
   "cell_type": "code",
   "execution_count": 17,
   "metadata": {},
   "outputs": [
    {
     "name": "stdout",
     "output_type": "stream",
     "text": [
      "<class 'dict'>\n"
     ]
    }
   ],
   "source": [
    "d={1:'a',2:'b',3:'c',4:'d',5:'e'}\n",
    "print(type(d))"
   ]
  },
  {
   "cell_type": "markdown",
   "metadata": {},
   "source": [
    "## Type Casting\n",
    "Type casting in coversion of one data type to another."
   ]
  },
  {
   "cell_type": "markdown",
   "metadata": {},
   "source": [
    "1.int() method is used to convert to integer data type.Eg:"
   ]
  },
  {
   "cell_type": "code",
   "execution_count": 18,
   "metadata": {},
   "outputs": [
    {
     "name": "stdout",
     "output_type": "stream",
     "text": [
      "4 45\n",
      "<class 'int'> <class 'int'>\n"
     ]
    }
   ],
   "source": [
    "a=4.55\n",
    "a=int(a)\n",
    "s=\"45\"\n",
    "s=int(s)\n",
    "print(a,s)\n",
    "print(type(a),type(s))"
   ]
  },
  {
   "cell_type": "markdown",
   "metadata": {},
   "source": [
    "2.float() method is used to convert to floating point literals.Eg:"
   ]
  },
  {
   "cell_type": "code",
   "execution_count": 24,
   "metadata": {},
   "outputs": [
    {
     "name": "stdout",
     "output_type": "stream",
     "text": [
      "5.0\n",
      "<class 'float'>\n"
     ]
    }
   ],
   "source": [
    "a=5\n",
    "a=float(a)\n",
    "print(a)\n",
    "print(type(a))"
   ]
  },
  {
   "cell_type": "markdown",
   "metadata": {},
   "source": [
    "3.str() method is used to convert to strings.Eg:"
   ]
  },
  {
   "cell_type": "code",
   "execution_count": 25,
   "metadata": {},
   "outputs": [
    {
     "name": "stdout",
     "output_type": "stream",
     "text": [
      "3\n",
      "<class 'str'>\n"
     ]
    }
   ],
   "source": [
    "a=3\n",
    "a=str(a)\n",
    "print(a)\n",
    "print(type(a))"
   ]
  },
  {
   "cell_type": "markdown",
   "metadata": {},
   "source": [
    "4.tuple() method is used to convert to a tuple.Eg"
   ]
  },
  {
   "cell_type": "code",
   "execution_count": 26,
   "metadata": {},
   "outputs": [
    {
     "name": "stdout",
     "output_type": "stream",
     "text": [
      "('v', 's', 's', 'u', 't')\n",
      "<class 'tuple'>\n"
     ]
    }
   ],
   "source": [
    "s=\"vssut\"\n",
    "s=tuple(s)\n",
    "print(s)\n",
    "print(type(s))"
   ]
  },
  {
   "cell_type": "markdown",
   "metadata": {},
   "source": [
    "# Strings and Strings Formatting"
   ]
  },
  {
   "cell_type": "markdown",
   "metadata": {},
   "source": [
    "## Strings"
   ]
  },
  {
   "cell_type": "markdown",
   "metadata": {},
   "source": [
    "Strings in Python are identified as a contiguous set of characters represented in the quotation marks. In Strings,the index begins from 0 and if we start from the end then it begans with -1."
   ]
  },
  {
   "cell_type": "markdown",
   "metadata": {},
   "source": [
    "Examples of Strings:"
   ]
  },
  {
   "cell_type": "code",
   "execution_count": 27,
   "metadata": {},
   "outputs": [
    {
     "name": "stdout",
     "output_type": "stream",
     "text": [
      "Vssut\n",
      "abcd123\n",
      "How are you?\n",
      "345\n"
     ]
    }
   ],
   "source": [
    "s1=\"Vssut\"\n",
    "s2=\"abcd123\"\n",
    "s3=\"How are you?\"\n",
    "s4=\"345\"\n",
    "print(s1)\n",
    "print(s2)\n",
    "print(s3)\n",
    "print(s4)"
   ]
  },
  {
   "cell_type": "markdown",
   "metadata": {},
   "source": [
    "## Strings Formatting"
   ]
  },
  {
   "cell_type": "markdown",
   "metadata": {},
   "source": [
    "Indexing and slicing of Strings can be done by accessing the elements of a String.The elements of a String can be accessed by using the index position of the elements."
   ]
  },
  {
   "cell_type": "markdown",
   "metadata": {},
   "source": [
    "Example to access the elements of a String:"
   ]
  },
  {
   "cell_type": "code",
   "execution_count": 33,
   "metadata": {},
   "outputs": [
    {
     "name": "stdout",
     "output_type": "stream",
     "text": [
      "H\n",
      "d\n"
     ]
    }
   ],
   "source": [
    "st=\"Hello World\" #At index position 0 ,'H' is present\n",
    "print(st[0])\n",
    "print(st[-1])"
   ]
  },
  {
   "cell_type": "markdown",
   "metadata": {},
   "source": [
    "We can even access a part of the String.Eg:\n",
    "    "
   ]
  },
  {
   "cell_type": "code",
   "execution_count": 39,
   "metadata": {},
   "outputs": [
    {
     "name": "stdout",
     "output_type": "stream",
     "text": [
      "Hello\n",
      "Hello Wor\n",
      "World\n"
     ]
    }
   ],
   "source": [
    "st=\"Hello World\"\n",
    "print(st[:5])\n",
    "print(st[:-2])\n",
    "print(st[6:11])"
   ]
  },
  {
   "cell_type": "markdown",
   "metadata": {},
   "source": [
    "In the above examples ,[:5] implies from index 0 to 5 means it will acces index 0,1,2,3,4 but no 5.\n",
    "Similarly for [:-2] and [6:11] implies from index 6 to 11."
   ]
  },
  {
   "cell_type": "markdown",
   "metadata": {},
   "source": [
    "The plus (+) sign is the string concatenation operator.Eg:"
   ]
  },
  {
   "cell_type": "code",
   "execution_count": 40,
   "metadata": {},
   "outputs": [
    {
     "name": "stdout",
     "output_type": "stream",
     "text": [
      "MySchool\n"
     ]
    }
   ],
   "source": [
    "s1=\"My\"\n",
    "s2=\"School\"\n",
    "s3=s1+s2\n",
    "print(s3)"
   ]
  },
  {
   "cell_type": "code",
   "execution_count": 41,
   "metadata": {},
   "outputs": [
    {
     "name": "stdout",
     "output_type": "stream",
     "text": [
      "SchoolMy\n"
     ]
    }
   ],
   "source": [
    "s4=s2+s1\n",
    "print(s4)"
   ]
  },
  {
   "cell_type": "markdown",
   "metadata": {},
   "source": [
    "We can also concat \" \" between the Strings.Eg:\n",
    "    "
   ]
  },
  {
   "cell_type": "code",
   "execution_count": 42,
   "metadata": {},
   "outputs": [
    {
     "name": "stdout",
     "output_type": "stream",
     "text": [
      "My School\n"
     ]
    }
   ],
   "source": [
    "s3=s1+\" \"+s2\n",
    "print(s3)"
   ]
  },
  {
   "cell_type": "code",
   "execution_count": 43,
   "metadata": {},
   "outputs": [
    {
     "name": "stdout",
     "output_type": "stream",
     "text": [
      "My School is\n"
     ]
    }
   ],
   "source": [
    "s4=s3+\" is\"\n",
    "print(s4)"
   ]
  },
  {
   "cell_type": "markdown",
   "metadata": {},
   "source": [
    " The asterisk (*) is the repetition operator. Eg:"
   ]
  },
  {
   "cell_type": "code",
   "execution_count": 47,
   "metadata": {},
   "outputs": [
    {
     "name": "stdout",
     "output_type": "stream",
     "text": [
      "HelloHello\n",
      "HelloHelloHelloHelloHello\n"
     ]
    }
   ],
   "source": [
    "s=\"Hello\"\n",
    "print(s*2)\n",
    "print(s*5)"
   ]
  },
  {
   "cell_type": "markdown",
   "metadata": {},
   "source": [
    "# String Methods"
   ]
  },
  {
   "cell_type": "markdown",
   "metadata": {},
   "source": [
    "Python has a set of built-in methods that can  be used on strings."
   ]
  },
  {
   "cell_type": "markdown",
   "metadata": {},
   "source": [
    "1.len():\n",
    "\n",
    "This method is used to return the length of a String."
   ]
  },
  {
   "cell_type": "code",
   "execution_count": 50,
   "metadata": {},
   "outputs": [
    {
     "name": "stdout",
     "output_type": "stream",
     "text": [
      "17\n"
     ]
    }
   ],
   "source": [
    "s=\"My name is Ankita\"\n",
    "print(len(s))"
   ]
  },
  {
   "cell_type": "markdown",
   "metadata": {},
   "source": [
    "2.index()\n",
    "\n",
    "Searches the string for a specified value and returns the position of where it was found\n"
   ]
  },
  {
   "cell_type": "code",
   "execution_count": 52,
   "metadata": {},
   "outputs": [
    {
     "name": "stdout",
     "output_type": "stream",
     "text": [
      "8\n"
     ]
    }
   ],
   "source": [
    "b=s.index(\"is\")#\"is\" is present at index 8 in s\n",
    "print(b)"
   ]
  },
  {
   "cell_type": "markdown",
   "metadata": {},
   "source": [
    "3.upper()\n",
    "\n",
    "Converts all letters in a String to upper case."
   ]
  },
  {
   "cell_type": "code",
   "execution_count": 53,
   "metadata": {},
   "outputs": [
    {
     "name": "stdout",
     "output_type": "stream",
     "text": [
      "MY NAME IS ANKITA\n"
     ]
    }
   ],
   "source": [
    "print(s.upper())"
   ]
  },
  {
   "cell_type": "markdown",
   "metadata": {},
   "source": [
    "4.lower()\n",
    "\n",
    "Converts all letters in a String to lower case."
   ]
  },
  {
   "cell_type": "code",
   "execution_count": 54,
   "metadata": {},
   "outputs": [
    {
     "name": "stdout",
     "output_type": "stream",
     "text": [
      "my name is ankita\n"
     ]
    }
   ],
   "source": [
    "print(s.lower())"
   ]
  },
  {
   "cell_type": "markdown",
   "metadata": {},
   "source": [
    "5.islower()\n",
    "\n",
    "This function returns True if all the letters are lower case else false."
   ]
  },
  {
   "cell_type": "code",
   "execution_count": 57,
   "metadata": {},
   "outputs": [
    {
     "name": "stdout",
     "output_type": "stream",
     "text": [
      "False\n"
     ]
    }
   ],
   "source": [
    "print(s.islower())"
   ]
  },
  {
   "cell_type": "markdown",
   "metadata": {},
   "source": [
    "6.isupper()\n",
    "\n",
    "This function returns True if all the letters are upper case else false."
   ]
  },
  {
   "cell_type": "code",
   "execution_count": 59,
   "metadata": {},
   "outputs": [
    {
     "name": "stdout",
     "output_type": "stream",
     "text": [
      "False\n"
     ]
    }
   ],
   "source": [
    "print(s.isupper())"
   ]
  },
  {
   "cell_type": "markdown",
   "metadata": {},
   "source": [
    "7.format()\n",
    "\n",
    "Formats specified values in a string.It allows multiple substitutions and value formatting.\n",
    "\n"
   ]
  },
  {
   "cell_type": "code",
   "execution_count": 61,
   "metadata": {},
   "outputs": [
    {
     "name": "stdout",
     "output_type": "stream",
     "text": [
      "My name is Ankita\n"
     ]
    }
   ],
   "source": [
    "s1=\"My name is\"\n",
    "s2=\"Ankita\"\n",
    "s3=\"My name is {}\".format(s2)\n",
    "print(s3)"
   ]
  },
  {
   "cell_type": "markdown",
   "metadata": {},
   "source": [
    "8.replace()\n",
    "\n",
    "This fuction returns a copy of the string where all occurrences of a substring is replaced with another substring."
   ]
  },
  {
   "cell_type": "code",
   "execution_count": 68,
   "metadata": {},
   "outputs": [
    {
     "name": "stdout",
     "output_type": "stream",
     "text": [
      "Mango is tasty\n"
     ]
    }
   ],
   "source": [
    "s1=\"Apple is tasty\"\n",
    "print(s1.replace(\"Apple\",\"Mango\"))"
   ]
  },
  {
   "cell_type": "markdown",
   "metadata": {},
   "source": [
    "# Lists ( and List Methods)"
   ]
  },
  {
   "cell_type": "markdown",
   "metadata": {},
   "source": [
    "A list contains items separated by commas and enclosed within square brackets ([]). To some extent, lists are similar to arrays in C. "
   ]
  },
  {
   "cell_type": "code",
   "execution_count": 70,
   "metadata": {},
   "outputs": [
    {
     "name": "stdout",
     "output_type": "stream",
     "text": [
      "['a', 'b', 'c', 'd', 'e']\n"
     ]
    }
   ],
   "source": [
    "l=['a','b','c','d','e']\n",
    "print(l)"
   ]
  },
  {
   "cell_type": "markdown",
   "metadata": {},
   "source": [
    "The values stored in a list can be accessed using the slice operator ([ ] and [:]) with indexes starting at 0 in the beginning of the list and working their way to end -1."
   ]
  },
  {
   "cell_type": "code",
   "execution_count": 71,
   "metadata": {},
   "outputs": [
    {
     "name": "stdout",
     "output_type": "stream",
     "text": [
      "a\n",
      "e\n",
      "['a', 'b', 'c', 'd', 'e']\n",
      "['d', 'e']\n"
     ]
    }
   ],
   "source": [
    "print(l[0])\n",
    "print(l[-1])\n",
    "print(l[:5])\n",
    "print(l[3:5])"
   ]
  },
  {
   "cell_type": "markdown",
   "metadata": {},
   "source": [
    "The plus (+) sign is the list concatenation operator, and the asterisk (*) is the repetition operator. For example-"
   ]
  },
  {
   "cell_type": "code",
   "execution_count": 96,
   "metadata": {},
   "outputs": [
    {
     "name": "stdout",
     "output_type": "stream",
     "text": [
      "['max', 'max', 'joy', 'john', '1', '2', '3']\n",
      "['1', '2', '3', '1', '2', '3']\n"
     ]
    }
   ],
   "source": [
    "l1=['1','2','3']\n",
    "print(l+l1)\n",
    "print(l1*2)"
   ]
  },
  {
   "cell_type": "markdown",
   "metadata": {},
   "source": [
    "## List Methods"
   ]
  },
  {
   "cell_type": "markdown",
   "metadata": {},
   "source": [
    "Python has a set of built-in methods that we can use on lists.\n",
    "\n"
   ]
  },
  {
   "cell_type": "markdown",
   "metadata": {},
   "source": [
    "1.append()\n",
    "\n",
    "Adds an element at the end of the list."
   ]
  },
  {
   "cell_type": "code",
   "execution_count": 76,
   "metadata": {},
   "outputs": [
    {
     "name": "stdout",
     "output_type": "stream",
     "text": [
      "['alex', 'max', 'max', 'joy', 'john', 'jenny']\n"
     ]
    }
   ],
   "source": [
    "l=[\"alex\",\"max\",\"max\",\"joy\",\"john\"]\n",
    "l.append(\"jenny\")\n",
    "print(l)"
   ]
  },
  {
   "cell_type": "markdown",
   "metadata": {},
   "source": [
    "2.count()\n",
    "\n",
    "Returns the number of elements with the specified value\n"
   ]
  },
  {
   "cell_type": "code",
   "execution_count": 77,
   "metadata": {},
   "outputs": [
    {
     "name": "stdout",
     "output_type": "stream",
     "text": [
      "2\n"
     ]
    }
   ],
   "source": [
    "print(l.count(\"max\"))"
   ]
  },
  {
   "cell_type": "markdown",
   "metadata": {},
   "source": [
    "3.clear()\n",
    "\n",
    "Removes all the elements from the list\n"
   ]
  },
  {
   "cell_type": "code",
   "execution_count": 78,
   "metadata": {},
   "outputs": [
    {
     "name": "stdout",
     "output_type": "stream",
     "text": [
      "[]\n"
     ]
    }
   ],
   "source": [
    "l.clear()\n",
    "print(l)"
   ]
  },
  {
   "cell_type": "markdown",
   "metadata": {},
   "source": [
    "4.insert()\n",
    "\n",
    "Adds an element at the specified position\n"
   ]
  },
  {
   "cell_type": "code",
   "execution_count": 84,
   "metadata": {},
   "outputs": [
    {
     "name": "stdout",
     "output_type": "stream",
     "text": [
      "['alex', 'max', 'annie', 'max', 'joy', 'john']\n"
     ]
    }
   ],
   "source": [
    "l=[\"alex\",\"max\",\"max\",\"joy\",\"john\"]\n",
    "l.insert(2,\"annie\")\n",
    "print(l)"
   ]
  },
  {
   "cell_type": "markdown",
   "metadata": {},
   "source": [
    "5.pop()\n",
    "\n",
    "Removes the element at the specified position"
   ]
  },
  {
   "cell_type": "code",
   "execution_count": 93,
   "metadata": {},
   "outputs": [
    {
     "name": "stdout",
     "output_type": "stream",
     "text": [
      "['max', 'max', 'joy', 'john']\n"
     ]
    }
   ],
   "source": [
    "l=[\"alex\",\"max\",\"max\",\"joy\",\"john\"]\n",
    "l.pop(0)#'alex' at index position 0 gets removed\n",
    "print(l)"
   ]
  },
  {
   "cell_type": "markdown",
   "metadata": {},
   "source": [
    "6.reverse()\n",
    "\n",
    "Reverses the order of the list"
   ]
  },
  {
   "cell_type": "code",
   "execution_count": 88,
   "metadata": {},
   "outputs": [
    {
     "name": "stdout",
     "output_type": "stream",
     "text": [
      "['john', 'joy', 'max', 'max', 'alex']\n"
     ]
    }
   ],
   "source": [
    "l=[\"alex\",\"max\",\"max\",\"joy\",\"john\"]\n",
    "l.reverse()\n",
    "print(l)"
   ]
  },
  {
   "cell_type": "markdown",
   "metadata": {},
   "source": [
    "7.len()\n",
    "\n",
    "Used to find the no. of elements in a list."
   ]
  },
  {
   "cell_type": "code",
   "execution_count": 95,
   "metadata": {},
   "outputs": [
    {
     "name": "stdout",
     "output_type": "stream",
     "text": [
      "4\n"
     ]
    }
   ],
   "source": [
    "print(len(l))"
   ]
  },
  {
   "cell_type": "markdown",
   "metadata": {},
   "source": [
    "# Tuples(and Tuples Method)"
   ]
  },
  {
   "cell_type": "markdown",
   "metadata": {},
   "source": [
    "A tuple consists of a number of values separated by commas enclosed within parenthesis.\n",
    "\n",
    "The main difference between lists and tuples is- Lists are enclosed in brackets ( [ ] ) and their elements and size can be changed, while tuples are enclosed in parentheses ( ( ) ) and cannot be updated.\n",
    "\n",
    "An example of tuple is as follows:"
   ]
  },
  {
   "cell_type": "code",
   "execution_count": 97,
   "metadata": {},
   "outputs": [
    {
     "name": "stdout",
     "output_type": "stream",
     "text": [
      "('dog', 'cat', 'cow', 'lion', 'goat')\n"
     ]
    }
   ],
   "source": [
    "t=(\"dog\",\"cat\",\"cow\",\"lion\",\"goat\")\n",
    "print(t)"
   ]
  },
  {
   "cell_type": "markdown",
   "metadata": {},
   "source": [
    "The values stored in a list can be accessed using the slice operator ([ ] and [:]) with indexes starting at 0 in the beginning of the list and working their way to end -1."
   ]
  },
  {
   "cell_type": "code",
   "execution_count": 98,
   "metadata": {},
   "outputs": [
    {
     "name": "stdout",
     "output_type": "stream",
     "text": [
      "lion\n",
      "('dog', 'cat')\n",
      "('dog', 'cat', 'cow', 'lion')\n",
      "('cat', 'cow')\n"
     ]
    }
   ],
   "source": [
    "print(t[3])\n",
    "print(t[:-3])\n",
    "print(t[:4])\n",
    "print(t[1:3])"
   ]
  },
  {
   "cell_type": "markdown",
   "metadata": {},
   "source": [
    "## Tuple Methods"
   ]
  },
  {
   "cell_type": "markdown",
   "metadata": {},
   "source": [
    "1.len()\n",
    "\n",
    "Returns the no.of elements in the tuple"
   ]
  },
  {
   "cell_type": "code",
   "execution_count": 99,
   "metadata": {},
   "outputs": [
    {
     "name": "stdout",
     "output_type": "stream",
     "text": [
      "5\n"
     ]
    }
   ],
   "source": [
    "print(len(t))"
   ]
  },
  {
   "cell_type": "markdown",
   "metadata": {},
   "source": [
    "2.count()\n",
    "\n",
    "Returns the number of times a specified value occurs in a tuple\n"
   ]
  },
  {
   "cell_type": "code",
   "execution_count": 100,
   "metadata": {},
   "outputs": [
    {
     "name": "stdout",
     "output_type": "stream",
     "text": [
      "2\n",
      "3\n",
      "1\n"
     ]
    }
   ],
   "source": [
    "t1=(\"red\",\"red\",\"blue\",\"blue\",\"blue\",\"yellow\")\n",
    "print(t1.count(\"red\"))\n",
    "print(t1.count(\"blue\"))\n",
    "print(t1.count(\"yellow\"))"
   ]
  },
  {
   "cell_type": "markdown",
   "metadata": {},
   "source": [
    "3.index()\n",
    "\n",
    "Searches the tuple for a specified value and returns the position of where it was found\n"
   ]
  },
  {
   "cell_type": "code",
   "execution_count": 101,
   "metadata": {},
   "outputs": [
    {
     "name": "stdout",
     "output_type": "stream",
     "text": [
      "2\n"
     ]
    }
   ],
   "source": [
    "t=(\"dog\",\"cat\",\"cow\",\"lion\",\"goat\")\n",
    "print(t.index(\"cow\"))"
   ]
  },
  {
   "cell_type": "markdown",
   "metadata": {},
   "source": [
    "Once a tuple is created, we cannot change its values. Tuples are unchangeable, or immutable as it also is called."
   ]
  },
  {
   "cell_type": "markdown",
   "metadata": {},
   "source": [
    "# Sets (and it's methods)"
   ]
  },
  {
   "cell_type": "markdown",
   "metadata": {},
   "source": [
    "A set is a collection which is unordered and unindexed. In Python sets are written with curly brackets.\n",
    "\n"
   ]
  },
  {
   "cell_type": "markdown",
   "metadata": {},
   "source": [
    "Example of sets:"
   ]
  },
  {
   "cell_type": "code",
   "execution_count": 103,
   "metadata": {},
   "outputs": [
    {
     "name": "stdout",
     "output_type": "stream",
     "text": [
      "{'orange', 'mango', 'apple', 'litchi'}\n"
     ]
    }
   ],
   "source": [
    "s={\"apple\",\"mango\",\"orange\",\"litchi\"}\n",
    "print(s)"
   ]
  },
  {
   "cell_type": "markdown",
   "metadata": {},
   "source": [
    "We cannot access the elements of a set using the index because it is unordered."
   ]
  },
  {
   "cell_type": "markdown",
   "metadata": {},
   "source": [
    "Once a set is created, you cannot change its items, but you can add new items.\n",
    "\n"
   ]
  },
  {
   "cell_type": "markdown",
   "metadata": {},
   "source": [
    "## Sets Methods"
   ]
  },
  {
   "cell_type": "markdown",
   "metadata": {},
   "source": [
    "1.add()\n",
    "\n",
    "It adds an element to the set."
   ]
  },
  {
   "cell_type": "code",
   "execution_count": 106,
   "metadata": {},
   "outputs": [
    {
     "name": "stdout",
     "output_type": "stream",
     "text": [
      "{'grapes', 'apple', 'litchi', 'orange', 'mango'}\n"
     ]
    }
   ],
   "source": [
    "s={\"apple\",\"mango\",\"orange\",\"litchi\"}\n",
    "s.add(\"grapes\")\n",
    "print(s)"
   ]
  },
  {
   "cell_type": "markdown",
   "metadata": {},
   "source": [
    "2.update()\n",
    "\n",
    "Update the set with the union of this set and others\n"
   ]
  },
  {
   "cell_type": "code",
   "execution_count": 108,
   "metadata": {},
   "outputs": [
    {
     "name": "stdout",
     "output_type": "stream",
     "text": [
      "{'blue', 'orange', 'apple', 'red', 'mango', 'litchi'}\n"
     ]
    }
   ],
   "source": [
    "s={\"apple\",\"mango\",\"orange\",\"litchi\"}\n",
    "p={\"red\",\"blue\"}\n",
    "s.update(p)\n",
    "print(s)"
   ]
  },
  {
   "cell_type": "markdown",
   "metadata": {},
   "source": [
    "3.remove()\n",
    "\n",
    "Removes the specified element\n"
   ]
  },
  {
   "cell_type": "code",
   "execution_count": 109,
   "metadata": {},
   "outputs": [
    {
     "name": "stdout",
     "output_type": "stream",
     "text": [
      "{'mango', 'apple', 'litchi'}\n"
     ]
    }
   ],
   "source": [
    "s={\"apple\",\"mango\",\"orange\",\"litchi\"}\n",
    "s.remove(\"orange\")\n",
    "print(s)"
   ]
  },
  {
   "cell_type": "markdown",
   "metadata": {},
   "source": [
    "4.isdisjoint()\n",
    "\n",
    "The isdisjoint() method returns True if none of the items are present in both sets, otherwise it returns False.\n",
    "\n",
    "\n"
   ]
  },
  {
   "cell_type": "code",
   "execution_count": 113,
   "metadata": {},
   "outputs": [
    {
     "name": "stdout",
     "output_type": "stream",
     "text": [
      "True\n",
      "False\n"
     ]
    }
   ],
   "source": [
    "s={\"apple\",\"mango\",\"orange\",\"litchi\"}\n",
    "p={\"red\",\"blue\"}\n",
    "q={\"red\",\"blue\",\"apple\"}\n",
    "print(s.isdisjoint(p))\n",
    "print(s.isdisjoint(q))\n"
   ]
  },
  {
   "cell_type": "markdown",
   "metadata": {},
   "source": [
    "5.difference()\n",
    "\n",
    "Returns a set containing the difference between two or more sets\n"
   ]
  },
  {
   "cell_type": "code",
   "execution_count": 112,
   "metadata": {},
   "outputs": [
    {
     "name": "stdout",
     "output_type": "stream",
     "text": [
      "{'mango', 'orange', 'litchi'}\n"
     ]
    }
   ],
   "source": [
    "s={\"apple\",\"mango\",\"orange\",\"litchi\"}\n",
    "q={\"red\",\"blue\",\"apple\"}\n",
    "x=s.difference(q)#'apple'is common so gets removed\n",
    "print(x)"
   ]
  },
  {
   "cell_type": "markdown",
   "metadata": {},
   "source": [
    "# Dictionaries(and it's methods)"
   ]
  },
  {
   "cell_type": "markdown",
   "metadata": {},
   "source": [
    "A dictionary is a collection which is unordered, changeable and indexed. In Python dictionaries are written with curly brackets, and they have keys and values.\n",
    "\n"
   ]
  },
  {
   "cell_type": "markdown",
   "metadata": {},
   "source": [
    "Example of dictionary is as follows:"
   ]
  },
  {
   "cell_type": "code",
   "execution_count": 1,
   "metadata": {},
   "outputs": [
    {
     "name": "stdout",
     "output_type": "stream",
     "text": [
      "{'fruit': 'apple', 'colour': 'red', 'taste': 'sweet'}\n"
     ]
    }
   ],
   "source": [
    "  d={\"fruit\":\"apple\",\"colour\":\"red\",\"taste\":\"sweet\"}\n",
    "  print(d)  "
   ]
  },
  {
   "cell_type": "markdown",
   "metadata": {},
   "source": [
    "In the above example the keys are \"fruit\",\"colour\",\"taste\" and the values are \"apple\",\"red\",\"sweet\"."
   ]
  },
  {
   "cell_type": "markdown",
   "metadata": {},
   "source": [
    "We can access the items of a dictionary by referring to its key name, inside square brackets:\n",
    "\n",
    "Eg:\n",
    "\n"
   ]
  },
  {
   "cell_type": "code",
   "execution_count": 2,
   "metadata": {},
   "outputs": [
    {
     "name": "stdout",
     "output_type": "stream",
     "text": [
      "apple\n"
     ]
    }
   ],
   "source": [
    "print(d[\"fruit\"])"
   ]
  },
  {
   "cell_type": "code",
   "execution_count": 3,
   "metadata": {},
   "outputs": [
    {
     "name": "stdout",
     "output_type": "stream",
     "text": [
      "red\n"
     ]
    }
   ],
   "source": [
    "print(d[\"colour\"])"
   ]
  },
  {
   "cell_type": "code",
   "execution_count": 5,
   "metadata": {},
   "outputs": [
    {
     "name": "stdout",
     "output_type": "stream",
     "text": [
      "sweet\n"
     ]
    }
   ],
   "source": [
    "print(d[\"taste\"])"
   ]
  },
  {
   "cell_type": "markdown",
   "metadata": {},
   "source": [
    "We can change the value of a specific item by referring to its key name.\n",
    "\n",
    "Eg:\n",
    "\n"
   ]
  },
  {
   "cell_type": "code",
   "execution_count": 6,
   "metadata": {},
   "outputs": [
    {
     "name": "stdout",
     "output_type": "stream",
     "text": [
      "{'fruit': 'apple', 'colour': 'green', 'taste': 'sweet'}\n"
     ]
    }
   ],
   "source": [
    "d[\"colour\"]=\"green\"\n",
    "print(d)"
   ]
  },
  {
   "cell_type": "markdown",
   "metadata": {},
   "source": [
    "In the above example,the colour changes from \"red\" to \"green\""
   ]
  },
  {
   "cell_type": "markdown",
   "metadata": {},
   "source": [
    "We can add an item to the dictionary by using a new key and assigning a value to it.\n",
    "\n",
    "Eg:\n",
    "\n"
   ]
  },
  {
   "cell_type": "code",
   "execution_count": 7,
   "metadata": {},
   "outputs": [
    {
     "name": "stdout",
     "output_type": "stream",
     "text": [
      "{'fruit': 'apple', 'colour': 'green', 'taste': 'sweet', 'shape': 'round'}\n"
     ]
    }
   ],
   "source": [
    "d[\"shape\"]=\"round\"\n",
    "print(d)"
   ]
  },
  {
   "cell_type": "markdown",
   "metadata": {},
   "source": [
    "## Dictionary Methods"
   ]
  },
  {
   "cell_type": "markdown",
   "metadata": {},
   "source": [
    "1.get()\n",
    "\n",
    " Returns the value of the item with the specified key.\n",
    "\n"
   ]
  },
  {
   "cell_type": "code",
   "execution_count": 8,
   "metadata": {},
   "outputs": [
    {
     "name": "stdout",
     "output_type": "stream",
     "text": [
      "apple\n"
     ]
    }
   ],
   "source": [
    "d={\"fruit\":\"apple\",\"colour\":\"red\",\"taste\":\"sweet\"}\n",
    "s=d.get(\"fruit\")\n",
    "print(s)"
   ]
  },
  {
   "cell_type": "markdown",
   "metadata": {},
   "source": [
    "The key is\"fruit\" so we get the corresponding value \"apple\""
   ]
  },
  {
   "cell_type": "markdown",
   "metadata": {},
   "source": [
    "2.keys()\n",
    "\n",
    "Returns a list containing the dictionary's keys\n"
   ]
  },
  {
   "cell_type": "code",
   "execution_count": 11,
   "metadata": {},
   "outputs": [
    {
     "name": "stdout",
     "output_type": "stream",
     "text": [
      "dict_keys(['fruit', 'colour', 'taste'])\n"
     ]
    }
   ],
   "source": [
    "d={\"fruit\":\"apple\",\"colour\":\"red\",\"taste\":\"sweet\"}\n",
    "s=d.keys()\n",
    "print(s)"
   ]
  },
  {
   "cell_type": "markdown",
   "metadata": {},
   "source": [
    "3.values()\n",
    "\n",
    "Returns a list of all the values in the dictionary\n"
   ]
  },
  {
   "cell_type": "code",
   "execution_count": 10,
   "metadata": {},
   "outputs": [
    {
     "name": "stdout",
     "output_type": "stream",
     "text": [
      "dict_values(['apple', 'red', 'sweet'])\n"
     ]
    }
   ],
   "source": [
    "d={\"fruit\":\"apple\",\"colour\":\"red\",\"taste\":\"sweet\"}\n",
    "s=d.values()\n",
    "print(s)"
   ]
  },
  {
   "cell_type": "markdown",
   "metadata": {},
   "source": [
    "4.pop()\n",
    "\n",
    "Removes the element with the specified key\n"
   ]
  },
  {
   "cell_type": "code",
   "execution_count": 12,
   "metadata": {},
   "outputs": [
    {
     "name": "stdout",
     "output_type": "stream",
     "text": [
      "{'fruit': 'apple', 'colour': 'red'}\n"
     ]
    }
   ],
   "source": [
    "d={\"fruit\":\"apple\",\"colour\":\"red\",\"taste\":\"sweet\"}\n",
    "d.pop(\"taste\")\n",
    "print(d)"
   ]
  },
  {
   "cell_type": "markdown",
   "metadata": {},
   "source": [
    "5.update()\n",
    "\n",
    "Updates the dictionary with the specified key-value pairs\n"
   ]
  },
  {
   "cell_type": "code",
   "execution_count": 13,
   "metadata": {},
   "outputs": [
    {
     "name": "stdout",
     "output_type": "stream",
     "text": [
      "{'fruit': 'apple', 'colour': 'red', 'taste': 'sweet', 'shape': 'round', 'texture': 'smooth'}\n"
     ]
    }
   ],
   "source": [
    "d={\"fruit\":\"apple\",\"colour\":\"red\",\"taste\":\"sweet\"}\n",
    "d.update({\"shape\":\"round\",\"texture\":\"smooth\"})\n",
    "print(d)"
   ]
  },
  {
   "cell_type": "markdown",
   "metadata": {},
   "source": [
    "# Functions"
   ]
  },
  {
   "cell_type": "markdown",
   "metadata": {},
   "source": [
    "A function is a block of organized, reusable code that is used to perform a single, related action.Functions can be in-buit or user defined. "
   ]
  },
  {
   "cell_type": "markdown",
   "metadata": {},
   "source": [
    "Function blocks begin with the keyword def followed by the function name and parentheses ( ).Defining a function gives it a name, specifies the parameters that are to be included in the function and structures the blocks of code."
   ]
  },
  {
   "cell_type": "markdown",
   "metadata": {},
   "source": [
    "Syntax of defining a function:\n",
    "    \n",
    "def functionname( parameters ):\n",
    "\n",
    "    "
   ]
  },
  {
   "cell_type": "markdown",
   "metadata": {},
   "source": [
    "Example of a function to print a statement:"
   ]
  },
  {
   "cell_type": "code",
   "execution_count": 15,
   "metadata": {},
   "outputs": [
    {
     "name": "stdout",
     "output_type": "stream",
     "text": [
      "This is a simple example\n"
     ]
    }
   ],
   "source": [
    "def printfn():\n",
    "    print(\"This is a simple example\")\n",
    "    \n",
    "printfn() #Function Calling    \n",
    "    "
   ]
  },
  {
   "cell_type": "markdown",
   "metadata": {},
   "source": [
    "We need to call the function in order to execute the task.To call a function, use the function name followed by parenthesis\n",
    "\n"
   ]
  },
  {
   "cell_type": "markdown",
   "metadata": {},
   "source": [
    "Information can be passed into functions as arguments.\n",
    "Arguments are specified after the function name, inside the parentheses. By default, a function must be called with the correct number of arguments. "
   ]
  },
  {
   "cell_type": "markdown",
   "metadata": {},
   "source": [
    "Exanple of a function to find sum of 2 no.s:"
   ]
  },
  {
   "cell_type": "code",
   "execution_count": 16,
   "metadata": {},
   "outputs": [
    {
     "name": "stdout",
     "output_type": "stream",
     "text": [
      "8\n"
     ]
    }
   ],
   "source": [
    "def sum(a,b):\n",
    "    c=a+b\n",
    "    return c\n",
    "print(sum(5,3))"
   ]
  },
  {
   "cell_type": "markdown",
   "metadata": {},
   "source": [
    "In the above example, the arguments 5 and 3 are passed in place of a and b respectively.\n",
    "\n",
    "The return statement is used to return a value in the function."
   ]
  },
  {
   "cell_type": "markdown",
   "metadata": {},
   "source": [
    "## Recursive Functions"
   ]
  },
  {
   "cell_type": "markdown",
   "metadata": {},
   "source": [
    "Recursion is a programming concept which means to call a function within the function itself.Using recursive algorithm, certain problems can be solved quite easily.\n",
    "\n",
    "Example of a recursive function:\n",
    "\n"
   ]
  },
  {
   "cell_type": "code",
   "execution_count": 28,
   "metadata": {},
   "outputs": [
    {
     "name": "stdout",
     "output_type": "stream",
     "text": [
      "10\n",
      "9\n",
      "8\n",
      "7\n",
      "6\n"
     ]
    }
   ],
   "source": [
    "def rec(x):\n",
    "    if(x>5):\n",
    "      print(x)    \n",
    "      rec(x-1)\n",
    "    \n",
    "rec(10)    "
   ]
  },
  {
   "cell_type": "markdown",
   "metadata": {},
   "source": [
    "In the above example the function rec() has been called inside the same function.This is an example of recursion which executes the function again and again."
   ]
  },
  {
   "cell_type": "markdown",
   "metadata": {},
   "source": [
    "# Lambdas"
   ]
  },
  {
   "cell_type": "markdown",
   "metadata": {},
   "source": [
    "A lambda function is a small anonymous function.\n",
    "\n",
    "A lambda function can take any number of arguments, but can only have one expression.\n",
    "\n"
   ]
  },
  {
   "cell_type": "markdown",
   "metadata": {},
   "source": [
    "Syntax:\n",
    "lambda arguments : expression"
   ]
  },
  {
   "cell_type": "markdown",
   "metadata": {},
   "source": [
    "Example of a lambda function to print the sum of 2 no.s:"
   ]
  },
  {
   "cell_type": "code",
   "execution_count": 29,
   "metadata": {},
   "outputs": [
    {
     "name": "stdout",
     "output_type": "stream",
     "text": [
      "11\n"
     ]
    }
   ],
   "source": [
    "sum=lambda a,b:a+b\n",
    "print(sum(5,6))"
   ]
  },
  {
   "cell_type": "markdown",
   "metadata": {},
   "source": [
    "Here, a and b are the arguments and a+b is the expression."
   ]
  },
  {
   "cell_type": "markdown",
   "metadata": {},
   "source": [
    "Another example to multiply 3 no.s:"
   ]
  },
  {
   "cell_type": "code",
   "execution_count": 31,
   "metadata": {},
   "outputs": [
    {
     "name": "stdout",
     "output_type": "stream",
     "text": [
      "210\n"
     ]
    }
   ],
   "source": [
    "pr=lambda a,b,c:a*b*c\n",
    "print(pr(5,6,7))"
   ]
  },
  {
   "cell_type": "markdown",
   "metadata": {},
   "source": [
    "Here, a,b and c are the arguments and a*b*c is the expression.\n",
    "\n",
    "\n",
    "\n"
   ]
  },
  {
   "cell_type": "markdown",
   "metadata": {},
   "source": [
    "We can also use lambdas within a function.\n",
    "\n",
    "The example is as follows:"
   ]
  },
  {
   "cell_type": "code",
   "execution_count": 33,
   "metadata": {},
   "outputs": [
    {
     "name": "stdout",
     "output_type": "stream",
     "text": [
      "10\n"
     ]
    }
   ],
   "source": [
    "def func(n):\n",
    "  return lambda a : a * n\n",
    "\n",
    "pr=func(5)\n",
    "print(pr(2))"
   ]
  },
  {
   "cell_type": "markdown",
   "metadata": {},
   "source": [
    "In the above example,5 is passed to the value of n and 2 is passed to the value of a.So we get the product of 5 and 2."
   ]
  },
  {
   "cell_type": "markdown",
   "metadata": {},
   "source": [
    "# Conditionals"
   ]
  },
  {
   "cell_type": "markdown",
   "metadata": {},
   "source": [
    "Conditionals are used when our program's output is dependent on certain conditions."
   ]
  },
  {
   "cell_type": "markdown",
   "metadata": {},
   "source": [
    "## if Statement"
   ]
  },
  {
   "cell_type": "markdown",
   "metadata": {},
   "source": [
    "The block within the of statement gets executed only when the condition inside the if statement is True.\n",
    "\n",
    "Syntax:\n",
    "\n",
    "    if condition :\n",
    "    \n",
    "        Statements"
   ]
  },
  {
   "cell_type": "markdown",
   "metadata": {},
   "source": [
    "Example:\n",
    "    "
   ]
  },
  {
   "cell_type": "code",
   "execution_count": 34,
   "metadata": {},
   "outputs": [
    {
     "name": "stdout",
     "output_type": "stream",
     "text": [
      "10\n"
     ]
    }
   ],
   "source": [
    "a=5\n",
    "b=10\n",
    "if b>a:\n",
    "    print(b)\n"
   ]
  },
  {
   "cell_type": "markdown",
   "metadata": {},
   "source": [
    "in the above example, 10>5 so the condition is true and the statement gets executed."
   ]
  },
  {
   "cell_type": "markdown",
   "metadata": {},
   "source": [
    "## if else Statement"
   ]
  },
  {
   "cell_type": "markdown",
   "metadata": {},
   "source": [
    "Here,The statement inside if block gets executed if the condition is True and the condition inside else block gets executed if the condition is False."
   ]
  },
  {
   "cell_type": "markdown",
   "metadata": {},
   "source": [
    "Syntax:\n",
    "\n",
    "if Condition:\n",
    "\n",
    "    Statement 1\n",
    "    \n",
    "else: \n",
    "\n",
    "    Statement 2"
   ]
  },
  {
   "cell_type": "markdown",
   "metadata": {},
   "source": [
    "Example:"
   ]
  },
  {
   "cell_type": "code",
   "execution_count": 2,
   "metadata": {},
   "outputs": [
    {
     "name": "stdout",
     "output_type": "stream",
     "text": [
      "5\n"
     ]
    }
   ],
   "source": [
    "a=5\n",
    "b=10\n",
    "if b<a:\n",
    "    print(b)\n",
    "else:\n",
    "    print(a)\n"
   ]
  },
  {
   "cell_type": "markdown",
   "metadata": {},
   "source": [
    "In the above example,the condition inside if statement is False so else block gets executed."
   ]
  },
  {
   "cell_type": "markdown",
   "metadata": {},
   "source": [
    "## if elif Statements"
   ]
  },
  {
   "cell_type": "markdown",
   "metadata": {},
   "source": [
    "This conditional statement is used when we need to check more than one conditions.\n",
    "\n",
    "Syntax:\n",
    "\n",
    "if Condition 1:\n",
    "\n",
    "    Statement 1\n",
    "    \n",
    "elif condition 2:\n",
    "\n",
    "    Statement 2\n",
    "    \n",
    "else:\n",
    "\n",
    "    Statement 3\n",
    "    \n",
    "If condition 1 is True then Statement 1 gets executed.If it is false then condition 2 gets checked.If condition 2 is true then Statement 2 gets executed and if it is false then Statement 3 gets executed.    "
   ]
  },
  {
   "cell_type": "markdown",
   "metadata": {},
   "source": [
    "Example:\n",
    "    "
   ]
  },
  {
   "cell_type": "code",
   "execution_count": 3,
   "metadata": {},
   "outputs": [
    {
     "name": "stdout",
     "output_type": "stream",
     "text": [
      "15\n"
     ]
    }
   ],
   "source": [
    "a=5\n",
    "b=10\n",
    "c=15\n",
    "if a>b and a>c:\n",
    "    print(a)\n",
    "elif b>c:\n",
    "    print(b)\n",
    "else:\n",
    "    print(c)"
   ]
  },
  {
   "cell_type": "markdown",
   "metadata": {},
   "source": [
    "## Nested if Statement"
   ]
  },
  {
   "cell_type": "markdown",
   "metadata": {},
   "source": [
    "This conditional statement contains one if statementt inside another if statement."
   ]
  },
  {
   "cell_type": "markdown",
   "metadata": {},
   "source": [
    "Syntax:\n",
    "    \n",
    "if condition 1:\n",
    "    \n",
    "    if condition 2:\n",
    "    \n",
    "      Statement\n",
    "      \n",
    "If condition 1 is True then condition 2 is checked and if it is true then only Statement gets executed.    "
   ]
  },
  {
   "cell_type": "markdown",
   "metadata": {},
   "source": [
    "Example:"
   ]
  },
  {
   "cell_type": "code",
   "execution_count": 4,
   "metadata": {},
   "outputs": [
    {
     "name": "stdout",
     "output_type": "stream",
     "text": [
      "15\n"
     ]
    }
   ],
   "source": [
    "a=5\n",
    "b=10\n",
    "c=15\n",
    "if a<b:\n",
    "    if b<c:\n",
    "        print(c)"
   ]
  },
  {
   "cell_type": "markdown",
   "metadata": {},
   "source": [
    "# Operators"
   ]
  },
  {
   "cell_type": "markdown",
   "metadata": {},
   "source": [
    "Operators arethe symbols used to perform operations on operands.\n",
    "\n",
    "The various types of operators in Python are:\n",
    "\n",
    "1.Arithmetic operators\n",
    "\n",
    "2.Assignment operators\n",
    "\n",
    "3.Comparison operators\n",
    "\n",
    "4.Logical operators\n",
    "\n",
    "5.Identity operators\n",
    "\n",
    "6.Membership operators\n",
    "\n",
    "7.Bitwise operators\n"
   ]
  },
  {
   "cell_type": "markdown",
   "metadata": {},
   "source": [
    "## 1.Arithmetic Operators"
   ]
  },
  {
   "cell_type": "markdown",
   "metadata": {},
   "source": [
    "Arithmetic operators are used with numeric values to perform common mathematical operations.\n",
    "\n",
    "They are +  (used for addition),- (used for subtraction),* (used for multiplication),/  (used for division),%(modulus operator for finding remainder),** (used for exponentiation),//  (used for floor division,rounds the result down to the nearest whole number\n",
    ")\n"
   ]
  },
  {
   "cell_type": "markdown",
   "metadata": {},
   "source": [
    "Examples are as follows:"
   ]
  },
  {
   "cell_type": "code",
   "execution_count": 5,
   "metadata": {},
   "outputs": [
    {
     "name": "stdout",
     "output_type": "stream",
     "text": [
      "17\n",
      "13\n",
      "30\n",
      "7.5\n",
      "1\n",
      "225\n",
      "7\n"
     ]
    }
   ],
   "source": [
    "x=15\n",
    "y=2\n",
    "print(x+y)\n",
    "print(x-y)\n",
    "print(x*y)\n",
    "print(x/y)\n",
    "print(x%y)\n",
    "print(x**y)\n",
    "print(x//y)"
   ]
  },
  {
   "cell_type": "markdown",
   "metadata": {},
   "source": [
    "## 2.Assignment Operators"
   ]
  },
  {
   "cell_type": "markdown",
   "metadata": {},
   "source": [
    "Assignment operators are used to assign values to variables.\n",
    "\n",
    "They are =, +=,-=,*=,/=,%=,**=,//=.\n",
    "\n",
    "The examples are as follows:\n",
    "    \n",
    "   \n",
    "\n"
   ]
  },
  {
   "cell_type": "code",
   "execution_count": 10,
   "metadata": {},
   "outputs": [
    {
     "name": "stdout",
     "output_type": "stream",
     "text": [
      "7\n",
      "5\n",
      "10\n",
      "5.0\n",
      "1.0\n",
      "1.0\n",
      "0.0\n"
     ]
    }
   ],
   "source": [
    "x=5 # value 5 is assigned to x\n",
    "y=2\n",
    "x+=y # means x=x+y\n",
    "print(x)\n",
    "x-=y\n",
    "print(x)\n",
    "x*=y\n",
    "print(x)\n",
    "x/=y\n",
    "print(x)\n",
    "x%=y\n",
    "print(x)\n",
    "x**=y\n",
    "print(x)\n",
    "x//=y\n",
    "print(x)\n"
   ]
  },
  {
   "cell_type": "markdown",
   "metadata": {},
   "source": [
    "## 3.Comparision Operators"
   ]
  },
  {
   "cell_type": "markdown",
   "metadata": {},
   "source": [
    "These operators compare the values on either side of them and decide the relation among them. They are also called Relational operators.\n",
    "\n",
    "They are ==(Equal to),>(Greater than),<(Less than),<=(Less than equal to),>=(Greater than equal to),!=(Not equal to).\n",
    "\n",
    "They return True if the condition is true and False if the condition is false."
   ]
  },
  {
   "cell_type": "markdown",
   "metadata": {},
   "source": [
    "The examples are as follows:"
   ]
  },
  {
   "cell_type": "code",
   "execution_count": 14,
   "metadata": {},
   "outputs": [
    {
     "name": "stdout",
     "output_type": "stream",
     "text": [
      "False\n",
      "False\n",
      "True\n",
      "True\n",
      "False\n",
      "True\n"
     ]
    }
   ],
   "source": [
    "a=5\n",
    "b=6\n",
    "print(a==b)\n",
    "print(a>=b)\n",
    "print(a<=b)\n",
    "print(a<b)\n",
    "print(a>b)\n",
    "print(a!=b)"
   ]
  },
  {
   "cell_type": "markdown",
   "metadata": {},
   "source": [
    "## 4.Logical Operators"
   ]
  },
  {
   "cell_type": "markdown",
   "metadata": {},
   "source": [
    "Logical operators are used to combine conditional statements.\n",
    "\n",
    "They are 'and','or'and 'not'. \n",
    "\n",
    "'and' returns True if both statements are true.\n",
    "\n",
    "'or' returns True if any one of the statements are true.\n",
    "\n",
    "'not' reverse the result, returns False if the result is true\n",
    "\n",
    "\n"
   ]
  },
  {
   "cell_type": "markdown",
   "metadata": {},
   "source": [
    "The examples are as follows:"
   ]
  },
  {
   "cell_type": "code",
   "execution_count": 16,
   "metadata": {},
   "outputs": [
    {
     "name": "stdout",
     "output_type": "stream",
     "text": [
      "False\n",
      "True\n",
      "True\n"
     ]
    }
   ],
   "source": [
    "a=5\n",
    "b=6\n",
    "print(a>b and a<b)\n",
    "print(a>b or a<b)\n",
    "print(not(a>b))"
   ]
  },
  {
   "cell_type": "markdown",
   "metadata": {},
   "source": [
    "## 5.Identity Operators"
   ]
  },
  {
   "cell_type": "markdown",
   "metadata": {},
   "source": [
    "Identity operators are used to compare the objects, not if they are equal, but if they are actually the same object, with the same memory location.\n",
    "\n",
    "They are 'is' and 'is not'.\n",
    "\n",
    "'is' returns True if both variables are the same object\n",
    "\n",
    "'is not' returns True if both variables are not the same object\n"
   ]
  },
  {
   "cell_type": "markdown",
   "metadata": {},
   "source": [
    "The examples are:"
   ]
  },
  {
   "cell_type": "code",
   "execution_count": 17,
   "metadata": {},
   "outputs": [
    {
     "name": "stdout",
     "output_type": "stream",
     "text": [
      "False\n",
      "True\n"
     ]
    }
   ],
   "source": [
    "x=9\n",
    "y=10\n",
    "print(x is y)\n",
    "print(x is not y)"
   ]
  },
  {
   "cell_type": "markdown",
   "metadata": {},
   "source": [
    "## 6.Membership Operators"
   ]
  },
  {
   "cell_type": "markdown",
   "metadata": {},
   "source": [
    "Membership operators are used to test if a sequence is presented in an object.\n",
    "\n",
    "They are 'in' and 'not in'.\n",
    "\n",
    "'in' returns True if a sequence with the specified value is present in the object.\n",
    "\n",
    "'not in' returns True if a sequence with the specified value is not present in the object.\n",
    "\n"
   ]
  },
  {
   "cell_type": "markdown",
   "metadata": {},
   "source": [
    "The examples are as follows:"
   ]
  },
  {
   "cell_type": "code",
   "execution_count": 18,
   "metadata": {},
   "outputs": [
    {
     "name": "stdout",
     "output_type": "stream",
     "text": [
      "True\n",
      "False\n"
     ]
    }
   ],
   "source": [
    "x=\"computer\"\n",
    "print( 'c'in x)\n",
    "print('o'not in x)"
   ]
  },
  {
   "cell_type": "markdown",
   "metadata": {},
   "source": [
    "In the above exapmle, 'c' is present in the string \"computer\", so it returns True and 'o' is also present so it returns False."
   ]
  },
  {
   "cell_type": "markdown",
   "metadata": {},
   "source": [
    "## 7.Bitwise Operators"
   ]
  },
  {
   "cell_type": "markdown",
   "metadata": {},
   "source": [
    "Bitwise operator works on bits and performs bit-by-bit operation. \n",
    "\n",
    "They are &(Bitwise AND),|(Bitwise OR),^(Bitwise XOR),~(Bitwise NOT),<<(Left Shift),>>(Right Shift).\n",
    "\n",
    "& sets each bit to 1 if both bits are 1.\n",
    "\n",
    "| sets each bit to 1 if both bits are 1.\n",
    "\n",
    "^ sets each bit to 1 if only one of two bits is 1.\n",
    "\n",
    "~ inverts all the bits.\n",
    "\n",
    "<< shift left by pushing zeros in from the right and let the leftmost bits fall off.\n",
    "\n",
    ". >> shift right by pushing copies of the leftmost bit in from the left, and let the rightmost bits fall off"
   ]
  },
  {
   "cell_type": "markdown",
   "metadata": {},
   "source": [
    "Examples are :"
   ]
  },
  {
   "cell_type": "code",
   "execution_count": 20,
   "metadata": {},
   "outputs": [
    {
     "name": "stdout",
     "output_type": "stream",
     "text": [
      "4\n",
      "61\n",
      "57\n",
      "-61\n",
      "1920\n",
      "1\n"
     ]
    }
   ],
   "source": [
    "a=60\n",
    "b=5\n",
    "print(a&b)\n",
    "print(a|b)\n",
    "print(a^b)\n",
    "print(~a)\n",
    "print(a<<b)\n",
    "print(a>>b)"
   ]
  },
  {
   "cell_type": "markdown",
   "metadata": {},
   "source": [
    "# Loops"
   ]
  },
  {
   "cell_type": "markdown",
   "metadata": {},
   "source": [
    "Loops are iteration statements which  allow a set of instructions to be repeatedly executed until a certain condition is reached. "
   ]
  },
  {
   "cell_type": "markdown",
   "metadata": {},
   "source": [
    "Or we can say that a loop repeatedly executes the same set of instructions until a termination condition is met."
   ]
  },
  {
   "cell_type": "markdown",
   "metadata": {},
   "source": [
    "## For loop"
   ]
  },
  {
   "cell_type": "markdown",
   "metadata": {},
   "source": [
    "A for loop is used for iterating over a sequence (that is either a list, a tuple, a dictionary, a set, or a string).\n",
    "\n",
    "The loop is introduced by the keyword 'for' which is followed by a random variable name which will contain the values supplied by the object."
   ]
  },
  {
   "cell_type": "markdown",
   "metadata": {},
   "source": [
    "Syntax of 'for loop':\n",
    "\n",
    "for variable in list:\n",
    "\n",
    "    Statements"
   ]
  },
  {
   "cell_type": "markdown",
   "metadata": {},
   "source": [
    "Example:"
   ]
  },
  {
   "cell_type": "code",
   "execution_count": 21,
   "metadata": {},
   "outputs": [
    {
     "name": "stdout",
     "output_type": "stream",
     "text": [
      "1\n",
      "2\n",
      "3\n",
      "4\n",
      "5\n"
     ]
    }
   ],
   "source": [
    "l=['1','2','3','4','5']\n",
    "for i in l:\n",
    "    print(i)"
   ]
  },
  {
   "cell_type": "markdown",
   "metadata": {},
   "source": [
    "The loop gets repeated 5 times as there are 5 elements in the list."
   ]
  },
  {
   "cell_type": "markdown",
   "metadata": {},
   "source": [
    "## While loop"
   ]
  },
  {
   "cell_type": "markdown",
   "metadata": {},
   "source": [
    "With the while loop we can execute a set of statements as long as a condition is true.\n",
    "\n"
   ]
  },
  {
   "cell_type": "markdown",
   "metadata": {},
   "source": [
    "Syntax of 'for loop':\n",
    "\n",
    "while condition:\n",
    "\n",
    "    Statements"
   ]
  },
  {
   "cell_type": "markdown",
   "metadata": {},
   "source": [
    "Example:"
   ]
  },
  {
   "cell_type": "code",
   "execution_count": 22,
   "metadata": {},
   "outputs": [
    {
     "name": "stdout",
     "output_type": "stream",
     "text": [
      "1\n",
      "2\n",
      "3\n",
      "4\n",
      "5\n"
     ]
    }
   ],
   "source": [
    " i=1\n",
    " while i<6:\n",
    "    print(i)\n",
    "    i+=1"
   ]
  },
  {
   "cell_type": "markdown",
   "metadata": {},
   "source": [
    "In the above example the loop executes 5 times."
   ]
  },
  {
   "cell_type": "markdown",
   "metadata": {},
   "source": [
    "With the break statement we can stop the loop before it has looped through all the items.\n",
    "\n",
    "Example:\n",
    "\n"
   ]
  },
  {
   "cell_type": "code",
   "execution_count": 25,
   "metadata": {},
   "outputs": [
    {
     "name": "stdout",
     "output_type": "stream",
     "text": [
      "1\n",
      "2\n"
     ]
    }
   ],
   "source": [
    " i=1\n",
    " while i<6:\n",
    "    print(i)\n",
    "    i+=1\n",
    "    if i==3:\n",
    "        break"
   ]
  },
  {
   "cell_type": "markdown",
   "metadata": {},
   "source": [
    "The loop breaks at i=3 so only gets exected twice."
   ]
  },
  {
   "cell_type": "markdown",
   "metadata": {},
   "source": [
    "With the continue statement we can stop the current iteration of the loop, and continue with the next\n",
    "\n",
    "Example:"
   ]
  },
  {
   "cell_type": "code",
   "execution_count": 1,
   "metadata": {},
   "outputs": [
    {
     "name": "stdout",
     "output_type": "stream",
     "text": [
      "apple\n",
      "cherry\n"
     ]
    }
   ],
   "source": [
    "fruits = [\"apple\", \"banana\", \"cherry\"]\n",
    "for x in fruits:\n",
    "  if x == \"banana\":\n",
    "    continue\n",
    "  print(x)"
   ]
  },
  {
   "cell_type": "markdown",
   "metadata": {},
   "source": [
    "To loop through a set of code a specified number of times, we can use the range() function,\n",
    "The range() function returns a sequence of numbers, starting from 0 by default, and increments by 1 (by default), and ends at a specified number.\n",
    "\n",
    "Example:"
   ]
  },
  {
   "cell_type": "code",
   "execution_count": 2,
   "metadata": {},
   "outputs": [
    {
     "name": "stdout",
     "output_type": "stream",
     "text": [
      "0\n",
      "1\n",
      "2\n",
      "3\n",
      "4\n",
      "5\n",
      "6\n",
      "7\n",
      "8\n",
      "9\n"
     ]
    }
   ],
   "source": [
    "for i in range(10):\n",
    "    print(i)\n"
   ]
  },
  {
   "cell_type": "markdown",
   "metadata": {},
   "source": [
    "In the above example,the loop runs 10 times from 0 to 9."
   ]
  },
  {
   "cell_type": "code",
   "execution_count": 3,
   "metadata": {},
   "outputs": [
    {
     "name": "stdout",
     "output_type": "stream",
     "text": [
      "1\n",
      "2\n",
      "3\n",
      "4\n"
     ]
    }
   ],
   "source": [
    "for i in range(1,5):\n",
    "    print(i)"
   ]
  },
  {
   "cell_type": "markdown",
   "metadata": {},
   "source": [
    "# Modules"
   ]
  },
  {
   "cell_type": "markdown",
   "metadata": {},
   "source": [
    "A module can be said as a code library.It is a file which contains inbuilt functions which can be used in the code.\n",
    "\n"
   ]
  },
  {
   "cell_type": "markdown",
   "metadata": {},
   "source": [
    "\n",
    "\n",
    "There are several built-in modules in Python, which we can import by using the 'import' keyword.\n",
    "\n",
    "\n",
    "\n",
    "\n"
   ]
  },
  {
   "cell_type": "markdown",
   "metadata": {},
   "source": [
    "We can also create a module.\n",
    "\n",
    "For creating a module we can first create the code and save it with.py extension.\n",
    "Eg: name.py\n",
    "\n",
    "We can import it by :\n",
    "\n",
    "import name"
   ]
  },
  {
   "cell_type": "markdown",
   "metadata": {},
   "source": [
    "The module can contain functions and variables of all types (arrays, dictionaries, objects )"
   ]
  },
  {
   "cell_type": "markdown",
   "metadata": {},
   "source": [
    "Example of using an inbuilt module:"
   ]
  },
  {
   "cell_type": "code",
   "execution_count": 7,
   "metadata": {},
   "outputs": [
    {
     "name": "stdout",
     "output_type": "stream",
     "text": [
      "30\n"
     ]
    }
   ],
   "source": [
    "import random as rn\n",
    "x=rn.randint(1,100)\n",
    "print(x)"
   ]
  },
  {
   "cell_type": "markdown",
   "metadata": {},
   "source": [
    "In the above example, we have imported random module which is an inbuilt module."
   ]
  },
  {
   "cell_type": "markdown",
   "metadata": {},
   "source": [
    "# Classes,Constructors and Objects"
   ]
  },
  {
   "cell_type": "markdown",
   "metadata": {},
   "source": [
    "A Class is like an object constructor, or a \"blueprint\" for creating objects.\n",
    "\n"
   ]
  },
  {
   "cell_type": "markdown",
   "metadata": {},
   "source": [
    "To create a class, use the keyword class.\n",
    "\n"
   ]
  },
  {
   "cell_type": "markdown",
   "metadata": {},
   "source": [
    "Example:"
   ]
  },
  {
   "cell_type": "code",
   "execution_count": 1,
   "metadata": {},
   "outputs": [],
   "source": [
    "class First:\n",
    "    a=6"
   ]
  },
  {
   "cell_type": "markdown",
   "metadata": {},
   "source": [
    "We have created a class named First with a property a=6."
   ]
  },
  {
   "cell_type": "markdown",
   "metadata": {},
   "source": [
    "Almost everything in Python is an object, with its properties and methods.We can use the class to create objects.\n",
    "\n",
    "Example:\n",
    "\n",
    "\n",
    "\n"
   ]
  },
  {
   "cell_type": "code",
   "execution_count": 4,
   "metadata": {},
   "outputs": [
    {
     "name": "stdout",
     "output_type": "stream",
     "text": [
      "6\n"
     ]
    }
   ],
   "source": [
    "obj=First()\n",
    "print(obj.a)"
   ]
  },
  {
   "cell_type": "markdown",
   "metadata": {},
   "source": [
    "In the above example ,obj is an object under the class First."
   ]
  },
  {
   "cell_type": "markdown",
   "metadata": {},
   "source": [
    "Constructors are generally used for instantiating an object.The task of constructors is to initialize(assign values) to the data members of the class when an object of class is created."
   ]
  },
  {
   "cell_type": "markdown",
   "metadata": {},
   "source": [
    "They are of 2 types:\n",
    "\n",
    "1.Default constructor::The default constructor is simple constructor which doesn’t accept any arguments.\n",
    "\n",
    "2.Parameterised constructor::constructor with parameters is known as parameterized constructor.\n",
    "\n",
    "    "
   ]
  },
  {
   "cell_type": "markdown",
   "metadata": {},
   "source": [
    "In Python the __init__() method is called the constructor and is always called when an object is created."
   ]
  },
  {
   "cell_type": "markdown",
   "metadata": {},
   "source": [
    "Example of Default constructor:"
   ]
  },
  {
   "cell_type": "code",
   "execution_count": 10,
   "metadata": {},
   "outputs": [
    {
     "name": "stdout",
     "output_type": "stream",
     "text": [
      "HelloWorld\n"
     ]
    }
   ],
   "source": [
    "class My:\n",
    "     def __init__(self): # default constructor\n",
    "        self.abc = \"HelloWorld\"\n",
    "     def print(self): # method for printing \n",
    "        print(self.abc) \n",
    "\n",
    "obj=My()# creating the object\n",
    "\n",
    "obj.print()# calling the instance method using object\n",
    "        \n",
    "  "
   ]
  },
  {
   "cell_type": "markdown",
   "metadata": {},
   "source": [
    "Example of Parameterised Constructor:"
   ]
  },
  {
   "cell_type": "code",
   "execution_count": 14,
   "metadata": {},
   "outputs": [
    {
     "name": "stdout",
     "output_type": "stream",
     "text": [
      "5\n"
     ]
    }
   ],
   "source": [
    "class First:\n",
    "    num1=0\n",
    "    num2=0\n",
    "    def __init__(self,a,b): #Parameterised Constructor\n",
    "        self.num1=a\n",
    "        self.num2=b\n",
    "        \n",
    "    def sum(self) : # Method to find the sum\n",
    "        print(self.num1+self.num2)\n",
    "        \n",
    "obj=First(2,3)# creating the object \n",
    "\n",
    "obj.sum()# calling the instance method using object\n",
    "        \n",
    "          \n",
    "      "
   ]
  },
  {
   "cell_type": "markdown",
   "metadata": {},
   "source": [
    "# Extended Class(Inheritance)"
   ]
  },
  {
   "cell_type": "markdown",
   "metadata": {},
   "source": [
    "Inheritance allows us to define a class that inherits all the methods and properties from another class.\n",
    "\n"
   ]
  },
  {
   "cell_type": "markdown",
   "metadata": {},
   "source": [
    "Parent class is the class being inherited from, also called base class.\n",
    "\n",
    "Child class is the class that inherits from another class, also called derived class.\n",
    "\n"
   ]
  },
  {
   "cell_type": "markdown",
   "metadata": {},
   "source": [
    "It provides reusability of a code. We don’t have to write the same code again and again. Also, it allows us to add more features to a class without modifying it.\n"
   ]
  },
  {
   "cell_type": "markdown",
   "metadata": {},
   "source": [
    "An example of Inheritance is given below."
   ]
  },
  {
   "cell_type": "code",
   "execution_count": 35,
   "metadata": {},
   "outputs": [
    {
     "name": "stdout",
     "output_type": "stream",
     "text": [
      "Alex\n"
     ]
    }
   ],
   "source": [
    "class Details:\n",
    "    def __init__(self,name):\n",
    "        self.name=name\n",
    "    def display(self):\n",
    "        print(self.name)\n",
    "class Person(Details):# Inheritance of class\n",
    "       pass\n",
    "   \n",
    "n=Person(\"Alex\")\n",
    "n.display()\n",
    "    "
   ]
  },
  {
   "cell_type": "markdown",
   "metadata": {},
   "source": [
    "In the above example,Details is the Parent class and Person is the child class.The pass keyword is used when we do not want to add any further methods to the child class"
   ]
  },
  {
   "cell_type": "markdown",
   "metadata": {},
   "source": [
    "Thus in the above example we have inherited the properties of class Details in the class Person.    \n"
   ]
  },
  {
   "cell_type": "code",
   "execution_count": 41,
   "metadata": {},
   "outputs": [
    {
     "name": "stdout",
     "output_type": "stream",
     "text": [
      "Alex\n",
      "123\n"
     ]
    }
   ],
   "source": [
    "class Details:\n",
    "    def __init__(self,name):\n",
    "        self.name=name\n",
    "    def display(self):\n",
    "        print(self.name)\n",
    "class Person(Details):# Inheritance of class\n",
    "    def disp(self):\n",
    "        print(\"123\")\n",
    "        \n",
    "n=Person(\"Alex\")\n",
    "n.display()\n",
    "n.disp()\n",
    "       "
   ]
  },
  {
   "cell_type": "markdown",
   "metadata": {},
   "source": [
    "In the above example we have added another method to the child class Person."
   ]
  },
  {
   "cell_type": "markdown",
   "metadata": {},
   "source": [
    "# File Handling"
   ]
  },
  {
   "cell_type": "markdown",
   "metadata": {},
   "source": [
    "File handling is the process which deals with  creating, reading, updating the files.\n",
    "\n"
   ]
  },
  {
   "cell_type": "markdown",
   "metadata": {},
   "source": [
    "1.Opening a file:\n",
    "\n",
    "The open() function is used to open a file.The open() function takes two parameters:filename and mode.\n",
    "\n",
    "There are four different modes for opening a file:\n",
    "\n",
    "\"r\" - Read a file\n",
    "\n",
    "\"a\" - Appends the file \n",
    "\n",
    "\"w\" - Writes the file\n",
    "\n",
    "\"r+\" - Both read and write the file\n",
    "\n",
    "\"x\" - Creates a file and so error if the file already exists.\n",
    "\n",
    "\n",
    "    "
   ]
  },
  {
   "cell_type": "markdown",
   "metadata": {},
   "source": [
    "Example of opening a file:"
   ]
  },
  {
   "cell_type": "code",
   "execution_count": 83,
   "metadata": {},
   "outputs": [],
   "source": [
    "f = open(\"file.txt\",\"r\")"
   ]
  },
  {
   "cell_type": "markdown",
   "metadata": {},
   "source": [
    "2.Reading a file\n",
    "\n",
    "The read() function can be used to read the file."
   ]
  },
  {
   "cell_type": "code",
   "execution_count": 84,
   "metadata": {},
   "outputs": [
    {
     "name": "stdout",
     "output_type": "stream",
     "text": [
      "Hello everyone.\n",
      "We are dicsussing about file handling.\n"
     ]
    }
   ],
   "source": [
    "f = open(\"file.txt\",\"r\")\n",
    "print(f.read())"
   ]
  },
  {
   "cell_type": "markdown",
   "metadata": {},
   "source": [
    "In the above example,we have opened a text file and can also read the file."
   ]
  },
  {
   "cell_type": "markdown",
   "metadata": {},
   "source": [
    "We can also read a part of the file or few lines of the file.Examples are given below:"
   ]
  },
  {
   "cell_type": "code",
   "execution_count": 85,
   "metadata": {},
   "outputs": [
    {
     "name": "stdout",
     "output_type": "stream",
     "text": [
      "Hello ever\n"
     ]
    }
   ],
   "source": [
    "f = open(\"file.txt\",\"r\")\n",
    "print(f.read(10))"
   ]
  },
  {
   "cell_type": "markdown",
   "metadata": {},
   "source": [
    "It only shows the first 10 characters."
   ]
  },
  {
   "cell_type": "code",
   "execution_count": 86,
   "metadata": {},
   "outputs": [
    {
     "name": "stdout",
     "output_type": "stream",
     "text": [
      "Hello everyone.\n",
      "\n"
     ]
    }
   ],
   "source": [
    "f = open(\"file.txt\",\"r\")\n",
    "print(f.readline())"
   ]
  },
  {
   "cell_type": "markdown",
   "metadata": {},
   "source": [
    "The readline() function is used to read a particular line.The no.of times we call the readline() function,the same o.of lines we will be able to read.\n",
    "\n",
    "Example:"
   ]
  },
  {
   "cell_type": "code",
   "execution_count": 87,
   "metadata": {},
   "outputs": [
    {
     "name": "stdout",
     "output_type": "stream",
     "text": [
      "Hello everyone.\n",
      "\n",
      "We are dicsussing about file handling.\n"
     ]
    }
   ],
   "source": [
    "f = open(\"file.txt\",\"r\")\n",
    "print(f.readline())\n",
    "print(f.readline())"
   ]
  },
  {
   "cell_type": "markdown",
   "metadata": {},
   "source": [
    "3.Writing a file\n",
    "\n",
    "We can write or update a file by opening the file with 'a' or 'w' module and the write() method can be used to add the text.\n",
    "\n",
    "Example:"
   ]
  },
  {
   "cell_type": "code",
   "execution_count": 81,
   "metadata": {},
   "outputs": [
    {
     "name": "stdout",
     "output_type": "stream",
     "text": [
      "Now we have some new text We can add more content We can add more content\n"
     ]
    }
   ],
   "source": [
    "f = open(\"file.txt\", \"a\")\n",
    "f.write(\" We can add more content\")\n",
    "f.close()# closing the file\n",
    "\n",
    "f = open(\"file.txt\", \"r\")\n",
    "print(f.read())\n"
   ]
  },
  {
   "cell_type": "markdown",
   "metadata": {},
   "source": [
    "So in the above example we have added the text by using \"a\",append module."
   ]
  },
  {
   "cell_type": "markdown",
   "metadata": {},
   "source": [
    "By using the \"w\", write module we can overwrite a file."
   ]
  },
  {
   "cell_type": "markdown",
   "metadata": {},
   "source": [
    "Example:"
   ]
  },
  {
   "cell_type": "code",
   "execution_count": 98,
   "metadata": {},
   "outputs": [
    {
     "name": "stdout",
     "output_type": "stream",
     "text": [
      "We have changed the contents of the file\n"
     ]
    }
   ],
   "source": [
    "f = open(\"a.txt\", \"w\")\n",
    "f.write(\"We have changed the contents of the file.\")\n",
    "f.close()\n",
    "\n",
    "f = open(\"a.txt\", \"r\")\n",
    "print(f.read())\n"
   ]
  },
  {
   "cell_type": "markdown",
   "metadata": {},
   "source": [
    "So,now the file is overwritten."
   ]
  },
  {
   "cell_type": "code",
   "execution_count": null,
   "metadata": {},
   "outputs": [],
   "source": []
  }
 ],
 "metadata": {
  "kernelspec": {
   "display_name": "Python 3",
   "language": "python",
   "name": "python3"
  },
  "language_info": {
   "codemirror_mode": {
    "name": "ipython",
    "version": 3
   },
   "file_extension": ".py",
   "mimetype": "text/x-python",
   "name": "python",
   "nbconvert_exporter": "python",
   "pygments_lexer": "ipython3",
   "version": "3.7.6"
  }
 },
 "nbformat": 4,
 "nbformat_minor": 4
}
