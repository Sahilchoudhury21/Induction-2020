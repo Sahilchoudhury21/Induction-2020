{
 "cells": [
  {
   "cell_type": "markdown",
   "metadata": {},
   "source": [
    "# 1. Variables :--\n",
    "    \n",
    "        A variable allows the user to store a value by assigning it to a name.\n",
    "        Below given is a sample code to demonstrate how variables can be used in Python."
   ]
  },
  {
   "cell_type": "code",
   "execution_count": null,
   "metadata": {},
   "outputs": [],
   "source": [
    "number=5                     # number is a variable that is assigned to store a integral value\n",
    "decimal=5.8                  # decimal is a variable that is assigned to store a decimal value\n",
    "string=\"swaroop\"         # string is a variable that is assigned to store a string.In python a string can be a word or a letter.\n"
   ]
  },
  {
   "cell_type": "markdown",
   "metadata": {},
   "source": [
    "## 2. Print :--\n",
    "\n",
    "    In python to display a result or a value 'print()' function is used. "
   ]
  },
  {
   "cell_type": "code",
   "execution_count": 5,
   "metadata": {},
   "outputs": [
    {
     "name": "stdout",
     "output_type": "stream",
     "text": [
      "5\n",
      "\n",
      "\n",
      "This is a message to be displayed during output\n",
      "The value of number is 5\n"
     ]
    }
   ],
   "source": [
    "number=5\n",
    "print(number)                                               # Displays the value of the variable number\n",
    "print(\"\\n\")                                                 # Prints a new blank line\n",
    "print(\"This is a message to be displayed during output\")    # In this a message is displayed \n",
    "print(\"The value of number is\",number)                      #COmbination of message with a value"
   ]
  },
  {
   "cell_type": "markdown",
   "metadata": {},
   "source": [
    "## 3. Data types and Type Casting :--\n",
    "\n",
    "    Python supports three types of data types.\n",
    "        They are:\n",
    "            - Integer type(int)\n",
    "            - Decimal type(float)\n",
    "            - String type(str)\n",
    "        \n",
    "        We can also change the data types of variables in Python.\n",
    "        Below are some ways in which it can be done."
   ]
  },
  {
   "cell_type": "code",
   "execution_count": 7,
   "metadata": {},
   "outputs": [
    {
     "name": "stdout",
     "output_type": "stream",
     "text": [
      "30\n",
      "15\n"
     ]
    }
   ],
   "source": [
    "# Adding two strings\n",
    "string1=\"10\"\n",
    "string2=\"20\"\n",
    "add_string=int(string1)+int(string2)\n",
    "print(add_string)\n",
    "\n",
    "#Cancating two integers\n",
    "x=1\n",
    "y=5\n",
    "string=str(x)+str(y)\n",
    "print(string)"
   ]
  },
  {
   "cell_type": "markdown",
   "metadata": {},
   "source": [
    "## 4. Strings and String Formating :--\n",
    "    \n",
    "    In python any input from the command line is considered as a string.\n",
    "    For string formatting-\n",
    "    Normally I use the concatenation for string formation but there is also an official way of formatting the strings.\n",
    "        %s - for strings\n",
    "        %d - for integers\n",
    "        %f - for decimals\n",
    "        \n",
    "     Syntax:\n",
    "         print(\"your msg %s\" %the_variable_name)\n",
    "         \n",
    "      Non-strings can also be embeded using more efficient method i.e using format() function "
   ]
  },
  {
   "cell_type": "code",
   "execution_count": 14,
   "metadata": {},
   "outputs": [
    {
     "name": "stdout",
     "output_type": "stream",
     "text": [
      "Swaroop is 20 years old\n",
      "Swaroop is 20 years old\n",
      "2030\n"
     ]
    }
   ],
   "source": [
    "age=20\n",
    "name=\"Swaroop\"\n",
    "print(\"%s is %d years old\"%(name,age))     # OFFICIAL WAY\n",
    "print(name,\"is\",age,\"years old\")           # MY NINJA WAY\n",
    "print(\"{x}{y}\".format(x=20,y=30))          # EFFICIENT WAY"
   ]
  },
  {
   "cell_type": "markdown",
   "metadata": {},
   "source": [
    "## 5. String Methods :--\n",
    "    \n",
    "    Python supports some really handy string function that makes the code shorter and saves time.\n",
    "    Some functions are--\n",
    "        a) join(): joins a list of strings with another string as a separator\n",
    "        b) replace(): replaces one sub-string with another\n",
    "        c) startswith() & endswith(): determines the starting and ending of a string\n",
    "        d) upper() & lower(): changes the case of the string\n",
    "        e) split(): splits a string into a list\n",
    "    "
   ]
  },
  {
   "cell_type": "code",
   "execution_count": 9,
   "metadata": {},
   "outputs": [
    {
     "name": "stdout",
     "output_type": "stream",
     "text": [
      "Hello World\n",
      "Hello World\n",
      "False\n",
      "['spam', 'eggs', 'ham']\n"
     ]
    }
   ],
   "source": [
    "print(\" \".join([\"Hello\",\"World\"]))\n",
    "print(\"Hello Me\".replace(\"Me\",\"World\"))\n",
    "print(\"Swaroop\".startswith(\"s\"))\n",
    "print(\"spam,eggs,ham\".split(\",\"))"
   ]
  },
  {
   "cell_type": "markdown",
   "metadata": {},
   "source": [
    "## 6. Lists :--\n",
    "\n",
    "    In a common way lists can be called arrays of Python Language.\n",
    "    \n",
    "    List functions:\n",
    "        a) append: adds an item to the end of the list\n",
    "        b) len: gives the length of a list\n",
    "        c) insert: insert an element at a specific position of the list\n",
    "        d) index: find the first occurence of an element in list\n",
    "        e) range: generates a sequential list of numbers"
   ]
  },
  {
   "cell_type": "code",
   "execution_count": 12,
   "metadata": {},
   "outputs": [
    {
     "name": "stdout",
     "output_type": "stream",
     "text": [
      "[1, 'swaroop', 8.25, 's']\n",
      "4\n"
     ]
    }
   ],
   "source": [
    "a=[1,\"swaroop\",8.25,\"s\"]   # List\n",
    "print(a)\n",
    "print(len(a))"
   ]
  },
  {
   "cell_type": "markdown",
   "metadata": {},
   "source": [
    "## 7. Tuples :--\n",
    "\n",
    "    Tuples are similar to lists except they are immutable(cannot change).\n",
    "    All list methods can also be used in tuples "
   ]
  },
  {
   "cell_type": "code",
   "execution_count": 14,
   "metadata": {},
   "outputs": [
    {
     "name": "stdout",
     "output_type": "stream",
     "text": [
      "two\n",
      "3\n"
     ]
    }
   ],
   "source": [
    "a=(\"one\",\"two\",\"three\")      # Tuple Syntax\n",
    "print(a[1])\n",
    "print(len(a))"
   ]
  },
  {
   "cell_type": "markdown",
   "metadata": {},
   "source": [
    "## 8. Sets :--\n",
    "\n",
    "    Sets are data structures similar to lists or dictionaries except they do not contain duplicate elements.\n",
    "    In sets the 'in' and 'len' functions can be used and sets cannot be indexed"
   ]
  },
  {
   "cell_type": "code",
   "execution_count": 15,
   "metadata": {},
   "outputs": [
    {
     "name": "stdout",
     "output_type": "stream",
     "text": [
      "5\n"
     ]
    }
   ],
   "source": [
    "number={1,2,3,4,5}          # SETs\n",
    "print(len(number))"
   ]
  },
  {
   "cell_type": "markdown",
   "metadata": {},
   "source": [
    "## 9. Dictionaries :--\n",
    "\n",
    "    These data structures are used to map arbitrary keys to values.A key should be an immutable object"
   ]
  },
  {
   "cell_type": "code",
   "execution_count": 19,
   "metadata": {},
   "outputs": [
    {
     "name": "stdout",
     "output_type": "stream",
     "text": [
      "20\n"
     ]
    }
   ],
   "source": [
    "a={\"Dave\":5,\"sks\":20,\"leon\":25}\n",
    "print(a[\"sks\"])"
   ]
  },
  {
   "cell_type": "markdown",
   "metadata": {},
   "source": [
    "## 10. Functions :--\n",
    "\n",
    "        In python a function can be defined by using def keyword"
   ]
  },
  {
   "cell_type": "code",
   "execution_count": 20,
   "metadata": {},
   "outputs": [
    {
     "name": "stdout",
     "output_type": "stream",
     "text": [
      "40\n"
     ]
    }
   ],
   "source": [
    "def add(a,b):\n",
    "    c=a+b\n",
    "    return c\n",
    "\n",
    "print(add(15,25))"
   ]
  },
  {
   "cell_type": "markdown",
   "metadata": {},
   "source": [
    "## 11. Lambdas :--\n",
    "\n",
    "        It is another method pf defining a function without using the def keyword"
   ]
  },
  {
   "cell_type": "code",
   "execution_count": 24,
   "metadata": {},
   "outputs": [
    {
     "name": "stdout",
     "output_type": "stream",
     "text": [
      "50\n"
     ]
    }
   ],
   "source": [
    "mul=lambda x:2*x*x\n",
    "print(mul(5))"
   ]
  },
  {
   "cell_type": "markdown",
   "metadata": {},
   "source": [
    "## 12. Conditionals :--\n",
    "\n",
    "        Most commonly used conditionals in python are:\n",
    "            i) if\n",
    "            ii) if else\n",
    "            iii) elif"
   ]
  },
  {
   "cell_type": "code",
   "execution_count": 25,
   "metadata": {},
   "outputs": [
    {
     "name": "stdout",
     "output_type": "stream",
     "text": [
      "Right\n"
     ]
    }
   ],
   "source": [
    "if(5<3):\n",
    "    print(\"Wrong\")\n",
    "elif(5<4):\n",
    "    print(\"Wrong\")\n",
    "else:\n",
    "    print(\"Right\")"
   ]
  },
  {
   "cell_type": "markdown",
   "metadata": {},
   "source": [
    "## 13. Operators :--\n",
    "\n",
    "    In-place operators -- +=,-=,*=,/=,%=\n",
    "    Comparison operators -- !=,<,>,<=,>=\n",
    "    Boolean opeartors -- true & false"
   ]
  },
  {
   "cell_type": "markdown",
   "metadata": {},
   "source": [
    "## 14. Loops :--\n",
    "\n",
    "        Python also supports the same old loops\n",
    "            i) do-while loop\n",
    "            ii) while loop\n",
    "            iii) for loop"
   ]
  },
  {
   "cell_type": "code",
   "execution_count": 29,
   "metadata": {},
   "outputs": [
    {
     "name": "stdout",
     "output_type": "stream",
     "text": [
      "10\n",
      "11\n",
      "12\n",
      "13\n",
      "14\n",
      "0\n",
      "1\n",
      "2\n",
      "3\n",
      "4\n"
     ]
    }
   ],
   "source": [
    "for i in range(0,5):           # For loop\n",
    "    print(i)\n",
    "    \n",
    "j=10                            # While loop\n",
    "while(j<15):\n",
    "    print(j)\n",
    "    j=j+1\n"
   ]
  },
  {
   "cell_type": "markdown",
   "metadata": {},
   "source": [
    "## 15. Modules :--\n",
    "\n",
    "        Modules are pieces of code that perform a specific task.\n",
    "        'import' keyword is used to import a module.\n",
    "        Some of the modules of standard library are -- re,math,json,sys,etc\n",
    "        If you want to import only some specific functions from a module then use this statement -\n",
    "        from math import sqrt"
   ]
  },
  {
   "cell_type": "code",
   "execution_count": 1,
   "metadata": {},
   "outputs": [
    {
     "name": "stdout",
     "output_type": "stream",
     "text": [
      "4.0\n"
     ]
    }
   ],
   "source": [
    "import math\n",
    "num=16\n",
    "print(math.sqrt(num))\n"
   ]
  },
  {
   "cell_type": "markdown",
   "metadata": {},
   "source": [
    "## 16. Classes, Constructors and objects :--\n",
    "\n",
    "        A class is a blue-print from which specific objects are created.\n",
    "        \n",
    "        Constructors are generally used for instantiating an object. Their main task is to initialize to the data members of the class when an object of the class is created. In python __init__() method is called the constructor and is always called when an object is created.\n",
    "        \n",
    "        An object is simply a collection of data (variables) and methods (functions) that act on the given data."
   ]
  },
  {
   "cell_type": "code",
   "execution_count": 8,
   "metadata": {},
   "outputs": [
    {
     "name": "stdout",
     "output_type": "stream",
     "text": [
      "10\n",
      "brown\n"
     ]
    }
   ],
   "source": [
    "# A CLASS\n",
    "class person:\n",
    "    \"This is a person class\"\n",
    "    age=10\n",
    "    \n",
    "    def greet(self):\n",
    "        print(\"Hello\")\n",
    "print(person.age)\n",
    "\n",
    "# CONSTRUCTOR\n",
    "class cat:\n",
    "    def __init__(self,color,legs):\n",
    "        self.color=color              # Defining the attributes of the default object created during the class creation\n",
    "        self.legs=legs\n",
    "        \n",
    "meow=cat(\"brown\",4)        # An object named as meow is created \n",
    "print(meow.color)        # Now all the properties of the object can be acessed "
   ]
  },
  {
   "cell_type": "markdown",
   "metadata": {},
   "source": [
    "## 17. Inheritance :--\n",
    "\n",
    "        Inheritance is a property in OOP in which a class inherits all the properties of another class."
   ]
  },
  {
   "cell_type": "code",
   "execution_count": 9,
   "metadata": {},
   "outputs": [
    {
     "name": "stdout",
     "output_type": "stream",
     "text": [
      "Brown\n",
      "Woof!\n"
     ]
    }
   ],
   "source": [
    "class animal:\n",
    "    def __init__(self,name,color):\n",
    "        self.name=name\n",
    "        self.color=color\n",
    "        \n",
    "class dog(animal):               # class dog inherits all the properties of class animal especially the constructor part\n",
    "    def bark(self):\n",
    "        print(\"Woof!\")\n",
    "\n",
    "fido=dog(\"Fido\",\"Brown\")\n",
    "print(fido.color)\n",
    "fido.bark()"
   ]
  },
  {
   "cell_type": "markdown",
   "metadata": {},
   "source": [
    "## 18. File Handling :--"
   ]
  },
  {
   "cell_type": "code",
   "execution_count": null,
   "metadata": {},
   "outputs": [],
   "source": [
    "file=open(\"path of file\",\"mode\")                       #opening a file\n",
    "file.close()                                           #closing a file\n",
    "file.readlines()                                       #reading the lines of the file\n",
    "file.read()                                            #normal reading\n",
    "file.write(\"Content to be written\")                    #writing on the file"
   ]
  }
 ],
 "metadata": {
  "kernelspec": {
   "display_name": "Python 3",
   "language": "python",
   "name": "python3"
  },
  "language_info": {
   "codemirror_mode": {
    "name": "ipython",
    "version": 3
   },
   "file_extension": ".py",
   "mimetype": "text/x-python",
   "name": "python",
   "nbconvert_exporter": "python",
   "pygments_lexer": "ipython3",
   "version": "3.8.2"
  }
 },
 "nbformat": 4,
 "nbformat_minor": 4
}
